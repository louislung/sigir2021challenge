{
 "cells": [
  {
   "cell_type": "code",
   "execution_count": 1,
   "metadata": {},
   "outputs": [
    {
     "name": "stdout",
     "output_type": "stream",
     "text": [
      "INFO: Pandarallel will run on 12 workers.\n",
      "INFO: Pandarallel will use Memory file system to transfer data between the main process and workers.\n"
     ]
    }
   ],
   "source": [
    "import pandas as pd\n",
    "import numpy as np\n",
    "import tensorflow as tf\n",
    "from tensorflow import keras\n",
    "from tensorflow.nn import leaky_relu\n",
    "from tensorflow.keras import layers, activations, losses, Model, Input\n",
    "from tensorflow.keras.utils import plot_model, Progbar\n",
    "from tensorflow.keras.callbacks import EarlyStopping, ModelCheckpoint\n",
    "from tensorflow.keras.metrics import SparseCategoricalAccuracy, SparseTopKCategoricalAccuracy\n",
    "# import tensorflow_ranking as tfr\n",
    "from sklearn.model_selection import train_test_split\n",
    "import os, time, gc, json, math, random, re\n",
    "from tqdm.notebook import tqdm, trange\n",
    "from matplotlib import pyplot as plt\n",
    "from joblib import Parallel, delayed\n",
    "from ast import literal_eval\n",
    "import multiprocessing\n",
    "import itertools\n",
    "from sklearn.metrics.pairwise import cosine_similarity, pairwise_kernels\n",
    "from itertools import combinations\n",
    "import matplotlib.pyplot as plt\n",
    "from scipy import ndimage\n",
    "import lightgbm as lgb\n",
    "from pandarallel import pandarallel\n",
    "pandarallel.initialize(progress_bar=True)\n",
    "\n",
    "\n",
    "fea_prod = ['product_sku_hash_id_lag5', 'product_sku_hash_id_lag4', 'product_sku_hash_id_lag3', \n",
    "            'product_sku_hash_id_lag2', 'product_sku_hash_id_lag1', 'product_sku_hash_id']\n",
    "fea_url = ['hashed_url_id_lag5', 'hashed_url_id_lag4', 'hashed_url_id_lag3', \n",
    "           'hashed_url_id_lag2', 'hashed_url_id_lag1', 'hashed_url_id']\n",
    "features = fea_prod + fea_url"
   ]
  },
  {
   "cell_type": "code",
   "execution_count": 54,
   "metadata": {},
   "outputs": [],
   "source": [
    "def str_to_list(x):\n",
    "        if not isinstance(x, str) and np.isnan(x):\n",
    "            return []\n",
    "        else:\n",
    "            return literal_eval(x)\n",
    "        \n",
    "def add_fea_using_matrix(df, matrix, suffix='_sim', col='product_sku_hash_id', keycol='target_sku'):\n",
    "    for c in [c for c in df.columns if (c.startswith(col) and bool(re.search('lag[0-9]*$', c))) or (c == col)]:\n",
    "        if c + suffix not in df.columns:\n",
    "            df[c + suffix] = matrix[df[c].astype(int), df[keycol].astype(int)]\n",
    "            print('created ' + c + suffix)\n",
    "\n",
    "@tf.function\n",
    "def get_topk_pred(model, x, topk=tf.constant(3)):\n",
    "    # this is for tf dataset version\n",
    "    y_pred = model(x, training=False)\n",
    "    col_to_zero = [naid, minorid]\n",
    "    tnsr_shape=tf.shape(y_pred['logits'])\n",
    "    mask = [tf.one_hot(col_num*tf.ones((tnsr_shape[0], ), dtype=tf.int32), tnsr_shape[-1]) for col_num in col_to_zero]\n",
    "    mask = tf.reduce_sum(mask, axis=0) * -9999\n",
    "    y_pred['logits'] = tf.add(y_pred['logits'], mask)\n",
    "    \n",
    "    # topk items' id for each session, 2d array\n",
    "    top = tf.math.top_k(y_pred['logits'], k=topk)\n",
    "    return top.indices, keras.activations.sigmoid(top.values)\n",
    "\n",
    "def explode(x):\n",
    "    if x.name in ['neg_sku_list','neg_sku_score']:\n",
    "        return pd.Series.explode(x)\n",
    "    else:\n",
    "        return x\n"
   ]
  },
  {
   "cell_type": "code",
   "execution_count": 48,
   "metadata": {},
   "outputs": [
    {
     "data": {
      "text/plain": [
       "0"
      ]
     },
     "execution_count": 48,
     "metadata": {},
     "output_type": "execute_result"
    }
   ],
   "source": [
    "# can simply reuse df_browse_v3_update\n",
    "df_browse = pd.read_parquet('df_browse_v3_update')\n",
    "# df_browse['sample_weights'] = pd.to_datetime(df_browse.server_day).dt.month\n",
    "\n",
    "skucate = df_browse.product_sku_hash.cat\n",
    "num_sku = df_browse.product_sku_hash_id_lag1.max() + 1\n",
    "num_url = df_browse.hashed_url_id_lag1.max() + 1\n",
    "\n",
    "# get num_x from x_lag1 because function create_shift_features\n",
    "# may created a new_id in lag columns\n",
    "naid = df_browse.product_sku_hash.cat.categories.tolist().index('_')\n",
    "minorid = df_browse.product_sku_hash.cat.categories.tolist().index('minority')\n",
    "\n",
    "# note this df_test is used for cal testing MRR later, \n",
    "# it is different from the df_test used for training\n",
    "if not os.path.exists('df_test_update8'):\n",
    "    df_test = df_browse[df_browse.train==0].copy()\n",
    "    df_test = df_test.loc[df_test.next_interacted_sku!=naid]\n",
    "    df_test.to_parquet('df_test_update8')\n",
    "    del df_test\n",
    "    gc.collect()\n",
    "\n",
    "if not os.path.exists('df_train_update8'):\n",
    "    df_train = df_browse[df_browse.train==1]\n",
    "    df_train = df_train[(df_train.next_sku!=naid)].reset_index(drop=True)\n",
    "    # include testing data into training\n",
    "    df_test = df_browse[df_browse.train==0]\n",
    "    df_test = df_test[(df_test.next_sku!=naid)].reset_index(drop=True)\n",
    "    \n",
    "    def strafiedkfold(df, idcol, k=5):\n",
    "        \"\"\"\n",
    "        sklearn kfold will do unnessary sorting\n",
    "        so build my own function\n",
    "        \"\"\"\n",
    "        df_kidx = df_train.session_id_hash.unique()\n",
    "        np.random.seed(123)\n",
    "        np.random.shuffle(df_kidx)\n",
    "        df_kidx = pd.DataFrame({idcol: df_kidx})\n",
    "        df_kidx['kfoldidx'] = df_kidx.index % k\n",
    "        df = df.merge(df_kidx, on=idcol, copy=False)\n",
    "        print(df['kfoldidx'].value_counts())\n",
    "        return df\n",
    "\n",
    "    df_train.drop(columns='kfoldidx', inplace=True)\n",
    "    df_test['kfoldidx'] = 1\n",
    "    df_train = strafiedkfold(df_train, 'session_id_hash', k=5)\n",
    "    df_train = pd.concat([df_train, df_test])\n",
    "    # x_train_weights = df_train.loc[df_train.kfoldidx!=0].sample_weights.reset_index(drop=True)\n",
    "    df_train.to_parquet('df_train_update8')\n",
    "\n",
    "    del df_test, df_train\n",
    "    gc.collect()\n",
    "\n",
    "if not os.path.exists('df_submission'):\n",
    "    df_submission = df_browse[df_browse.train==0]\n",
    "    df_submission = df_submission.groupby('session_id_hash').tail(1).reset_index(drop=True)\n",
    "    df_submission.to_parquet('df_submission')\n",
    "    gc.collect()\n",
    "    \n",
    "del df_browse\n",
    "gc.collect()"
   ]
  },
  {
   "cell_type": "markdown",
   "metadata": {},
   "source": [
    "# Resume Stage 1 model"
   ]
  },
  {
   "cell_type": "code",
   "execution_count": 4,
   "metadata": {
    "scrolled": true
   },
   "outputs": [
    {
     "name": "stdout",
     "output_type": "stream",
     "text": [
      "('Failed to import pydot. You must `pip install pydot` and install graphviz (https://graphviz.gitlab.io/download/), ', 'for `pydotprint` to work.')\n"
     ]
    }
   ],
   "source": [
    "# model architecture\n",
    "class MLP(Model):\n",
    "    def __init__(self, num_sku, num_url, embed_dim=312):\n",
    "        super().__init__()\n",
    "        \n",
    "        self.normal_init = keras.initializers.RandomNormal(mean=0., stddev=0.01)\n",
    "        \n",
    "        self.sku_embed = layers.Embedding(num_sku, embed_dim, self.normal_init)\n",
    "        self.url_embed = layers.Embedding(num_url, embed_dim, self.normal_init)\n",
    "        \n",
    "        self.dense1 = layers.Dense(1024)\n",
    "        self.norm1 = layers.BatchNormalization()\n",
    "        self.activate1 = layers.ReLU()\n",
    "        self.dropout1 = layers.Dropout(0.2)\n",
    "        \n",
    "        self.dense2 = layers.Dense(1024)\n",
    "        self.norm2 = layers.BatchNormalization()\n",
    "        self.activate2 = layers.ReLU()\n",
    "        self.dropout2 = layers.Dropout(0.2)\n",
    "        \n",
    "        self.dense3 = layers.Dense(embed_dim)\n",
    "        self.norm3 = layers.BatchNormalization()\n",
    "        self.activate3 = layers.ReLU(name='sess_embed')\n",
    "        self.dropout3 = layers.Dropout(0.2)\n",
    "        \n",
    "        self.output_bias = tf.random.normal((num_sku,), 0., 0.01)\n",
    "    \n",
    "    def call(self, inputs):\n",
    "        lag_sku, lag_url = inputs['sku'], inputs['url']\n",
    "        \n",
    "        sku_embed = layers.Flatten()(self.sku_embed(lag_sku))\n",
    "        url_embed = layers.Flatten()(self.url_embed(lag_url))\n",
    "        \n",
    "        x = layers.concatenate([sku_embed, url_embed])\n",
    "        x = self.activate1(self.norm1(self.dense1(x)))\n",
    "        x = self.dropout1(x)\n",
    "\n",
    "        x = self.activate2(self.norm2(self.dense2(x)))\n",
    "        x = self.dropout2(x)\n",
    "\n",
    "        sess_embed = self.activate3(self.norm3(self.dense3(x)))\n",
    "        x = self.dropout3(sess_embed)\n",
    "        \n",
    "        x = tf.matmul(x, tf.transpose(self.sku_embed.weights[0]))\n",
    "        logits = tf.nn.bias_add(x, self.output_bias, name='logits')\n",
    "\n",
    "        return {'logits': logits, 'embed': sess_embed}\n",
    "    \n",
    "    def build_graph(self):\n",
    "        x = {'sku': Input(shape=(6)), 'url': Input(shape=(6))}\n",
    "        return Model(inputs=x, outputs=self.call(x))\n",
    "    \n",
    "    def predict_subset(self, x, u, l):\n",
    "        _x = []\n",
    "        for i in range(len(x)):\n",
    "            _x.append(x[i][u:l])\n",
    "        return self.predict(_x)\n",
    "    \n",
    "keras.utils.plot_model(MLP(num_sku, num_url).build_graph(), show_shapes=False)"
   ]
  },
  {
   "cell_type": "code",
   "execution_count": 5,
   "metadata": {
    "scrolled": true
   },
   "outputs": [
    {
     "name": "stdout",
     "output_type": "stream",
     "text": [
      "WARNING:tensorflow:There are non-GPU devices in `tf.distribute.Strategy`, not using nccl allreduce.\n",
      "INFO:tensorflow:Using MirroredStrategy with devices ('/job:localhost/replica:0/task:0/device:CPU:0',)\n",
      "Number of devices: 1\n",
      "5/5 [==============================] - 6s 408ms/step - loss: 10.6874 - logits_loss: 10.6874 - logits_top1_acc: 0.0000e+00 - logits_top20_acc: 0.0000e+00\n"
     ]
    }
   ],
   "source": [
    "x_train_one = {'sku': np.random.randint(num_sku, size=(10, 6)), 'url': np.random.randint(num_url, size=(10, 6))}\n",
    "y_train_one = np.random.randint(num_sku,size=(10,))\n",
    "tf_train_one = tf.data.Dataset.from_tensor_slices((x_train_one, y_train_one)).batch(2)\n",
    "del x_train_one, y_train_one\n",
    "gc.collect()\n",
    "\n",
    "strategy = tf.distribute.MirroredStrategy()\n",
    "print('Number of devices: {}'.format(strategy.num_replicas_in_sync))\n",
    "\n",
    "with strategy.scope():\n",
    "    model_mlp = MLP(num_sku, num_url)\n",
    "    LossFunc = {'logits':keras.losses.SparseCategoricalCrossentropy(from_logits=True), 'embed':None}\n",
    "    metrics = {'logits': [keras.metrics.SparseCategoricalAccuracy(name='top1_acc'), \n",
    "                      keras.metrics.SparseTopKCategoricalAccuracy(k=20, name='top20_acc')]}\n",
    "    model_mlp.compile(optimizer='adam', loss=LossFunc, metrics=metrics)\n",
    "history = model_mlp.fit(tf_train_one, epochs=1)\n",
    "model_mlp.load_weights('model_update8.h5')"
   ]
  },
  {
   "cell_type": "markdown",
   "metadata": {},
   "source": [
    "# Ranking"
   ]
  },
  {
   "cell_type": "code",
   "execution_count": 94,
   "metadata": {},
   "outputs": [],
   "source": [
    "df_train = pd.read_parquet('df_train_update8')"
   ]
  },
  {
   "cell_type": "code",
   "execution_count": 95,
   "metadata": {},
   "outputs": [
    {
     "data": {
      "text/plain": [
       "(2040354, 37)"
      ]
     },
     "execution_count": 95,
     "metadata": {},
     "output_type": "execute_result"
    }
   ],
   "source": [
    "# todo: only testing data and validation to test the model for now\n",
    "df_train = df_train.loc[(df_train.train==0) | (df_train.kfoldidx==0)]\n",
    "df_train.shape"
   ]
  },
  {
   "cell_type": "code",
   "execution_count": 96,
   "metadata": {},
   "outputs": [],
   "source": [
    "df_train['idx'] = np.arange(df_train.shape[0])\n",
    "df_train['n'] = df_train.groupby('session_id_hash').cumcount()\n",
    "\n",
    "# each original record is treated as a query\n",
    "df_train['query_id'] = df_train['session_id_hash'] + '_' + df_train['n'].astype(str)"
   ]
  },
  {
   "cell_type": "code",
   "execution_count": 97,
   "metadata": {
    "scrolled": true
   },
   "outputs": [
    {
     "data": {
      "application/vnd.jupyter.widget-view+json": {
       "model_id": "bb25d659c4a240e78f0a0dc959c70718",
       "version_major": 2,
       "version_minor": 0
      },
      "text/plain": [
       "VBox(children=(HBox(children=(IntProgress(value=0, description='0.00%', max=170030), Label(value='0 / 170030')…"
      ]
     },
     "metadata": {},
     "output_type": "display_data"
    },
    {
     "name": "stdout",
     "output_type": "stream",
     "text": [
      "23.449233531951904\n"
     ]
    },
    {
     "data": {
      "text/plain": [
       "0"
      ]
     },
     "execution_count": 97,
     "metadata": {},
     "output_type": "execute_result"
    }
   ],
   "source": [
    "#\n",
    "# POSITIVE samples\n",
    "#\n",
    "s = time.time()\n",
    "\n",
    "# todo: get next 1 unique sku as pos samples for now\n",
    "tmp = df_train.groupby('session_id_hash')['next_sku'].agg(list).reset_index()\n",
    "tmp.columns = ['session_id_hash', 'pos_sku_list']\n",
    "df_train = df_train.merge(tmp, on='session_id_hash', how='left')\n",
    "\n",
    "def get_pos_sku_list(x):\n",
    "    items = x['pos_sku_list'][x['n']:(x['n'] + 1)]\n",
    "    # if items = [46639.0, 46639.0, 16598.0, 25232.0, 46639.0]\n",
    "    # return [46639, 16598, 25232] <- length depends on hard coded number above\n",
    "    return list(dict.fromkeys(items))\n",
    "\n",
    "df_train['pos_sku_list'] = df_train[['pos_sku_list','n']].parallel_apply(get_pos_sku_list, axis = 1)\n",
    "\n",
    "print(time.time()-s)\n",
    "\n",
    "del tmp\n",
    "gc.collect()"
   ]
  },
  {
   "cell_type": "code",
   "execution_count": 103,
   "metadata": {},
   "outputs": [
    {
     "name": "stdout",
     "output_type": "stream",
     "text": [
      "tf.Tensor(1000, shape=(), dtype=int32) 193.29622292518616\n",
      "12.037820100784302\n"
     ]
    },
    {
     "data": {
      "text/plain": [
       "106"
      ]
     },
     "execution_count": 103,
     "metadata": {},
     "output_type": "execute_result"
    }
   ],
   "source": [
    "#\n",
    "# NEGATIVE Samples\n",
    "#\n",
    "\n",
    "# get top k pred for each record\n",
    "batch_size = 2000\n",
    "tf_all = tf.data.Dataset.from_tensor_slices({'sku':df_train[fea_prod].values, 'url':df_train[fea_url].values}).batch(batch_size)\n",
    "dist_all = strategy.experimental_distribute_dataset(tf_all)\n",
    "\n",
    "# take around 200s\n",
    "s = time.time()\n",
    "\n",
    "neg_sku_list = []\n",
    "score_list = []\n",
    "i = tf.constant(0)\n",
    "#todo: rerank only top 20 for now\n",
    "topk = tf.constant(20)\n",
    "\n",
    "for x in dist_all:\n",
    "    _sku_ids, _scores = strategy.run(get_topk_pred, args=(model_mlp, x, topk))\n",
    "    score_list.append(_scores)\n",
    "    neg_sku_list.append(_sku_ids)\n",
    "    i += 1\n",
    "    if i % 1000 == 0:\n",
    "        print(i, time.time()-s)\n",
    "\n",
    "s= time.time()\n",
    "\n",
    "neg_sku_list = list(map(lambda x: list(map(list, x.numpy())), neg_sku_list))\n",
    "neg_sku_list = [item for sublist in neg_sku_list for item in sublist]\n",
    "\n",
    "score_list = list(map(lambda x: list(map(list, x.numpy())), score_list))\n",
    "score_list = [item for sublist in score_list for item in sublist]\n",
    "\n",
    "df_train['neg_sku_list'] = neg_sku_list\n",
    "df_train['neg_sku_score'] = score_list\n",
    "\n",
    "print(time.time()-s)\n",
    "\n",
    "del tf_all, dist_all\n",
    "gc.collect()"
   ]
  },
  {
   "cell_type": "code",
   "execution_count": 104,
   "metadata": {
    "scrolled": true
   },
   "outputs": [
    {
     "data": {
      "application/vnd.jupyter.widget-view+json": {
       "model_id": "4335f265918b409e83d6a3d64e9bdd65",
       "version_major": 2,
       "version_minor": 0
      },
      "text/plain": [
       "VBox(children=(HBox(children=(IntProgress(value=0, description='0.00%', max=170030), Label(value='0 / 170030')…"
      ]
     },
     "metadata": {},
     "output_type": "display_data"
    },
    {
     "name": "stdout",
     "output_type": "stream",
     "text": [
      "109.06918048858643\n"
     ]
    },
    {
     "data": {
      "text/plain": [
       "0"
      ]
     },
     "execution_count": 104,
     "metadata": {},
     "output_type": "execute_result"
    }
   ],
   "source": [
    "# remove queries if no pos sample in neg_sku_list\n",
    "s= time.time()\n",
    "\n",
    "def get_neg_sku_list(x):\n",
    "    items = x['pos_sku_list']\n",
    "    for i in items: \n",
    "        if i in x['neg_sku_list']:\n",
    "            return 1\n",
    "    return 0\n",
    "\n",
    "# further split it into \"chunk\"\n",
    "# because if df_train gets too large, pickle in parallel_apply takes too long\n",
    "chunk = 1\n",
    "interval = int(np.ceil(df_train.shape[0] / chunk))\n",
    "pos_in_neg_sku_list = []\n",
    "for j in range(chunk):\n",
    "    pos_in_neg_sku_list = pos_in_neg_sku_list + df_train.loc[(interval*j):(interval*(j+1)), ['neg_sku_list','pos_sku_list']].parallel_apply(get_neg_sku_list, axis = 1).tolist()\n",
    "    print(time.time()-s)\n",
    "\n",
    "df_train['pos_in_neg'] = pos_in_neg_sku_list\n",
    "df_train = df_train.loc[df_train.pos_in_neg==1]\n",
    "df_train.drop(columns='pos_in_neg', inplace=True)\n",
    "\n",
    "del neg_sku_list, pos_in_neg_sku_list\n",
    "gc.collect()"
   ]
  },
  {
   "cell_type": "code",
   "execution_count": 107,
   "metadata": {},
   "outputs": [],
   "source": [
    "# explode score and neg_sku_list\n",
    "df_train = df_train.apply(explode).reset_index(drop=True)"
   ]
  },
  {
   "cell_type": "code",
   "execution_count": 109,
   "metadata": {},
   "outputs": [],
   "source": [
    "df_train['target_sku'] = df_train['neg_sku_list']"
   ]
  },
  {
   "cell_type": "code",
   "execution_count": 110,
   "metadata": {
    "scrolled": true
   },
   "outputs": [
    {
     "data": {
      "application/vnd.jupyter.widget-view+json": {
       "model_id": "260801a104764f0ba799639ba114ce89",
       "version_major": 2,
       "version_minor": 0
      },
      "text/plain": [
       "VBox(children=(HBox(children=(IntProgress(value=0, description='0.00%', max=3004692), Label(value='0 / 3004692…"
      ]
     },
     "metadata": {},
     "output_type": "display_data"
    }
   ],
   "source": [
    "# add label for each sku\n",
    "# i indexed sku in pos_sku_list has score of len(pos_sku_list) - i\n",
    "def get_sku_label(x):\n",
    "    if x['target_sku'] not in x['pos_sku_list']:\n",
    "        return 0 \n",
    "    else:\n",
    "        pos_sku_list = list(x['pos_sku_list'])\n",
    "        return len(pos_sku_list) - pos_sku_list.index(x['target_sku'])\n",
    "\n",
    "df_train['label'] = df_train[['pos_sku_list','target_sku']].parallel_apply(lambda x: get_sku_label(x), axis = 1) "
   ]
  },
  {
   "cell_type": "code",
   "execution_count": 111,
   "metadata": {},
   "outputs": [],
   "source": [
    "df_train.drop(columns=['pos_sku_list','neg_sku_list'], inplace=True)"
   ]
  },
  {
   "cell_type": "code",
   "execution_count": 112,
   "metadata": {},
   "outputs": [
    {
     "data": {
      "text/html": [
       "<div>\n",
       "<style scoped>\n",
       "    .dataframe tbody tr th:only-of-type {\n",
       "        vertical-align: middle;\n",
       "    }\n",
       "\n",
       "    .dataframe tbody tr th {\n",
       "        vertical-align: top;\n",
       "    }\n",
       "\n",
       "    .dataframe thead th {\n",
       "        text-align: right;\n",
       "    }\n",
       "</style>\n",
       "<table border=\"1\" class=\"dataframe\">\n",
       "  <thead>\n",
       "    <tr style=\"text-align: right;\">\n",
       "      <th></th>\n",
       "      <th>session_id_hash</th>\n",
       "      <th>event_type</th>\n",
       "      <th>product_action</th>\n",
       "      <th>product_sku_hash</th>\n",
       "      <th>server_timestamp_epoch_ms</th>\n",
       "      <th>hashed_url</th>\n",
       "      <th>train</th>\n",
       "      <th>server_day</th>\n",
       "      <th>product_sku_hash_id</th>\n",
       "      <th>hashed_url_id</th>\n",
       "      <th>...</th>\n",
       "      <th>next_sku</th>\n",
       "      <th>next_interacted_sku</th>\n",
       "      <th>rand_id</th>\n",
       "      <th>kfoldidx</th>\n",
       "      <th>idx</th>\n",
       "      <th>n</th>\n",
       "      <th>query_id</th>\n",
       "      <th>neg_sku_score</th>\n",
       "      <th>target_sku</th>\n",
       "      <th>label</th>\n",
       "    </tr>\n",
       "  </thead>\n",
       "  <tbody>\n",
       "    <tr>\n",
       "      <th>0</th>\n",
       "      <td>0000481159d514ba59c3ccfa77c5767c9d14ac14e99232...</td>\n",
       "      <td>pageview</td>\n",
       "      <td>_</td>\n",
       "      <td>_</td>\n",
       "      <td>2019-03-29 19:16:25.830</td>\n",
       "      <td>4bea6285a7df7a717620b5705bd818dfc42a5a0de04f30...</td>\n",
       "      <td>1</td>\n",
       "      <td>2019-03-29</td>\n",
       "      <td>25402</td>\n",
       "      <td>70784</td>\n",
       "      <td>...</td>\n",
       "      <td>7067</td>\n",
       "      <td>7067.0</td>\n",
       "      <td>16</td>\n",
       "      <td>0</td>\n",
       "      <td>0</td>\n",
       "      <td>0</td>\n",
       "      <td>0000481159d514ba59c3ccfa77c5767c9d14ac14e99232...</td>\n",
       "      <td>0.546782</td>\n",
       "      <td>32766</td>\n",
       "      <td>0</td>\n",
       "    </tr>\n",
       "    <tr>\n",
       "      <th>1</th>\n",
       "      <td>0000481159d514ba59c3ccfa77c5767c9d14ac14e99232...</td>\n",
       "      <td>pageview</td>\n",
       "      <td>_</td>\n",
       "      <td>_</td>\n",
       "      <td>2019-03-29 19:16:25.830</td>\n",
       "      <td>4bea6285a7df7a717620b5705bd818dfc42a5a0de04f30...</td>\n",
       "      <td>1</td>\n",
       "      <td>2019-03-29</td>\n",
       "      <td>25402</td>\n",
       "      <td>70784</td>\n",
       "      <td>...</td>\n",
       "      <td>7067</td>\n",
       "      <td>7067.0</td>\n",
       "      <td>16</td>\n",
       "      <td>0</td>\n",
       "      <td>0</td>\n",
       "      <td>0</td>\n",
       "      <td>0000481159d514ba59c3ccfa77c5767c9d14ac14e99232...</td>\n",
       "      <td>0.513361</td>\n",
       "      <td>2983</td>\n",
       "      <td>0</td>\n",
       "    </tr>\n",
       "    <tr>\n",
       "      <th>2</th>\n",
       "      <td>0000481159d514ba59c3ccfa77c5767c9d14ac14e99232...</td>\n",
       "      <td>pageview</td>\n",
       "      <td>_</td>\n",
       "      <td>_</td>\n",
       "      <td>2019-03-29 19:16:25.830</td>\n",
       "      <td>4bea6285a7df7a717620b5705bd818dfc42a5a0de04f30...</td>\n",
       "      <td>1</td>\n",
       "      <td>2019-03-29</td>\n",
       "      <td>25402</td>\n",
       "      <td>70784</td>\n",
       "      <td>...</td>\n",
       "      <td>7067</td>\n",
       "      <td>7067.0</td>\n",
       "      <td>16</td>\n",
       "      <td>0</td>\n",
       "      <td>0</td>\n",
       "      <td>0</td>\n",
       "      <td>0000481159d514ba59c3ccfa77c5767c9d14ac14e99232...</td>\n",
       "      <td>0.44678</td>\n",
       "      <td>5093</td>\n",
       "      <td>0</td>\n",
       "    </tr>\n",
       "    <tr>\n",
       "      <th>3</th>\n",
       "      <td>0000481159d514ba59c3ccfa77c5767c9d14ac14e99232...</td>\n",
       "      <td>pageview</td>\n",
       "      <td>_</td>\n",
       "      <td>_</td>\n",
       "      <td>2019-03-29 19:16:25.830</td>\n",
       "      <td>4bea6285a7df7a717620b5705bd818dfc42a5a0de04f30...</td>\n",
       "      <td>1</td>\n",
       "      <td>2019-03-29</td>\n",
       "      <td>25402</td>\n",
       "      <td>70784</td>\n",
       "      <td>...</td>\n",
       "      <td>7067</td>\n",
       "      <td>7067.0</td>\n",
       "      <td>16</td>\n",
       "      <td>0</td>\n",
       "      <td>0</td>\n",
       "      <td>0</td>\n",
       "      <td>0000481159d514ba59c3ccfa77c5767c9d14ac14e99232...</td>\n",
       "      <td>0.42498</td>\n",
       "      <td>7067</td>\n",
       "      <td>1</td>\n",
       "    </tr>\n",
       "    <tr>\n",
       "      <th>4</th>\n",
       "      <td>0000481159d514ba59c3ccfa77c5767c9d14ac14e99232...</td>\n",
       "      <td>pageview</td>\n",
       "      <td>_</td>\n",
       "      <td>_</td>\n",
       "      <td>2019-03-29 19:16:25.830</td>\n",
       "      <td>4bea6285a7df7a717620b5705bd818dfc42a5a0de04f30...</td>\n",
       "      <td>1</td>\n",
       "      <td>2019-03-29</td>\n",
       "      <td>25402</td>\n",
       "      <td>70784</td>\n",
       "      <td>...</td>\n",
       "      <td>7067</td>\n",
       "      <td>7067.0</td>\n",
       "      <td>16</td>\n",
       "      <td>0</td>\n",
       "      <td>0</td>\n",
       "      <td>0</td>\n",
       "      <td>0000481159d514ba59c3ccfa77c5767c9d14ac14e99232...</td>\n",
       "      <td>0.405417</td>\n",
       "      <td>16570</td>\n",
       "      <td>0</td>\n",
       "    </tr>\n",
       "  </tbody>\n",
       "</table>\n",
       "<p>5 rows × 43 columns</p>\n",
       "</div>"
      ],
      "text/plain": [
       "                                     session_id_hash event_type  \\\n",
       "0  0000481159d514ba59c3ccfa77c5767c9d14ac14e99232...   pageview   \n",
       "1  0000481159d514ba59c3ccfa77c5767c9d14ac14e99232...   pageview   \n",
       "2  0000481159d514ba59c3ccfa77c5767c9d14ac14e99232...   pageview   \n",
       "3  0000481159d514ba59c3ccfa77c5767c9d14ac14e99232...   pageview   \n",
       "4  0000481159d514ba59c3ccfa77c5767c9d14ac14e99232...   pageview   \n",
       "\n",
       "  product_action product_sku_hash server_timestamp_epoch_ms  \\\n",
       "0              _                _   2019-03-29 19:16:25.830   \n",
       "1              _                _   2019-03-29 19:16:25.830   \n",
       "2              _                _   2019-03-29 19:16:25.830   \n",
       "3              _                _   2019-03-29 19:16:25.830   \n",
       "4              _                _   2019-03-29 19:16:25.830   \n",
       "\n",
       "                                          hashed_url  train  server_day  \\\n",
       "0  4bea6285a7df7a717620b5705bd818dfc42a5a0de04f30...      1  2019-03-29   \n",
       "1  4bea6285a7df7a717620b5705bd818dfc42a5a0de04f30...      1  2019-03-29   \n",
       "2  4bea6285a7df7a717620b5705bd818dfc42a5a0de04f30...      1  2019-03-29   \n",
       "3  4bea6285a7df7a717620b5705bd818dfc42a5a0de04f30...      1  2019-03-29   \n",
       "4  4bea6285a7df7a717620b5705bd818dfc42a5a0de04f30...      1  2019-03-29   \n",
       "\n",
       "   product_sku_hash_id  hashed_url_id  ...  next_sku  next_interacted_sku  \\\n",
       "0                25402          70784  ...      7067               7067.0   \n",
       "1                25402          70784  ...      7067               7067.0   \n",
       "2                25402          70784  ...      7067               7067.0   \n",
       "3                25402          70784  ...      7067               7067.0   \n",
       "4                25402          70784  ...      7067               7067.0   \n",
       "\n",
       "   rand_id  kfoldidx  idx  n  \\\n",
       "0       16         0    0  0   \n",
       "1       16         0    0  0   \n",
       "2       16         0    0  0   \n",
       "3       16         0    0  0   \n",
       "4       16         0    0  0   \n",
       "\n",
       "                                            query_id  neg_sku_score  \\\n",
       "0  0000481159d514ba59c3ccfa77c5767c9d14ac14e99232...       0.546782   \n",
       "1  0000481159d514ba59c3ccfa77c5767c9d14ac14e99232...       0.513361   \n",
       "2  0000481159d514ba59c3ccfa77c5767c9d14ac14e99232...        0.44678   \n",
       "3  0000481159d514ba59c3ccfa77c5767c9d14ac14e99232...        0.42498   \n",
       "4  0000481159d514ba59c3ccfa77c5767c9d14ac14e99232...       0.405417   \n",
       "\n",
       "   target_sku  label  \n",
       "0       32766      0  \n",
       "1        2983      0  \n",
       "2        5093      0  \n",
       "3        7067      1  \n",
       "4       16570      0  \n",
       "\n",
       "[5 rows x 43 columns]"
      ]
     },
     "execution_count": 112,
     "metadata": {},
     "output_type": "execute_result"
    }
   ],
   "source": [
    "df_train.head()"
   ]
  },
  {
   "cell_type": "code",
   "execution_count": 113,
   "metadata": {
    "scrolled": true
   },
   "outputs": [],
   "source": [
    "#\n",
    "# Prepare item by item matrix\n",
    "# 1. sku similarity\n",
    "# 2. description similarity\n",
    "# 3. same category\n",
    "# 4. same price\n",
    "# 5. image similarity\n",
    "#\n",
    "\n",
    "if not os.path.exists('sku_sim_update8.npy'):\n",
    "    print('creating sku_sim')\n",
    "    sku_embed = model_mlp.sku_embed.get_weights()[0]\n",
    "    sku_sim = pairwise_kernels(sku_embed, sku_embed, metric='cosine', n_jobs=-1)\n",
    "    np.save('sku_sim_update8', sku_sim)\n",
    "    del sku_embed, sku_sim\n",
    "    gc.collect()\n",
    "    \n",
    "if not os.path.exists('desc_sim_update8.npy') or not os.path.exists('img_sim_update8.npy') or not os.path.exists('cate_same_update8.npy') or not os.path.exists('price_same_update8.npy'):\n",
    "    df_sku = pd.read_csv(\"./data/sku_to_content.csv\")\n",
    "    df_sku['description_vector_l'] = df_sku.description_vector.apply(str_to_list)\n",
    "    df_sku['image_vector_l'] = df_sku.image_vector.apply(str_to_list)\n",
    "    \n",
    "    # cate and price of each sku\n",
    "    df_skuid_cate_price = pd.DataFrame(skucate.categories)\n",
    "    df_skuid_cate_price.columns = ['product_sku_hash']\n",
    "    df_skuid_cate_price = df_skuid_cate_price.merge(df_sku[['product_sku_hash', 'category_hash', 'price_bucket']], how='left', on='product_sku_hash')\n",
    "    assert df_skuid_cate_price.shape[0] == num_sku, 'more than 1 cate or price for some skus'\n",
    "\n",
    "    # get desc/img embed\n",
    "    def get_descimg_embed(idx, col='description_vector_l'):\n",
    "        try:\n",
    "            sku = skucate.categories[idx]\n",
    "            embed = df_sku[col][df_sku.product_sku_hash==sku].values[0]\n",
    "            if len(embed) == 0:\n",
    "                return np.zeros(50)\n",
    "            else:\n",
    "                return embed\n",
    "        except (IndexError, ValueError):\n",
    "            return np.zeros(50)\n",
    "            \n",
    "    if not os.path.exists('desc_sim_update8.npy'):\n",
    "        print('creating desc_sim')\n",
    "        desc_embed = Parallel(n_jobs=multiprocessing.cpu_count(), backend='multiprocessing')(delayed(get_descimg_embed)(i) for i in trange(num_sku))\n",
    "        desc_embed = np.array(desc_embed)\n",
    "        desc_sim = pairwise_kernels(desc_embed, desc_embed, metric='cosine', n_jobs=-1)\n",
    "        desc_sim = desc_sim.astype(np.float32)\n",
    "        np.save('desc_sim_update8', desc_sim)\n",
    "        del desc_embed, desc_sim\n",
    "        gc.collect()\n",
    "    \n",
    "    if not os.path.exists('img_sim_update8.npy'):\n",
    "        print('creating img_sim')\n",
    "        img_embed = Parallel(n_jobs=multiprocessing.cpu_count(), backend='multiprocessing')(delayed(get_descimg_embed)(i, 'image_vector_l') for i in trange(num_sku))\n",
    "        img_embed = np.array(img_embed)\n",
    "        img_sim = pairwise_kernels(img_embed, img_embed, metric='cosine', n_jobs=-1)\n",
    "        img_sim = img_sim.astype(np.float32)\n",
    "        np.save('img_sim_update8', img_sim)\n",
    "        del img_embed, img_sim\n",
    "        gc.collect()\n",
    "     \n",
    "    if not os.path.exists('cate_same_update8.npy'):\n",
    "        print('creating cate_same')\n",
    "        cate_same = np.array(df_skuid_cate_price.category_hash)\n",
    "        cate_same = (cate_same == np.expand_dims(cate_same, 1)).astype(np.int8)\n",
    "        np.save('cate_same_update8', cate_same)\n",
    "        del cate_same\n",
    "        gc.collect()\n",
    "    \n",
    "    if not os.path.exists('price_same_update8.npy'):\n",
    "        print('creating price_same')\n",
    "        price_same = np.array(df_skuid_cate_price.category_hash)\n",
    "        price_same = (price_same == np.expand_dims(price_same, 1)).astype(np.int8)\n",
    "        np.save('price_same_update8', price_same)\n",
    "        del price_same\n",
    "        gc.collect()\n",
    "    \n",
    "    del df_skuid_cate_price, df_sku\n",
    "    gc.collect()\n",
    "    "
   ]
  },
  {
   "cell_type": "code",
   "execution_count": 114,
   "metadata": {},
   "outputs": [
    {
     "name": "stdout",
     "output_type": "stream",
     "text": [
      "created product_sku_hash_id_sim\n",
      "created product_sku_hash_id_lag1_sim\n",
      "created product_sku_hash_id_lag2_sim\n",
      "created product_sku_hash_id_lag3_sim\n",
      "created product_sku_hash_id_lag4_sim\n",
      "created product_sku_hash_id_lag5_sim\n",
      "created product_sku_hash_id_descsim\n",
      "created product_sku_hash_id_lag1_descsim\n",
      "created product_sku_hash_id_lag2_descsim\n",
      "created product_sku_hash_id_lag3_descsim\n",
      "created product_sku_hash_id_lag4_descsim\n",
      "created product_sku_hash_id_lag5_descsim\n",
      "created product_sku_hash_id_imgsim\n",
      "created product_sku_hash_id_lag1_imgsim\n",
      "created product_sku_hash_id_lag2_imgsim\n",
      "created product_sku_hash_id_lag3_imgsim\n",
      "created product_sku_hash_id_lag4_imgsim\n",
      "created product_sku_hash_id_lag5_imgsim\n",
      "created product_sku_hash_id_catesame\n",
      "created product_sku_hash_id_lag1_catesame\n",
      "created product_sku_hash_id_lag2_catesame\n",
      "created product_sku_hash_id_lag3_catesame\n",
      "created product_sku_hash_id_lag4_catesame\n",
      "created product_sku_hash_id_lag5_catesame\n",
      "created product_sku_hash_id_pricesame\n",
      "created product_sku_hash_id_lag1_pricesame\n",
      "created product_sku_hash_id_lag2_pricesame\n",
      "created product_sku_hash_id_lag3_pricesame\n",
      "created product_sku_hash_id_lag4_pricesame\n",
      "created product_sku_hash_id_lag5_pricesame\n"
     ]
    }
   ],
   "source": [
    "# add features\n",
    "for matrix, suffix in zip(*[('sku_sim','desc_sim','img_sim','cate_same','price_same'),('_sim','_descsim','_imgsim','_catesame','_pricesame')]):\n",
    "    matrix = np.load(matrix + '_update8.npy')\n",
    "    add_fea_using_matrix(df_train, matrix, suffix, 'product_sku_hash_id', 'target_sku')\n",
    "    del matrix\n",
    "    gc.collect()"
   ]
  },
  {
   "cell_type": "code",
   "execution_count": 7,
   "metadata": {},
   "outputs": [],
   "source": [
    "df_train.to_parquet('df_train_final_udpate8')\n",
    "# df_train = pd.read_parquet('df_train_final_udpate8')"
   ]
  },
  {
   "cell_type": "code",
   "execution_count": 8,
   "metadata": {},
   "outputs": [
    {
     "data": {
      "text/plain": [
       "Index(['session_id_hash', 'event_type', 'product_action', 'product_sku_hash',\n",
       "       'server_timestamp_epoch_ms', 'hashed_url', 'train', 'server_day',\n",
       "       'product_sku_hash_id', 'hashed_url_id', 'event_type_id',\n",
       "       'product_action_id', 'product_sku_hash_id_lag1',\n",
       "       'product_sku_hash_id_lag2', 'product_sku_hash_id_lag3',\n",
       "       'product_sku_hash_id_lag4', 'product_sku_hash_id_lag5',\n",
       "       'hashed_url_id_lag1', 'hashed_url_id_lag2', 'hashed_url_id_lag3',\n",
       "       'hashed_url_id_lag4', 'hashed_url_id_lag5', 'event_type_id_lag1',\n",
       "       'event_type_id_lag2', 'event_type_id_lag3', 'event_type_id_lag4',\n",
       "       'event_type_id_lag5', 'product_action_id_lag1',\n",
       "       'product_action_id_lag2', 'product_action_id_lag3',\n",
       "       'product_action_id_lag4', 'product_action_id_lag5', 'sess_step',\n",
       "       'next_sku', 'next_interacted_sku', 'rand_id', 'kfoldidx', 'idx', 'n',\n",
       "       'query_id', 'neg_sku_score', 'target_sku', 'label',\n",
       "       'product_sku_hash_id_sim', 'product_sku_hash_id_lag1_sim',\n",
       "       'product_sku_hash_id_lag2_sim', 'product_sku_hash_id_lag3_sim',\n",
       "       'product_sku_hash_id_lag4_sim', 'product_sku_hash_id_lag5_sim',\n",
       "       'product_sku_hash_id_descsim', 'product_sku_hash_id_lag1_descsim',\n",
       "       'product_sku_hash_id_lag2_descsim', 'product_sku_hash_id_lag3_descsim',\n",
       "       'product_sku_hash_id_lag4_descsim', 'product_sku_hash_id_lag5_descsim',\n",
       "       'product_sku_hash_id_imgsim', 'product_sku_hash_id_lag1_imgsim',\n",
       "       'product_sku_hash_id_lag2_imgsim', 'product_sku_hash_id_lag3_imgsim',\n",
       "       'product_sku_hash_id_lag4_imgsim', 'product_sku_hash_id_lag5_imgsim',\n",
       "       'product_sku_hash_id_catesame', 'product_sku_hash_id_lag1_catesame',\n",
       "       'product_sku_hash_id_lag2_catesame',\n",
       "       'product_sku_hash_id_lag3_catesame',\n",
       "       'product_sku_hash_id_lag4_catesame',\n",
       "       'product_sku_hash_id_lag5_catesame', 'product_sku_hash_id_pricesame',\n",
       "       'product_sku_hash_id_lag1_pricesame',\n",
       "       'product_sku_hash_id_lag2_pricesame',\n",
       "       'product_sku_hash_id_lag3_pricesame',\n",
       "       'product_sku_hash_id_lag4_pricesame',\n",
       "       'product_sku_hash_id_lag5_pricesame'],\n",
       "      dtype='object')"
      ]
     },
     "execution_count": 8,
     "metadata": {},
     "output_type": "execute_result"
    }
   ],
   "source": [
    "df_train.columns"
   ]
  },
  {
   "cell_type": "code",
   "execution_count": 9,
   "metadata": {},
   "outputs": [],
   "source": [
    "fea_lambdarank = [\n",
    "    'product_sku_hash_id_sim', 'product_sku_hash_id_lag1_sim',\n",
    "    'product_sku_hash_id_lag2_sim', 'product_sku_hash_id_lag3_sim',\n",
    "    'product_sku_hash_id_lag4_sim', 'product_sku_hash_id_lag5_sim',\n",
    "    'product_sku_hash_id_descsim', 'product_sku_hash_id_lag1_descsim',\n",
    "    'product_sku_hash_id_lag2_descsim', 'product_sku_hash_id_lag3_descsim',\n",
    "    'product_sku_hash_id_lag4_descsim', 'product_sku_hash_id_lag5_descsim',\n",
    "    'product_sku_hash_id_imgsim', 'product_sku_hash_id_lag1_imgsim',\n",
    "    'product_sku_hash_id_lag2_imgsim', 'product_sku_hash_id_lag3_imgsim',\n",
    "    'product_sku_hash_id_lag4_imgsim', 'product_sku_hash_id_lag5_imgsim',\n",
    "    'product_sku_hash_id_catesame', 'product_sku_hash_id_lag1_catesame',\n",
    "    'product_sku_hash_id_lag2_catesame',\n",
    "    'product_sku_hash_id_lag3_catesame',\n",
    "    'product_sku_hash_id_lag4_catesame',\n",
    "    'product_sku_hash_id_lag5_catesame', 'product_sku_hash_id_pricesame',\n",
    "    'product_sku_hash_id_lag1_pricesame',\n",
    "    'product_sku_hash_id_lag2_pricesame',\n",
    "    'product_sku_hash_id_lag3_pricesame',\n",
    "    'product_sku_hash_id_lag4_pricesame',\n",
    "    'product_sku_hash_id_lag5_pricesame',\n",
    "    'neg_sku_score'\n",
    "]"
   ]
  },
  {
   "cell_type": "code",
   "execution_count": 10,
   "metadata": {},
   "outputs": [],
   "source": [
    "dtrain_x = df_train.loc[df_train.kfoldidx!=0, fea_lambdarank].values\n",
    "dval_x = df_train.loc[df_train.kfoldidx==0, fea_lambdarank].values"
   ]
  },
  {
   "cell_type": "code",
   "execution_count": 11,
   "metadata": {},
   "outputs": [],
   "source": [
    "dtrain_group = df_train.loc[df_train.kfoldidx!=0].groupby('query_id')['query_id'].count().values\n",
    "dval_group = df_train.loc[df_train.kfoldidx==0].groupby('query_id')['query_id'].count().values"
   ]
  },
  {
   "cell_type": "code",
   "execution_count": 12,
   "metadata": {},
   "outputs": [],
   "source": [
    "df_train['label'] = df_train['label'].astype(int)\n",
    "dtrain_y = df_train.loc[df_train.kfoldidx!=0, 'label'].values\n",
    "dval_y = df_train.loc[df_train.kfoldidx==0, 'label'].values"
   ]
  },
  {
   "cell_type": "code",
   "execution_count": 13,
   "metadata": {},
   "outputs": [
    {
     "data": {
      "text/plain": [
       "<lightgbm.basic.Dataset at 0x7f4afe8e9c90>"
      ]
     },
     "execution_count": 13,
     "metadata": {},
     "output_type": "execute_result"
    }
   ],
   "source": [
    "# dtrain_weights = pd.to_datetime(df_train.loc[df_train.kfoldidx!=0, 'server_day']).dt.month.values\n",
    "# dtrain_weights\n",
    "# lgb_train = lgb.Dataset(dtrain_x, dtrain_y, weight=dtrain_weights, group=dtrain_group, free_raw_data=False)\n",
    "lgb_train = lgb.Dataset(dtrain_x, dtrain_y, group=dtrain_group, free_raw_data=False)\n",
    "lgb_train.set_group(dtrain_group)\n"
   ]
  },
  {
   "cell_type": "code",
   "execution_count": 14,
   "metadata": {},
   "outputs": [
    {
     "data": {
      "text/plain": [
       "<lightgbm.basic.Dataset at 0x7f4be4209d50>"
      ]
     },
     "execution_count": 14,
     "metadata": {},
     "output_type": "execute_result"
    }
   ],
   "source": [
    "lgb_val = lgb.Dataset(dval_x, dval_y, group=dval_group, free_raw_data=False)\n",
    "lgb_val.set_group(dval_group)\n"
   ]
  },
  {
   "cell_type": "code",
   "execution_count": 36,
   "metadata": {
    "scrolled": true
   },
   "outputs": [
    {
     "name": "stdout",
     "output_type": "stream",
     "text": [
      "[LightGBM] [Warning] Auto-choosing row-wise multi-threading, the overhead of testing was 0.110208 seconds.\n",
      "You can set `force_row_wise=true` to remove the overhead.\n",
      "And if memory is not enough, you can set `force_col_wise=true`.\n",
      "[LightGBM] [Info] Total Bins 4888\n",
      "[LightGBM] [Info] Number of data points in the train set: 2866600, number of used features: 31\n",
      "[1]\tvalid_0's ndcg@1: 0.611398\tvalid_0's ndcg@5: 0.75683\tvalid_0's ndcg@20: 0.791801\n",
      "Training until validation scores don't improve for 100 rounds\n",
      "[2]\tvalid_0's ndcg@1: 0.209757\tvalid_0's ndcg@5: 0.39636\tvalid_0's ndcg@20: 0.518146\n",
      "[3]\tvalid_0's ndcg@1: 0.203467\tvalid_0's ndcg@5: 0.39594\tvalid_0's ndcg@20: 0.516498\n",
      "[4]\tvalid_0's ndcg@1: 0.531635\tvalid_0's ndcg@5: 0.680703\tvalid_0's ndcg@20: 0.734301\n",
      "[5]\tvalid_0's ndcg@1: 0.512482\tvalid_0's ndcg@5: 0.675343\tvalid_0's ndcg@20: 0.728128\n",
      "[6]\tvalid_0's ndcg@1: 0.501426\tvalid_0's ndcg@5: 0.674261\tvalid_0's ndcg@20: 0.725538\n",
      "[7]\tvalid_0's ndcg@1: 0.495694\tvalid_0's ndcg@5: 0.67376\tvalid_0's ndcg@20: 0.724295\n",
      "[8]\tvalid_0's ndcg@1: 0.48971\tvalid_0's ndcg@5: 0.671205\tvalid_0's ndcg@20: 0.721683\n",
      "[9]\tvalid_0's ndcg@1: 0.483962\tvalid_0's ndcg@5: 0.668325\tvalid_0's ndcg@20: 0.718999\n",
      "[10]\tvalid_0's ndcg@1: 0.568353\tvalid_0's ndcg@5: 0.731485\tvalid_0's ndcg@20: 0.769835\n",
      "[11]\tvalid_0's ndcg@1: 0.611232\tvalid_0's ndcg@5: 0.759121\tvalid_0's ndcg@20: 0.793072\n",
      "[12]\tvalid_0's ndcg@1: 0.637795\tvalid_0's ndcg@5: 0.773856\tvalid_0's ndcg@20: 0.806129\n",
      "[13]\tvalid_0's ndcg@1: 0.656953\tvalid_0's ndcg@5: 0.785541\tvalid_0's ndcg@20: 0.816125\n",
      "[14]\tvalid_0's ndcg@1: 0.668807\tvalid_0's ndcg@5: 0.791804\tvalid_0's ndcg@20: 0.821799\n",
      "[15]\tvalid_0's ndcg@1: 0.666009\tvalid_0's ndcg@5: 0.790457\tvalid_0's ndcg@20: 0.820606\n",
      "[16]\tvalid_0's ndcg@1: 0.678953\tvalid_0's ndcg@5: 0.798752\tvalid_0's ndcg@20: 0.827584\n",
      "[17]\tvalid_0's ndcg@1: 0.682394\tvalid_0's ndcg@5: 0.798196\tvalid_0's ndcg@20: 0.827869\n",
      "[18]\tvalid_0's ndcg@1: 0.686451\tvalid_0's ndcg@5: 0.801683\tvalid_0's ndcg@20: 0.830605\n",
      "[19]\tvalid_0's ndcg@1: 0.684802\tvalid_0's ndcg@5: 0.801109\tvalid_0's ndcg@20: 0.829995\n",
      "[20]\tvalid_0's ndcg@1: 0.684659\tvalid_0's ndcg@5: 0.801014\tvalid_0's ndcg@20: 0.829912\n",
      "[21]\tvalid_0's ndcg@1: 0.680992\tvalid_0's ndcg@5: 0.799555\tvalid_0's ndcg@20: 0.82845\n",
      "[22]\tvalid_0's ndcg@1: 0.68038\tvalid_0's ndcg@5: 0.799347\tvalid_0's ndcg@20: 0.828217\n",
      "[23]\tvalid_0's ndcg@1: 0.677225\tvalid_0's ndcg@5: 0.797921\tvalid_0's ndcg@20: 0.826826\n",
      "[24]\tvalid_0's ndcg@1: 0.684517\tvalid_0's ndcg@5: 0.802217\tvalid_0's ndcg@20: 0.830576\n",
      "[25]\tvalid_0's ndcg@1: 0.68401\tvalid_0's ndcg@5: 0.802006\tvalid_0's ndcg@20: 0.830368\n",
      "[26]\tvalid_0's ndcg@1: 0.682944\tvalid_0's ndcg@5: 0.801536\tvalid_0's ndcg@20: 0.829879\n",
      "[27]\tvalid_0's ndcg@1: 0.688261\tvalid_0's ndcg@5: 0.804854\tvalid_0's ndcg@20: 0.832729\n",
      "[28]\tvalid_0's ndcg@1: 0.693103\tvalid_0's ndcg@5: 0.807575\tvalid_0's ndcg@20: 0.83512\n",
      "[29]\tvalid_0's ndcg@1: 0.692781\tvalid_0's ndcg@5: 0.80746\tvalid_0's ndcg@20: 0.835001\n",
      "[30]\tvalid_0's ndcg@1: 0.69259\tvalid_0's ndcg@5: 0.807395\tvalid_0's ndcg@20: 0.834917\n",
      "[31]\tvalid_0's ndcg@1: 0.69213\tvalid_0's ndcg@5: 0.807145\tvalid_0's ndcg@20: 0.834704\n",
      "[32]\tvalid_0's ndcg@1: 0.69621\tvalid_0's ndcg@5: 0.809691\tvalid_0's ndcg@20: 0.836871\n",
      "[33]\tvalid_0's ndcg@1: 0.695816\tvalid_0's ndcg@5: 0.809458\tvalid_0's ndcg@20: 0.83666\n",
      "[34]\tvalid_0's ndcg@1: 0.696938\tvalid_0's ndcg@5: 0.809584\tvalid_0's ndcg@20: 0.836927\n",
      "[35]\tvalid_0's ndcg@1: 0.696757\tvalid_0's ndcg@5: 0.809454\tvalid_0's ndcg@20: 0.836812\n",
      "[36]\tvalid_0's ndcg@1: 0.696378\tvalid_0's ndcg@5: 0.809323\tvalid_0's ndcg@20: 0.836665\n",
      "[37]\tvalid_0's ndcg@1: 0.696065\tvalid_0's ndcg@5: 0.809179\tvalid_0's ndcg@20: 0.836523\n",
      "[38]\tvalid_0's ndcg@1: 0.698168\tvalid_0's ndcg@5: 0.810865\tvalid_0's ndcg@20: 0.837881\n",
      "[39]\tvalid_0's ndcg@1: 0.697469\tvalid_0's ndcg@5: 0.810551\tvalid_0's ndcg@20: 0.837588\n",
      "[40]\tvalid_0's ndcg@1: 0.696919\tvalid_0's ndcg@5: 0.810303\tvalid_0's ndcg@20: 0.837358\n",
      "[41]\tvalid_0's ndcg@1: 0.696782\tvalid_0's ndcg@5: 0.810259\tvalid_0's ndcg@20: 0.837315\n",
      "[42]\tvalid_0's ndcg@1: 0.695806\tvalid_0's ndcg@5: 0.809833\tvalid_0's ndcg@20: 0.8369\n",
      "[43]\tvalid_0's ndcg@1: 0.69559\tvalid_0's ndcg@5: 0.809718\tvalid_0's ndcg@20: 0.836796\n",
      "[44]\tvalid_0's ndcg@1: 0.700232\tvalid_0's ndcg@5: 0.81251\tvalid_0's ndcg@20: 0.83918\n",
      "[45]\tvalid_0's ndcg@1: 0.699832\tvalid_0's ndcg@5: 0.812331\tvalid_0's ndcg@20: 0.839005\n",
      "[46]\tvalid_0's ndcg@1: 0.699365\tvalid_0's ndcg@5: 0.812072\tvalid_0's ndcg@20: 0.838766\n",
      "[47]\tvalid_0's ndcg@1: 0.698861\tvalid_0's ndcg@5: 0.811824\tvalid_0's ndcg@20: 0.83855\n",
      "[48]\tvalid_0's ndcg@1: 0.697548\tvalid_0's ndcg@5: 0.811273\tvalid_0's ndcg@20: 0.838017\n",
      "[49]\tvalid_0's ndcg@1: 0.698421\tvalid_0's ndcg@5: 0.811516\tvalid_0's ndcg@20: 0.838288\n",
      "[50]\tvalid_0's ndcg@1: 0.698296\tvalid_0's ndcg@5: 0.811465\tvalid_0's ndcg@20: 0.83823\n",
      "[51]\tvalid_0's ndcg@1: 0.697879\tvalid_0's ndcg@5: 0.8112\tvalid_0's ndcg@20: 0.838018\n",
      "[52]\tvalid_0's ndcg@1: 0.697712\tvalid_0's ndcg@5: 0.811102\tvalid_0's ndcg@20: 0.837928\n",
      "[53]\tvalid_0's ndcg@1: 0.69736\tvalid_0's ndcg@5: 0.810883\tvalid_0's ndcg@20: 0.837742\n",
      "[54]\tvalid_0's ndcg@1: 0.697284\tvalid_0's ndcg@5: 0.810798\tvalid_0's ndcg@20: 0.837682\n",
      "[55]\tvalid_0's ndcg@1: 0.700549\tvalid_0's ndcg@5: 0.812813\tvalid_0's ndcg@20: 0.839404\n",
      "[56]\tvalid_0's ndcg@1: 0.700414\tvalid_0's ndcg@5: 0.812708\tvalid_0's ndcg@20: 0.839316\n",
      "[57]\tvalid_0's ndcg@1: 0.700249\tvalid_0's ndcg@5: 0.812568\tvalid_0's ndcg@20: 0.839209\n",
      "[58]\tvalid_0's ndcg@1: 0.700024\tvalid_0's ndcg@5: 0.812458\tvalid_0's ndcg@20: 0.839109\n",
      "[59]\tvalid_0's ndcg@1: 0.699731\tvalid_0's ndcg@5: 0.812236\tvalid_0's ndcg@20: 0.83893\n",
      "[60]\tvalid_0's ndcg@1: 0.699453\tvalid_0's ndcg@5: 0.812089\tvalid_0's ndcg@20: 0.838805\n",
      "[61]\tvalid_0's ndcg@1: 0.699251\tvalid_0's ndcg@5: 0.811947\tvalid_0's ndcg@20: 0.838689\n",
      "[62]\tvalid_0's ndcg@1: 0.699038\tvalid_0's ndcg@5: 0.811868\tvalid_0's ndcg@20: 0.838611\n",
      "[63]\tvalid_0's ndcg@1: 0.698908\tvalid_0's ndcg@5: 0.811789\tvalid_0's ndcg@20: 0.83854\n",
      "[64]\tvalid_0's ndcg@1: 0.698715\tvalid_0's ndcg@5: 0.81162\tvalid_0's ndcg@20: 0.838399\n",
      "[65]\tvalid_0's ndcg@1: 0.698669\tvalid_0's ndcg@5: 0.811593\tvalid_0's ndcg@20: 0.838379\n",
      "[66]\tvalid_0's ndcg@1: 0.698556\tvalid_0's ndcg@5: 0.811512\tvalid_0's ndcg@20: 0.83832\n",
      "[67]\tvalid_0's ndcg@1: 0.698412\tvalid_0's ndcg@5: 0.811483\tvalid_0's ndcg@20: 0.838263\n",
      "[68]\tvalid_0's ndcg@1: 0.698359\tvalid_0's ndcg@5: 0.811462\tvalid_0's ndcg@20: 0.838232\n",
      "[69]\tvalid_0's ndcg@1: 0.702101\tvalid_0's ndcg@5: 0.813655\tvalid_0's ndcg@20: 0.840147\n",
      "[70]\tvalid_0's ndcg@1: 0.701906\tvalid_0's ndcg@5: 0.813531\tvalid_0's ndcg@20: 0.840037\n",
      "[71]\tvalid_0's ndcg@1: 0.701853\tvalid_0's ndcg@5: 0.81349\tvalid_0's ndcg@20: 0.840004\n",
      "[72]\tvalid_0's ndcg@1: 0.705212\tvalid_0's ndcg@5: 0.815436\tvalid_0's ndcg@20: 0.841698\n",
      "[73]\tvalid_0's ndcg@1: 0.706907\tvalid_0's ndcg@5: 0.816525\tvalid_0's ndcg@20: 0.842622\n",
      "[74]\tvalid_0's ndcg@1: 0.706656\tvalid_0's ndcg@5: 0.816408\tvalid_0's ndcg@20: 0.842504\n",
      "[75]\tvalid_0's ndcg@1: 0.709095\tvalid_0's ndcg@5: 0.817727\tvalid_0's ndcg@20: 0.843685\n",
      "[76]\tvalid_0's ndcg@1: 0.708879\tvalid_0's ndcg@5: 0.817631\tvalid_0's ndcg@20: 0.843583\n",
      "[77]\tvalid_0's ndcg@1: 0.70879\tvalid_0's ndcg@5: 0.817546\tvalid_0's ndcg@20: 0.843523\n",
      "[78]\tvalid_0's ndcg@1: 0.710936\tvalid_0's ndcg@5: 0.818703\tvalid_0's ndcg@20: 0.844556\n",
      "[79]\tvalid_0's ndcg@1: 0.710698\tvalid_0's ndcg@5: 0.818586\tvalid_0's ndcg@20: 0.844452\n",
      "[80]\tvalid_0's ndcg@1: 0.713021\tvalid_0's ndcg@5: 0.819938\tvalid_0's ndcg@20: 0.845635\n",
      "[81]\tvalid_0's ndcg@1: 0.71291\tvalid_0's ndcg@5: 0.819869\tvalid_0's ndcg@20: 0.845578\n",
      "[82]\tvalid_0's ndcg@1: 0.712918\tvalid_0's ndcg@5: 0.819853\tvalid_0's ndcg@20: 0.845571\n",
      "[83]\tvalid_0's ndcg@1: 0.714684\tvalid_0's ndcg@5: 0.820795\tvalid_0's ndcg@20: 0.846414\n",
      "[84]\tvalid_0's ndcg@1: 0.714718\tvalid_0's ndcg@5: 0.820804\tvalid_0's ndcg@20: 0.846419\n",
      "[85]\tvalid_0's ndcg@1: 0.714595\tvalid_0's ndcg@5: 0.820699\tvalid_0's ndcg@20: 0.846339\n",
      "[86]\tvalid_0's ndcg@1: 0.716058\tvalid_0's ndcg@5: 0.821478\tvalid_0's ndcg@20: 0.847048\n",
      "[87]\tvalid_0's ndcg@1: 0.716016\tvalid_0's ndcg@5: 0.821458\tvalid_0's ndcg@20: 0.847029\n",
      "[88]\tvalid_0's ndcg@1: 0.715938\tvalid_0's ndcg@5: 0.821422\tvalid_0's ndcg@20: 0.846994\n",
      "[89]\tvalid_0's ndcg@1: 0.715865\tvalid_0's ndcg@5: 0.821357\tvalid_0's ndcg@20: 0.846949\n",
      "[90]\tvalid_0's ndcg@1: 0.71573\tvalid_0's ndcg@5: 0.821238\tvalid_0's ndcg@20: 0.846853\n"
     ]
    },
    {
     "name": "stdout",
     "output_type": "stream",
     "text": [
      "[91]\tvalid_0's ndcg@1: 0.715665\tvalid_0's ndcg@5: 0.821217\tvalid_0's ndcg@20: 0.846825\n",
      "[92]\tvalid_0's ndcg@1: 0.717459\tvalid_0's ndcg@5: 0.822334\tvalid_0's ndcg@20: 0.847789\n",
      "[93]\tvalid_0's ndcg@1: 0.71744\tvalid_0's ndcg@5: 0.822313\tvalid_0's ndcg@20: 0.847769\n",
      "[94]\tvalid_0's ndcg@1: 0.717401\tvalid_0's ndcg@5: 0.822291\tvalid_0's ndcg@20: 0.847747\n",
      "[95]\tvalid_0's ndcg@1: 0.718885\tvalid_0's ndcg@5: 0.823258\tvalid_0's ndcg@20: 0.848553\n",
      "[96]\tvalid_0's ndcg@1: 0.71983\tvalid_0's ndcg@5: 0.823686\tvalid_0's ndcg@20: 0.848976\n",
      "[97]\tvalid_0's ndcg@1: 0.72144\tvalid_0's ndcg@5: 0.824689\tvalid_0's ndcg@20: 0.849832\n",
      "[98]\tvalid_0's ndcg@1: 0.721395\tvalid_0's ndcg@5: 0.824637\tvalid_0's ndcg@20: 0.8498\n",
      "[99]\tvalid_0's ndcg@1: 0.721208\tvalid_0's ndcg@5: 0.824515\tvalid_0's ndcg@20: 0.849703\n",
      "[100]\tvalid_0's ndcg@1: 0.722736\tvalid_0's ndcg@5: 0.825376\tvalid_0's ndcg@20: 0.850483\n",
      "[101]\tvalid_0's ndcg@1: 0.722672\tvalid_0's ndcg@5: 0.825324\tvalid_0's ndcg@20: 0.850434\n",
      "[102]\tvalid_0's ndcg@1: 0.722647\tvalid_0's ndcg@5: 0.825311\tvalid_0's ndcg@20: 0.850418\n",
      "[103]\tvalid_0's ndcg@1: 0.723796\tvalid_0's ndcg@5: 0.825999\tvalid_0's ndcg@20: 0.851004\n",
      "[104]\tvalid_0's ndcg@1: 0.723835\tvalid_0's ndcg@5: 0.826012\tvalid_0's ndcg@20: 0.851027\n",
      "[105]\tvalid_0's ndcg@1: 0.723811\tvalid_0's ndcg@5: 0.825976\tvalid_0's ndcg@20: 0.851003\n",
      "[106]\tvalid_0's ndcg@1: 0.723823\tvalid_0's ndcg@5: 0.825971\tvalid_0's ndcg@20: 0.851\n",
      "[107]\tvalid_0's ndcg@1: 0.723832\tvalid_0's ndcg@5: 0.825956\tvalid_0's ndcg@20: 0.850995\n",
      "[108]\tvalid_0's ndcg@1: 0.724346\tvalid_0's ndcg@5: 0.826365\tvalid_0's ndcg@20: 0.851312\n",
      "[109]\tvalid_0's ndcg@1: 0.724318\tvalid_0's ndcg@5: 0.826332\tvalid_0's ndcg@20: 0.851292\n",
      "[110]\tvalid_0's ndcg@1: 0.72444\tvalid_0's ndcg@5: 0.826374\tvalid_0's ndcg@20: 0.851341\n",
      "[111]\tvalid_0's ndcg@1: 0.724393\tvalid_0's ndcg@5: 0.826323\tvalid_0's ndcg@20: 0.851312\n",
      "[112]\tvalid_0's ndcg@1: 0.724269\tvalid_0's ndcg@5: 0.826245\tvalid_0's ndcg@20: 0.851244\n",
      "[113]\tvalid_0's ndcg@1: 0.724231\tvalid_0's ndcg@5: 0.826228\tvalid_0's ndcg@20: 0.851226\n",
      "[114]\tvalid_0's ndcg@1: 0.724144\tvalid_0's ndcg@5: 0.826183\tvalid_0's ndcg@20: 0.851182\n",
      "[115]\tvalid_0's ndcg@1: 0.724139\tvalid_0's ndcg@5: 0.82615\tvalid_0's ndcg@20: 0.851166\n",
      "[116]\tvalid_0's ndcg@1: 0.724082\tvalid_0's ndcg@5: 0.826112\tvalid_0's ndcg@20: 0.851135\n",
      "[117]\tvalid_0's ndcg@1: 0.724054\tvalid_0's ndcg@5: 0.826088\tvalid_0's ndcg@20: 0.851117\n",
      "[118]\tvalid_0's ndcg@1: 0.724016\tvalid_0's ndcg@5: 0.826058\tvalid_0's ndcg@20: 0.851093\n",
      "[119]\tvalid_0's ndcg@1: 0.723879\tvalid_0's ndcg@5: 0.825972\tvalid_0's ndcg@20: 0.85102\n",
      "[120]\tvalid_0's ndcg@1: 0.723838\tvalid_0's ndcg@5: 0.825949\tvalid_0's ndcg@20: 0.851001\n",
      "[121]\tvalid_0's ndcg@1: 0.723762\tvalid_0's ndcg@5: 0.825893\tvalid_0's ndcg@20: 0.850955\n",
      "[122]\tvalid_0's ndcg@1: 0.723733\tvalid_0's ndcg@5: 0.825888\tvalid_0's ndcg@20: 0.850948\n",
      "[123]\tvalid_0's ndcg@1: 0.723678\tvalid_0's ndcg@5: 0.82585\tvalid_0's ndcg@20: 0.850919\n",
      "[124]\tvalid_0's ndcg@1: 0.724868\tvalid_0's ndcg@5: 0.826555\tvalid_0's ndcg@20: 0.85152\n",
      "[125]\tvalid_0's ndcg@1: 0.725127\tvalid_0's ndcg@5: 0.826871\tvalid_0's ndcg@20: 0.851746\n",
      "[126]\tvalid_0's ndcg@1: 0.725109\tvalid_0's ndcg@5: 0.826817\tvalid_0's ndcg@20: 0.851714\n",
      "[127]\tvalid_0's ndcg@1: 0.726202\tvalid_0's ndcg@5: 0.827387\tvalid_0's ndcg@20: 0.852242\n",
      "[128]\tvalid_0's ndcg@1: 0.726996\tvalid_0's ndcg@5: 0.827794\tvalid_0's ndcg@20: 0.852617\n",
      "[129]\tvalid_0's ndcg@1: 0.726955\tvalid_0's ndcg@5: 0.827757\tvalid_0's ndcg@20: 0.852586\n",
      "[130]\tvalid_0's ndcg@1: 0.726909\tvalid_0's ndcg@5: 0.827727\tvalid_0's ndcg@20: 0.852557\n",
      "[131]\tvalid_0's ndcg@1: 0.727699\tvalid_0's ndcg@5: 0.828138\tvalid_0's ndcg@20: 0.85293\n",
      "[132]\tvalid_0's ndcg@1: 0.727913\tvalid_0's ndcg@5: 0.82834\tvalid_0's ndcg@20: 0.85309\n",
      "[133]\tvalid_0's ndcg@1: 0.72777\tvalid_0's ndcg@5: 0.828261\tvalid_0's ndcg@20: 0.853018\n",
      "[134]\tvalid_0's ndcg@1: 0.727723\tvalid_0's ndcg@5: 0.82824\tvalid_0's ndcg@20: 0.852995\n",
      "[135]\tvalid_0's ndcg@1: 0.727654\tvalid_0's ndcg@5: 0.828197\tvalid_0's ndcg@20: 0.852956\n",
      "[136]\tvalid_0's ndcg@1: 0.728039\tvalid_0's ndcg@5: 0.828371\tvalid_0's ndcg@20: 0.853122\n",
      "[137]\tvalid_0's ndcg@1: 0.728526\tvalid_0's ndcg@5: 0.828574\tvalid_0's ndcg@20: 0.853322\n",
      "[138]\tvalid_0's ndcg@1: 0.728442\tvalid_0's ndcg@5: 0.828523\tvalid_0's ndcg@20: 0.853278\n",
      "[139]\tvalid_0's ndcg@1: 0.72833\tvalid_0's ndcg@5: 0.828451\tvalid_0's ndcg@20: 0.85322\n",
      "[140]\tvalid_0's ndcg@1: 0.728741\tvalid_0's ndcg@5: 0.828631\tvalid_0's ndcg@20: 0.853385\n",
      "[141]\tvalid_0's ndcg@1: 0.728747\tvalid_0's ndcg@5: 0.828622\tvalid_0's ndcg@20: 0.853387\n",
      "[142]\tvalid_0's ndcg@1: 0.728726\tvalid_0's ndcg@5: 0.828603\tvalid_0's ndcg@20: 0.85337\n",
      "[143]\tvalid_0's ndcg@1: 0.729074\tvalid_0's ndcg@5: 0.828771\tvalid_0's ndcg@20: 0.85352\n",
      "[144]\tvalid_0's ndcg@1: 0.72906\tvalid_0's ndcg@5: 0.828764\tvalid_0's ndcg@20: 0.853513\n",
      "[145]\tvalid_0's ndcg@1: 0.729029\tvalid_0's ndcg@5: 0.828742\tvalid_0's ndcg@20: 0.853492\n",
      "[146]\tvalid_0's ndcg@1: 0.7298\tvalid_0's ndcg@5: 0.829134\tvalid_0's ndcg@20: 0.853855\n",
      "[147]\tvalid_0's ndcg@1: 0.729711\tvalid_0's ndcg@5: 0.82907\tvalid_0's ndcg@20: 0.853806\n",
      "[148]\tvalid_0's ndcg@1: 0.730388\tvalid_0's ndcg@5: 0.829414\tvalid_0's ndcg@20: 0.854125\n",
      "[149]\tvalid_0's ndcg@1: 0.730372\tvalid_0's ndcg@5: 0.829396\tvalid_0's ndcg@20: 0.854116\n",
      "[150]\tvalid_0's ndcg@1: 0.730425\tvalid_0's ndcg@5: 0.829403\tvalid_0's ndcg@20: 0.854135\n",
      "[151]\tvalid_0's ndcg@1: 0.730965\tvalid_0's ndcg@5: 0.829649\tvalid_0's ndcg@20: 0.854368\n",
      "[152]\tvalid_0's ndcg@1: 0.730967\tvalid_0's ndcg@5: 0.829643\tvalid_0's ndcg@20: 0.854364\n",
      "[153]\tvalid_0's ndcg@1: 0.73095\tvalid_0's ndcg@5: 0.829633\tvalid_0's ndcg@20: 0.854347\n",
      "[154]\tvalid_0's ndcg@1: 0.73152\tvalid_0's ndcg@5: 0.82995\tvalid_0's ndcg@20: 0.854629\n",
      "[155]\tvalid_0's ndcg@1: 0.731529\tvalid_0's ndcg@5: 0.829945\tvalid_0's ndcg@20: 0.854628\n",
      "[156]\tvalid_0's ndcg@1: 0.731469\tvalid_0's ndcg@5: 0.829908\tvalid_0's ndcg@20: 0.854596\n",
      "[157]\tvalid_0's ndcg@1: 0.731917\tvalid_0's ndcg@5: 0.830121\tvalid_0's ndcg@20: 0.854807\n",
      "[158]\tvalid_0's ndcg@1: 0.732072\tvalid_0's ndcg@5: 0.830202\tvalid_0's ndcg@20: 0.854884\n",
      "[159]\tvalid_0's ndcg@1: 0.731996\tvalid_0's ndcg@5: 0.830144\tvalid_0's ndcg@20: 0.854836\n",
      "[160]\tvalid_0's ndcg@1: 0.7319\tvalid_0's ndcg@5: 0.83006\tvalid_0's ndcg@20: 0.854765\n",
      "[161]\tvalid_0's ndcg@1: 0.731931\tvalid_0's ndcg@5: 0.830066\tvalid_0's ndcg@20: 0.854775\n",
      "[162]\tvalid_0's ndcg@1: 0.731864\tvalid_0's ndcg@5: 0.829995\tvalid_0's ndcg@20: 0.854725\n",
      "[163]\tvalid_0's ndcg@1: 0.731842\tvalid_0's ndcg@5: 0.829936\tvalid_0's ndcg@20: 0.854685\n",
      "[164]\tvalid_0's ndcg@1: 0.731829\tvalid_0's ndcg@5: 0.829942\tvalid_0's ndcg@20: 0.854688\n",
      "[165]\tvalid_0's ndcg@1: 0.731825\tvalid_0's ndcg@5: 0.82994\tvalid_0's ndcg@20: 0.854686\n",
      "[166]\tvalid_0's ndcg@1: 0.731813\tvalid_0's ndcg@5: 0.829939\tvalid_0's ndcg@20: 0.854678\n",
      "[167]\tvalid_0's ndcg@1: 0.731759\tvalid_0's ndcg@5: 0.829891\tvalid_0's ndcg@20: 0.854639\n",
      "[168]\tvalid_0's ndcg@1: 0.731619\tvalid_0's ndcg@5: 0.829872\tvalid_0's ndcg@20: 0.854613\n",
      "[169]\tvalid_0's ndcg@1: 0.731578\tvalid_0's ndcg@5: 0.829854\tvalid_0's ndcg@20: 0.854593\n",
      "[170]\tvalid_0's ndcg@1: 0.731493\tvalid_0's ndcg@5: 0.829814\tvalid_0's ndcg@20: 0.854553\n",
      "[171]\tvalid_0's ndcg@1: 0.731488\tvalid_0's ndcg@5: 0.829789\tvalid_0's ndcg@20: 0.854538\n",
      "[172]\tvalid_0's ndcg@1: 0.731516\tvalid_0's ndcg@5: 0.829789\tvalid_0's ndcg@20: 0.854544\n",
      "[173]\tvalid_0's ndcg@1: 0.731496\tvalid_0's ndcg@5: 0.82978\tvalid_0's ndcg@20: 0.854531\n",
      "[174]\tvalid_0's ndcg@1: 0.731422\tvalid_0's ndcg@5: 0.829742\tvalid_0's ndcg@20: 0.854494\n",
      "[175]\tvalid_0's ndcg@1: 0.731387\tvalid_0's ndcg@5: 0.829705\tvalid_0's ndcg@20: 0.854467\n",
      "[176]\tvalid_0's ndcg@1: 0.731488\tvalid_0's ndcg@5: 0.829746\tvalid_0's ndcg@20: 0.854504\n",
      "[177]\tvalid_0's ndcg@1: 0.731954\tvalid_0's ndcg@5: 0.82995\tvalid_0's ndcg@20: 0.854709\n",
      "[178]\tvalid_0's ndcg@1: 0.731934\tvalid_0's ndcg@5: 0.829939\tvalid_0's ndcg@20: 0.854696\n",
      "[179]\tvalid_0's ndcg@1: 0.731939\tvalid_0's ndcg@5: 0.829918\tvalid_0's ndcg@20: 0.854685\n",
      "[180]\tvalid_0's ndcg@1: 0.731926\tvalid_0's ndcg@5: 0.829907\tvalid_0's ndcg@20: 0.854676\n",
      "[181]\tvalid_0's ndcg@1: 0.731942\tvalid_0's ndcg@5: 0.829896\tvalid_0's ndcg@20: 0.854675\n",
      "[182]\tvalid_0's ndcg@1: 0.731926\tvalid_0's ndcg@5: 0.829888\tvalid_0's ndcg@20: 0.854664\n",
      "[183]\tvalid_0's ndcg@1: 0.731894\tvalid_0's ndcg@5: 0.829861\tvalid_0's ndcg@20: 0.854641\n",
      "[184]\tvalid_0's ndcg@1: 0.731874\tvalid_0's ndcg@5: 0.829849\tvalid_0's ndcg@20: 0.854635\n"
     ]
    },
    {
     "name": "stdout",
     "output_type": "stream",
     "text": [
      "[185]\tvalid_0's ndcg@1: 0.732406\tvalid_0's ndcg@5: 0.830101\tvalid_0's ndcg@20: 0.854874\n",
      "[186]\tvalid_0's ndcg@1: 0.732371\tvalid_0's ndcg@5: 0.830082\tvalid_0's ndcg@20: 0.854856\n",
      "[187]\tvalid_0's ndcg@1: 0.732369\tvalid_0's ndcg@5: 0.830079\tvalid_0's ndcg@20: 0.854854\n",
      "[188]\tvalid_0's ndcg@1: 0.732368\tvalid_0's ndcg@5: 0.830072\tvalid_0's ndcg@20: 0.854847\n",
      "[189]\tvalid_0's ndcg@1: 0.732327\tvalid_0's ndcg@5: 0.830047\tvalid_0's ndcg@20: 0.854829\n",
      "[190]\tvalid_0's ndcg@1: 0.732377\tvalid_0's ndcg@5: 0.830045\tvalid_0's ndcg@20: 0.854839\n",
      "[191]\tvalid_0's ndcg@1: 0.732351\tvalid_0's ndcg@5: 0.830027\tvalid_0's ndcg@20: 0.854825\n",
      "[192]\tvalid_0's ndcg@1: 0.732359\tvalid_0's ndcg@5: 0.830035\tvalid_0's ndcg@20: 0.854828\n",
      "[193]\tvalid_0's ndcg@1: 0.732307\tvalid_0's ndcg@5: 0.830008\tvalid_0's ndcg@20: 0.854803\n",
      "[194]\tvalid_0's ndcg@1: 0.732349\tvalid_0's ndcg@5: 0.830017\tvalid_0's ndcg@20: 0.854815\n",
      "[195]\tvalid_0's ndcg@1: 0.732398\tvalid_0's ndcg@5: 0.830028\tvalid_0's ndcg@20: 0.854825\n",
      "[196]\tvalid_0's ndcg@1: 0.732434\tvalid_0's ndcg@5: 0.830031\tvalid_0's ndcg@20: 0.854831\n",
      "[197]\tvalid_0's ndcg@1: 0.732393\tvalid_0's ndcg@5: 0.830008\tvalid_0's ndcg@20: 0.854805\n",
      "[198]\tvalid_0's ndcg@1: 0.73241\tvalid_0's ndcg@5: 0.830001\tvalid_0's ndcg@20: 0.854804\n",
      "[199]\tvalid_0's ndcg@1: 0.73238\tvalid_0's ndcg@5: 0.829991\tvalid_0's ndcg@20: 0.854794\n",
      "[200]\tvalid_0's ndcg@1: 0.732338\tvalid_0's ndcg@5: 0.829956\tvalid_0's ndcg@20: 0.85477\n",
      "[201]\tvalid_0's ndcg@1: 0.73271\tvalid_0's ndcg@5: 0.83012\tvalid_0's ndcg@20: 0.854931\n",
      "[202]\tvalid_0's ndcg@1: 0.732738\tvalid_0's ndcg@5: 0.830133\tvalid_0's ndcg@20: 0.85494\n",
      "[203]\tvalid_0's ndcg@1: 0.732712\tvalid_0's ndcg@5: 0.830124\tvalid_0's ndcg@20: 0.854927\n",
      "[204]\tvalid_0's ndcg@1: 0.732777\tvalid_0's ndcg@5: 0.830145\tvalid_0's ndcg@20: 0.854951\n",
      "[205]\tvalid_0's ndcg@1: 0.732751\tvalid_0's ndcg@5: 0.83019\tvalid_0's ndcg@20: 0.854979\n",
      "[206]\tvalid_0's ndcg@1: 0.73278\tvalid_0's ndcg@5: 0.8302\tvalid_0's ndcg@20: 0.854993\n",
      "[207]\tvalid_0's ndcg@1: 0.732612\tvalid_0's ndcg@5: 0.830165\tvalid_0's ndcg@20: 0.854948\n",
      "[208]\tvalid_0's ndcg@1: 0.732974\tvalid_0's ndcg@5: 0.830336\tvalid_0's ndcg@20: 0.855108\n",
      "[209]\tvalid_0's ndcg@1: 0.732958\tvalid_0's ndcg@5: 0.830328\tvalid_0's ndcg@20: 0.8551\n",
      "[210]\tvalid_0's ndcg@1: 0.732898\tvalid_0's ndcg@5: 0.830285\tvalid_0's ndcg@20: 0.855068\n",
      "[211]\tvalid_0's ndcg@1: 0.732937\tvalid_0's ndcg@5: 0.830303\tvalid_0's ndcg@20: 0.855084\n",
      "[212]\tvalid_0's ndcg@1: 0.733183\tvalid_0's ndcg@5: 0.830416\tvalid_0's ndcg@20: 0.85519\n",
      "[213]\tvalid_0's ndcg@1: 0.733594\tvalid_0's ndcg@5: 0.830623\tvalid_0's ndcg@20: 0.855383\n",
      "[214]\tvalid_0's ndcg@1: 0.733597\tvalid_0's ndcg@5: 0.830619\tvalid_0's ndcg@20: 0.855384\n",
      "[215]\tvalid_0's ndcg@1: 0.733579\tvalid_0's ndcg@5: 0.830606\tvalid_0's ndcg@20: 0.855373\n",
      "[216]\tvalid_0's ndcg@1: 0.73331\tvalid_0's ndcg@5: 0.830521\tvalid_0's ndcg@20: 0.855282\n",
      "[217]\tvalid_0's ndcg@1: 0.733318\tvalid_0's ndcg@5: 0.830513\tvalid_0's ndcg@20: 0.855279\n",
      "[218]\tvalid_0's ndcg@1: 0.733315\tvalid_0's ndcg@5: 0.830512\tvalid_0's ndcg@20: 0.855276\n",
      "[219]\tvalid_0's ndcg@1: 0.733273\tvalid_0's ndcg@5: 0.830463\tvalid_0's ndcg@20: 0.855236\n",
      "[220]\tvalid_0's ndcg@1: 0.73329\tvalid_0's ndcg@5: 0.830459\tvalid_0's ndcg@20: 0.855238\n",
      "[221]\tvalid_0's ndcg@1: 0.733585\tvalid_0's ndcg@5: 0.830602\tvalid_0's ndcg@20: 0.855377\n",
      "[222]\tvalid_0's ndcg@1: 0.733334\tvalid_0's ndcg@5: 0.830518\tvalid_0's ndcg@20: 0.855288\n",
      "[223]\tvalid_0's ndcg@1: 0.733768\tvalid_0's ndcg@5: 0.830741\tvalid_0's ndcg@20: 0.85549\n",
      "[224]\tvalid_0's ndcg@1: 0.733731\tvalid_0's ndcg@5: 0.83071\tvalid_0's ndcg@20: 0.855467\n",
      "[225]\tvalid_0's ndcg@1: 0.733637\tvalid_0's ndcg@5: 0.830632\tvalid_0's ndcg@20: 0.855401\n",
      "[226]\tvalid_0's ndcg@1: 0.733628\tvalid_0's ndcg@5: 0.830617\tvalid_0's ndcg@20: 0.855393\n",
      "[227]\tvalid_0's ndcg@1: 0.733622\tvalid_0's ndcg@5: 0.83061\tvalid_0's ndcg@20: 0.855388\n",
      "[228]\tvalid_0's ndcg@1: 0.733616\tvalid_0's ndcg@5: 0.830603\tvalid_0's ndcg@20: 0.855379\n",
      "[229]\tvalid_0's ndcg@1: 0.733871\tvalid_0's ndcg@5: 0.830711\tvalid_0's ndcg@20: 0.855482\n",
      "[230]\tvalid_0's ndcg@1: 0.733801\tvalid_0's ndcg@5: 0.83067\tvalid_0's ndcg@20: 0.855439\n",
      "[231]\tvalid_0's ndcg@1: 0.733732\tvalid_0's ndcg@5: 0.830625\tvalid_0's ndcg@20: 0.855399\n",
      "[232]\tvalid_0's ndcg@1: 0.733706\tvalid_0's ndcg@5: 0.830604\tvalid_0's ndcg@20: 0.855383\n",
      "[233]\tvalid_0's ndcg@1: 0.733696\tvalid_0's ndcg@5: 0.8306\tvalid_0's ndcg@20: 0.855377\n",
      "[234]\tvalid_0's ndcg@1: 0.733867\tvalid_0's ndcg@5: 0.830658\tvalid_0's ndcg@20: 0.85544\n",
      "[235]\tvalid_0's ndcg@1: 0.734215\tvalid_0's ndcg@5: 0.830808\tvalid_0's ndcg@20: 0.855598\n",
      "[236]\tvalid_0's ndcg@1: 0.734202\tvalid_0's ndcg@5: 0.8308\tvalid_0's ndcg@20: 0.85559\n",
      "[237]\tvalid_0's ndcg@1: 0.734181\tvalid_0's ndcg@5: 0.830786\tvalid_0's ndcg@20: 0.855578\n",
      "[238]\tvalid_0's ndcg@1: 0.734107\tvalid_0's ndcg@5: 0.830737\tvalid_0's ndcg@20: 0.855535\n",
      "[239]\tvalid_0's ndcg@1: 0.734059\tvalid_0's ndcg@5: 0.83069\tvalid_0's ndcg@20: 0.855496\n",
      "[240]\tvalid_0's ndcg@1: 0.733975\tvalid_0's ndcg@5: 0.830654\tvalid_0's ndcg@20: 0.855461\n",
      "[241]\tvalid_0's ndcg@1: 0.733955\tvalid_0's ndcg@5: 0.830636\tvalid_0's ndcg@20: 0.855448\n",
      "[242]\tvalid_0's ndcg@1: 0.733914\tvalid_0's ndcg@5: 0.830614\tvalid_0's ndcg@20: 0.85543\n",
      "[243]\tvalid_0's ndcg@1: 0.733884\tvalid_0's ndcg@5: 0.830601\tvalid_0's ndcg@20: 0.855415\n",
      "[244]\tvalid_0's ndcg@1: 0.733847\tvalid_0's ndcg@5: 0.830566\tvalid_0's ndcg@20: 0.855394\n",
      "[245]\tvalid_0's ndcg@1: 0.734157\tvalid_0's ndcg@5: 0.830708\tvalid_0's ndcg@20: 0.855532\n",
      "[246]\tvalid_0's ndcg@1: 0.734404\tvalid_0's ndcg@5: 0.830823\tvalid_0's ndcg@20: 0.855643\n",
      "[247]\tvalid_0's ndcg@1: 0.734388\tvalid_0's ndcg@5: 0.830799\tvalid_0's ndcg@20: 0.855633\n",
      "[248]\tvalid_0's ndcg@1: 0.734754\tvalid_0's ndcg@5: 0.830979\tvalid_0's ndcg@20: 0.855798\n",
      "[249]\tvalid_0's ndcg@1: 0.734748\tvalid_0's ndcg@5: 0.830967\tvalid_0's ndcg@20: 0.855787\n",
      "[250]\tvalid_0's ndcg@1: 0.734745\tvalid_0's ndcg@5: 0.830955\tvalid_0's ndcg@20: 0.855781\n",
      "[251]\tvalid_0's ndcg@1: 0.734747\tvalid_0's ndcg@5: 0.830942\tvalid_0's ndcg@20: 0.855772\n",
      "[252]\tvalid_0's ndcg@1: 0.734704\tvalid_0's ndcg@5: 0.830926\tvalid_0's ndcg@20: 0.855755\n",
      "[253]\tvalid_0's ndcg@1: 0.734905\tvalid_0's ndcg@5: 0.830987\tvalid_0's ndcg@20: 0.855831\n",
      "[254]\tvalid_0's ndcg@1: 0.734883\tvalid_0's ndcg@5: 0.830969\tvalid_0's ndcg@20: 0.855814\n",
      "[255]\tvalid_0's ndcg@1: 0.734801\tvalid_0's ndcg@5: 0.830925\tvalid_0's ndcg@20: 0.855772\n",
      "[256]\tvalid_0's ndcg@1: 0.7349\tvalid_0's ndcg@5: 0.83096\tvalid_0's ndcg@20: 0.85581\n",
      "[257]\tvalid_0's ndcg@1: 0.73487\tvalid_0's ndcg@5: 0.830928\tvalid_0's ndcg@20: 0.855783\n",
      "[258]\tvalid_0's ndcg@1: 0.734833\tvalid_0's ndcg@5: 0.8309\tvalid_0's ndcg@20: 0.855762\n",
      "[259]\tvalid_0's ndcg@1: 0.734808\tvalid_0's ndcg@5: 0.830881\tvalid_0's ndcg@20: 0.855749\n",
      "[260]\tvalid_0's ndcg@1: 0.734814\tvalid_0's ndcg@5: 0.830872\tvalid_0's ndcg@20: 0.855749\n",
      "[261]\tvalid_0's ndcg@1: 0.73475\tvalid_0's ndcg@5: 0.830845\tvalid_0's ndcg@20: 0.855725\n",
      "[262]\tvalid_0's ndcg@1: 0.73477\tvalid_0's ndcg@5: 0.830853\tvalid_0's ndcg@20: 0.855732\n",
      "[263]\tvalid_0's ndcg@1: 0.734735\tvalid_0's ndcg@5: 0.830805\tvalid_0's ndcg@20: 0.855704\n",
      "[264]\tvalid_0's ndcg@1: 0.73469\tvalid_0's ndcg@5: 0.830775\tvalid_0's ndcg@20: 0.855681\n",
      "[265]\tvalid_0's ndcg@1: 0.734713\tvalid_0's ndcg@5: 0.830781\tvalid_0's ndcg@20: 0.855687\n",
      "[266]\tvalid_0's ndcg@1: 0.734712\tvalid_0's ndcg@5: 0.830762\tvalid_0's ndcg@20: 0.855676\n",
      "[267]\tvalid_0's ndcg@1: 0.734709\tvalid_0's ndcg@5: 0.830762\tvalid_0's ndcg@20: 0.855677\n",
      "[268]\tvalid_0's ndcg@1: 0.734678\tvalid_0's ndcg@5: 0.830748\tvalid_0's ndcg@20: 0.855664\n",
      "[269]\tvalid_0's ndcg@1: 0.734659\tvalid_0's ndcg@5: 0.830736\tvalid_0's ndcg@20: 0.855653\n",
      "[270]\tvalid_0's ndcg@1: 0.735\tvalid_0's ndcg@5: 0.83088\tvalid_0's ndcg@20: 0.855792\n",
      "[271]\tvalid_0's ndcg@1: 0.734993\tvalid_0's ndcg@5: 0.830872\tvalid_0's ndcg@20: 0.855788\n",
      "[272]\tvalid_0's ndcg@1: 0.734982\tvalid_0's ndcg@5: 0.830861\tvalid_0's ndcg@20: 0.855779\n",
      "[273]\tvalid_0's ndcg@1: 0.735224\tvalid_0's ndcg@5: 0.830995\tvalid_0's ndcg@20: 0.855897\n",
      "[274]\tvalid_0's ndcg@1: 0.735207\tvalid_0's ndcg@5: 0.830986\tvalid_0's ndcg@20: 0.855889\n",
      "[275]\tvalid_0's ndcg@1: 0.735211\tvalid_0's ndcg@5: 0.830989\tvalid_0's ndcg@20: 0.855888\n",
      "[276]\tvalid_0's ndcg@1: 0.735487\tvalid_0's ndcg@5: 0.831104\tvalid_0's ndcg@20: 0.856007\n",
      "[277]\tvalid_0's ndcg@1: 0.735493\tvalid_0's ndcg@5: 0.831096\tvalid_0's ndcg@20: 0.856003\n",
      "[278]\tvalid_0's ndcg@1: 0.735491\tvalid_0's ndcg@5: 0.831092\tvalid_0's ndcg@20: 0.855998\n"
     ]
    },
    {
     "name": "stdout",
     "output_type": "stream",
     "text": [
      "[279]\tvalid_0's ndcg@1: 0.7355\tvalid_0's ndcg@5: 0.831084\tvalid_0's ndcg@20: 0.855997\n",
      "[280]\tvalid_0's ndcg@1: 0.735493\tvalid_0's ndcg@5: 0.83107\tvalid_0's ndcg@20: 0.855989\n",
      "[281]\tvalid_0's ndcg@1: 0.735479\tvalid_0's ndcg@5: 0.831069\tvalid_0's ndcg@20: 0.855981\n",
      "[282]\tvalid_0's ndcg@1: 0.73562\tvalid_0's ndcg@5: 0.83114\tvalid_0's ndcg@20: 0.85605\n",
      "[283]\tvalid_0's ndcg@1: 0.735622\tvalid_0's ndcg@5: 0.831136\tvalid_0's ndcg@20: 0.856048\n",
      "[284]\tvalid_0's ndcg@1: 0.735614\tvalid_0's ndcg@5: 0.831123\tvalid_0's ndcg@20: 0.856038\n",
      "[285]\tvalid_0's ndcg@1: 0.73561\tvalid_0's ndcg@5: 0.831125\tvalid_0's ndcg@20: 0.856036\n",
      "[286]\tvalid_0's ndcg@1: 0.735612\tvalid_0's ndcg@5: 0.831111\tvalid_0's ndcg@20: 0.856026\n",
      "[287]\tvalid_0's ndcg@1: 0.735496\tvalid_0's ndcg@5: 0.831056\tvalid_0's ndcg@20: 0.855969\n",
      "[288]\tvalid_0's ndcg@1: 0.735493\tvalid_0's ndcg@5: 0.831053\tvalid_0's ndcg@20: 0.855965\n",
      "[289]\tvalid_0's ndcg@1: 0.735456\tvalid_0's ndcg@5: 0.83103\tvalid_0's ndcg@20: 0.855947\n",
      "[290]\tvalid_0's ndcg@1: 0.735629\tvalid_0's ndcg@5: 0.831114\tvalid_0's ndcg@20: 0.856026\n",
      "[291]\tvalid_0's ndcg@1: 0.735576\tvalid_0's ndcg@5: 0.831087\tvalid_0's ndcg@20: 0.856\n",
      "[292]\tvalid_0's ndcg@1: 0.735535\tvalid_0's ndcg@5: 0.831047\tvalid_0's ndcg@20: 0.855972\n",
      "[293]\tvalid_0's ndcg@1: 0.735525\tvalid_0's ndcg@5: 0.831022\tvalid_0's ndcg@20: 0.85596\n",
      "[294]\tvalid_0's ndcg@1: 0.735579\tvalid_0's ndcg@5: 0.831023\tvalid_0's ndcg@20: 0.855978\n",
      "[295]\tvalid_0's ndcg@1: 0.735585\tvalid_0's ndcg@5: 0.83102\tvalid_0's ndcg@20: 0.855981\n",
      "[296]\tvalid_0's ndcg@1: 0.735563\tvalid_0's ndcg@5: 0.831\tvalid_0's ndcg@20: 0.855961\n",
      "[297]\tvalid_0's ndcg@1: 0.735709\tvalid_0's ndcg@5: 0.831058\tvalid_0's ndcg@20: 0.856022\n",
      "[298]\tvalid_0's ndcg@1: 0.735707\tvalid_0's ndcg@5: 0.831061\tvalid_0's ndcg@20: 0.856021\n",
      "[299]\tvalid_0's ndcg@1: 0.735705\tvalid_0's ndcg@5: 0.831062\tvalid_0's ndcg@20: 0.856021\n",
      "[300]\tvalid_0's ndcg@1: 0.735646\tvalid_0's ndcg@5: 0.831034\tvalid_0's ndcg@20: 0.855993\n",
      "[301]\tvalid_0's ndcg@1: 0.735785\tvalid_0's ndcg@5: 0.831111\tvalid_0's ndcg@20: 0.856056\n",
      "[302]\tvalid_0's ndcg@1: 0.735714\tvalid_0's ndcg@5: 0.831096\tvalid_0's ndcg@20: 0.856042\n",
      "[303]\tvalid_0's ndcg@1: 0.735892\tvalid_0's ndcg@5: 0.831173\tvalid_0's ndcg@20: 0.856119\n",
      "[304]\tvalid_0's ndcg@1: 0.736004\tvalid_0's ndcg@5: 0.831227\tvalid_0's ndcg@20: 0.856168\n",
      "[305]\tvalid_0's ndcg@1: 0.735998\tvalid_0's ndcg@5: 0.8312\tvalid_0's ndcg@20: 0.856147\n",
      "[306]\tvalid_0's ndcg@1: 0.735995\tvalid_0's ndcg@5: 0.831194\tvalid_0's ndcg@20: 0.856143\n",
      "[307]\tvalid_0's ndcg@1: 0.735973\tvalid_0's ndcg@5: 0.831187\tvalid_0's ndcg@20: 0.856134\n",
      "[308]\tvalid_0's ndcg@1: 0.736104\tvalid_0's ndcg@5: 0.831255\tvalid_0's ndcg@20: 0.856198\n",
      "[309]\tvalid_0's ndcg@1: 0.736051\tvalid_0's ndcg@5: 0.831223\tvalid_0's ndcg@20: 0.856174\n",
      "[310]\tvalid_0's ndcg@1: 0.736011\tvalid_0's ndcg@5: 0.831187\tvalid_0's ndcg@20: 0.856144\n",
      "[311]\tvalid_0's ndcg@1: 0.736093\tvalid_0's ndcg@5: 0.831229\tvalid_0's ndcg@20: 0.856178\n",
      "[312]\tvalid_0's ndcg@1: 0.736101\tvalid_0's ndcg@5: 0.831235\tvalid_0's ndcg@20: 0.856183\n",
      "[313]\tvalid_0's ndcg@1: 0.73607\tvalid_0's ndcg@5: 0.831227\tvalid_0's ndcg@20: 0.85617\n",
      "[314]\tvalid_0's ndcg@1: 0.736051\tvalid_0's ndcg@5: 0.83121\tvalid_0's ndcg@20: 0.856157\n",
      "[315]\tvalid_0's ndcg@1: 0.735975\tvalid_0's ndcg@5: 0.831154\tvalid_0's ndcg@20: 0.85611\n",
      "[316]\tvalid_0's ndcg@1: 0.736136\tvalid_0's ndcg@5: 0.831229\tvalid_0's ndcg@20: 0.856174\n",
      "[317]\tvalid_0's ndcg@1: 0.736133\tvalid_0's ndcg@5: 0.831234\tvalid_0's ndcg@20: 0.856173\n",
      "[318]\tvalid_0's ndcg@1: 0.736086\tvalid_0's ndcg@5: 0.83121\tvalid_0's ndcg@20: 0.856153\n",
      "[319]\tvalid_0's ndcg@1: 0.736072\tvalid_0's ndcg@5: 0.831212\tvalid_0's ndcg@20: 0.856149\n",
      "[320]\tvalid_0's ndcg@1: 0.736159\tvalid_0's ndcg@5: 0.831253\tvalid_0's ndcg@20: 0.856192\n",
      "[321]\tvalid_0's ndcg@1: 0.736139\tvalid_0's ndcg@5: 0.831245\tvalid_0's ndcg@20: 0.856184\n",
      "[322]\tvalid_0's ndcg@1: 0.736389\tvalid_0's ndcg@5: 0.831376\tvalid_0's ndcg@20: 0.856302\n",
      "[323]\tvalid_0's ndcg@1: 0.736566\tvalid_0's ndcg@5: 0.83146\tvalid_0's ndcg@20: 0.856383\n",
      "[324]\tvalid_0's ndcg@1: 0.73655\tvalid_0's ndcg@5: 0.831437\tvalid_0's ndcg@20: 0.856369\n",
      "[325]\tvalid_0's ndcg@1: 0.736735\tvalid_0's ndcg@5: 0.831525\tvalid_0's ndcg@20: 0.856451\n",
      "[326]\tvalid_0's ndcg@1: 0.736721\tvalid_0's ndcg@5: 0.831511\tvalid_0's ndcg@20: 0.85644\n",
      "[327]\tvalid_0's ndcg@1: 0.736704\tvalid_0's ndcg@5: 0.831504\tvalid_0's ndcg@20: 0.856433\n",
      "[328]\tvalid_0's ndcg@1: 0.736693\tvalid_0's ndcg@5: 0.8315\tvalid_0's ndcg@20: 0.856428\n",
      "[329]\tvalid_0's ndcg@1: 0.736678\tvalid_0's ndcg@5: 0.831491\tvalid_0's ndcg@20: 0.856419\n",
      "[330]\tvalid_0's ndcg@1: 0.736692\tvalid_0's ndcg@5: 0.831494\tvalid_0's ndcg@20: 0.856419\n",
      "[331]\tvalid_0's ndcg@1: 0.736885\tvalid_0's ndcg@5: 0.831572\tvalid_0's ndcg@20: 0.856507\n",
      "[332]\tvalid_0's ndcg@1: 0.736876\tvalid_0's ndcg@5: 0.831571\tvalid_0's ndcg@20: 0.856502\n",
      "[333]\tvalid_0's ndcg@1: 0.736847\tvalid_0's ndcg@5: 0.831553\tvalid_0's ndcg@20: 0.856487\n",
      "[334]\tvalid_0's ndcg@1: 0.73685\tvalid_0's ndcg@5: 0.83155\tvalid_0's ndcg@20: 0.856484\n",
      "[335]\tvalid_0's ndcg@1: 0.736956\tvalid_0's ndcg@5: 0.831614\tvalid_0's ndcg@20: 0.856536\n",
      "[336]\tvalid_0's ndcg@1: 0.737082\tvalid_0's ndcg@5: 0.83167\tvalid_0's ndcg@20: 0.856595\n",
      "[337]\tvalid_0's ndcg@1: 0.737064\tvalid_0's ndcg@5: 0.831653\tvalid_0's ndcg@20: 0.856581\n",
      "[338]\tvalid_0's ndcg@1: 0.737044\tvalid_0's ndcg@5: 0.83164\tvalid_0's ndcg@20: 0.856566\n",
      "[339]\tvalid_0's ndcg@1: 0.737041\tvalid_0's ndcg@5: 0.831629\tvalid_0's ndcg@20: 0.856557\n",
      "[340]\tvalid_0's ndcg@1: 0.737025\tvalid_0's ndcg@5: 0.831625\tvalid_0's ndcg@20: 0.856554\n",
      "[341]\tvalid_0's ndcg@1: 0.737018\tvalid_0's ndcg@5: 0.831619\tvalid_0's ndcg@20: 0.856549\n",
      "[342]\tvalid_0's ndcg@1: 0.737009\tvalid_0's ndcg@5: 0.831611\tvalid_0's ndcg@20: 0.856542\n",
      "[343]\tvalid_0's ndcg@1: 0.737043\tvalid_0's ndcg@5: 0.831617\tvalid_0's ndcg@20: 0.856555\n",
      "[344]\tvalid_0's ndcg@1: 0.737165\tvalid_0's ndcg@5: 0.831665\tvalid_0's ndcg@20: 0.856605\n",
      "[345]\tvalid_0's ndcg@1: 0.737152\tvalid_0's ndcg@5: 0.83165\tvalid_0's ndcg@20: 0.856596\n",
      "[346]\tvalid_0's ndcg@1: 0.737126\tvalid_0's ndcg@5: 0.831639\tvalid_0's ndcg@20: 0.856583\n",
      "[347]\tvalid_0's ndcg@1: 0.736996\tvalid_0's ndcg@5: 0.831599\tvalid_0's ndcg@20: 0.856538\n",
      "[348]\tvalid_0's ndcg@1: 0.736955\tvalid_0's ndcg@5: 0.831574\tvalid_0's ndcg@20: 0.856518\n",
      "[349]\tvalid_0's ndcg@1: 0.736952\tvalid_0's ndcg@5: 0.831572\tvalid_0's ndcg@20: 0.856518\n",
      "[350]\tvalid_0's ndcg@1: 0.736949\tvalid_0's ndcg@5: 0.831556\tvalid_0's ndcg@20: 0.85651\n",
      "[351]\tvalid_0's ndcg@1: 0.736949\tvalid_0's ndcg@5: 0.831549\tvalid_0's ndcg@20: 0.856503\n",
      "[352]\tvalid_0's ndcg@1: 0.73693\tvalid_0's ndcg@5: 0.831525\tvalid_0's ndcg@20: 0.856483\n",
      "[353]\tvalid_0's ndcg@1: 0.736934\tvalid_0's ndcg@5: 0.831526\tvalid_0's ndcg@20: 0.856483\n",
      "[354]\tvalid_0's ndcg@1: 0.736936\tvalid_0's ndcg@5: 0.831524\tvalid_0's ndcg@20: 0.856484\n",
      "[355]\tvalid_0's ndcg@1: 0.736917\tvalid_0's ndcg@5: 0.831513\tvalid_0's ndcg@20: 0.856475\n",
      "[356]\tvalid_0's ndcg@1: 0.73692\tvalid_0's ndcg@5: 0.831511\tvalid_0's ndcg@20: 0.856474\n",
      "[357]\tvalid_0's ndcg@1: 0.736908\tvalid_0's ndcg@5: 0.831501\tvalid_0's ndcg@20: 0.856468\n",
      "[358]\tvalid_0's ndcg@1: 0.736855\tvalid_0's ndcg@5: 0.83147\tvalid_0's ndcg@20: 0.856442\n",
      "[359]\tvalid_0's ndcg@1: 0.736818\tvalid_0's ndcg@5: 0.831453\tvalid_0's ndcg@20: 0.856426\n",
      "[360]\tvalid_0's ndcg@1: 0.736812\tvalid_0's ndcg@5: 0.831447\tvalid_0's ndcg@20: 0.856423\n",
      "[361]\tvalid_0's ndcg@1: 0.736818\tvalid_0's ndcg@5: 0.831449\tvalid_0's ndcg@20: 0.856423\n",
      "[362]\tvalid_0's ndcg@1: 0.736803\tvalid_0's ndcg@5: 0.831436\tvalid_0's ndcg@20: 0.856413\n",
      "[363]\tvalid_0's ndcg@1: 0.736937\tvalid_0's ndcg@5: 0.8315\tvalid_0's ndcg@20: 0.856471\n",
      "[364]\tvalid_0's ndcg@1: 0.736942\tvalid_0's ndcg@5: 0.831496\tvalid_0's ndcg@20: 0.85647\n",
      "[365]\tvalid_0's ndcg@1: 0.736943\tvalid_0's ndcg@5: 0.831481\tvalid_0's ndcg@20: 0.856463\n",
      "[366]\tvalid_0's ndcg@1: 0.736938\tvalid_0's ndcg@5: 0.831484\tvalid_0's ndcg@20: 0.856463\n",
      "[367]\tvalid_0's ndcg@1: 0.737092\tvalid_0's ndcg@5: 0.831564\tvalid_0's ndcg@20: 0.856541\n",
      "[368]\tvalid_0's ndcg@1: 0.737079\tvalid_0's ndcg@5: 0.831554\tvalid_0's ndcg@20: 0.856535\n",
      "[369]\tvalid_0's ndcg@1: 0.737067\tvalid_0's ndcg@5: 0.831541\tvalid_0's ndcg@20: 0.856526\n",
      "[370]\tvalid_0's ndcg@1: 0.73704\tvalid_0's ndcg@5: 0.831522\tvalid_0's ndcg@20: 0.856509\n",
      "[371]\tvalid_0's ndcg@1: 0.737015\tvalid_0's ndcg@5: 0.831511\tvalid_0's ndcg@20: 0.856493\n",
      "[372]\tvalid_0's ndcg@1: 0.737017\tvalid_0's ndcg@5: 0.831514\tvalid_0's ndcg@20: 0.856494\n"
     ]
    },
    {
     "name": "stdout",
     "output_type": "stream",
     "text": [
      "[373]\tvalid_0's ndcg@1: 0.737016\tvalid_0's ndcg@5: 0.831512\tvalid_0's ndcg@20: 0.856494\n",
      "[374]\tvalid_0's ndcg@1: 0.736973\tvalid_0's ndcg@5: 0.831489\tvalid_0's ndcg@20: 0.856473\n",
      "[375]\tvalid_0's ndcg@1: 0.736986\tvalid_0's ndcg@5: 0.831489\tvalid_0's ndcg@20: 0.856475\n",
      "[376]\tvalid_0's ndcg@1: 0.736915\tvalid_0's ndcg@5: 0.831459\tvalid_0's ndcg@20: 0.856447\n",
      "[377]\tvalid_0's ndcg@1: 0.736914\tvalid_0's ndcg@5: 0.831458\tvalid_0's ndcg@20: 0.856447\n",
      "[378]\tvalid_0's ndcg@1: 0.736917\tvalid_0's ndcg@5: 0.831459\tvalid_0's ndcg@20: 0.856447\n",
      "[379]\tvalid_0's ndcg@1: 0.7369\tvalid_0's ndcg@5: 0.831445\tvalid_0's ndcg@20: 0.856438\n",
      "[380]\tvalid_0's ndcg@1: 0.736889\tvalid_0's ndcg@5: 0.83144\tvalid_0's ndcg@20: 0.856434\n",
      "[381]\tvalid_0's ndcg@1: 0.737094\tvalid_0's ndcg@5: 0.831539\tvalid_0's ndcg@20: 0.85652\n",
      "[382]\tvalid_0's ndcg@1: 0.73706\tvalid_0's ndcg@5: 0.8315\tvalid_0's ndcg@20: 0.856497\n",
      "[383]\tvalid_0's ndcg@1: 0.737059\tvalid_0's ndcg@5: 0.831494\tvalid_0's ndcg@20: 0.856495\n",
      "[384]\tvalid_0's ndcg@1: 0.737084\tvalid_0's ndcg@5: 0.831502\tvalid_0's ndcg@20: 0.856501\n",
      "[385]\tvalid_0's ndcg@1: 0.737127\tvalid_0's ndcg@5: 0.831537\tvalid_0's ndcg@20: 0.856523\n",
      "[386]\tvalid_0's ndcg@1: 0.737205\tvalid_0's ndcg@5: 0.831572\tvalid_0's ndcg@20: 0.856559\n",
      "[387]\tvalid_0's ndcg@1: 0.737195\tvalid_0's ndcg@5: 0.83156\tvalid_0's ndcg@20: 0.856551\n",
      "[388]\tvalid_0's ndcg@1: 0.7372\tvalid_0's ndcg@5: 0.831563\tvalid_0's ndcg@20: 0.856553\n",
      "[389]\tvalid_0's ndcg@1: 0.737191\tvalid_0's ndcg@5: 0.831558\tvalid_0's ndcg@20: 0.856548\n",
      "[390]\tvalid_0's ndcg@1: 0.737176\tvalid_0's ndcg@5: 0.831553\tvalid_0's ndcg@20: 0.856544\n",
      "[391]\tvalid_0's ndcg@1: 0.737149\tvalid_0's ndcg@5: 0.831545\tvalid_0's ndcg@20: 0.856532\n",
      "[392]\tvalid_0's ndcg@1: 0.737147\tvalid_0's ndcg@5: 0.831541\tvalid_0's ndcg@20: 0.856532\n",
      "[393]\tvalid_0's ndcg@1: 0.737245\tvalid_0's ndcg@5: 0.831601\tvalid_0's ndcg@20: 0.856579\n",
      "[394]\tvalid_0's ndcg@1: 0.737243\tvalid_0's ndcg@5: 0.8316\tvalid_0's ndcg@20: 0.856574\n",
      "[395]\tvalid_0's ndcg@1: 0.737232\tvalid_0's ndcg@5: 0.831594\tvalid_0's ndcg@20: 0.856568\n",
      "[396]\tvalid_0's ndcg@1: 0.737231\tvalid_0's ndcg@5: 0.831593\tvalid_0's ndcg@20: 0.856566\n",
      "[397]\tvalid_0's ndcg@1: 0.737194\tvalid_0's ndcg@5: 0.831574\tvalid_0's ndcg@20: 0.85655\n",
      "[398]\tvalid_0's ndcg@1: 0.737281\tvalid_0's ndcg@5: 0.831619\tvalid_0's ndcg@20: 0.856592\n",
      "[399]\tvalid_0's ndcg@1: 0.73729\tvalid_0's ndcg@5: 0.831612\tvalid_0's ndcg@20: 0.856587\n",
      "[400]\tvalid_0's ndcg@1: 0.737296\tvalid_0's ndcg@5: 0.831612\tvalid_0's ndcg@20: 0.856587\n",
      "[401]\tvalid_0's ndcg@1: 0.737257\tvalid_0's ndcg@5: 0.83159\tvalid_0's ndcg@20: 0.85657\n",
      "[402]\tvalid_0's ndcg@1: 0.737274\tvalid_0's ndcg@5: 0.831595\tvalid_0's ndcg@20: 0.856575\n",
      "[403]\tvalid_0's ndcg@1: 0.737255\tvalid_0's ndcg@5: 0.831579\tvalid_0's ndcg@20: 0.856565\n",
      "[404]\tvalid_0's ndcg@1: 0.737253\tvalid_0's ndcg@5: 0.831574\tvalid_0's ndcg@20: 0.856563\n",
      "[405]\tvalid_0's ndcg@1: 0.737167\tvalid_0's ndcg@5: 0.831535\tvalid_0's ndcg@20: 0.856525\n",
      "[406]\tvalid_0's ndcg@1: 0.737162\tvalid_0's ndcg@5: 0.831532\tvalid_0's ndcg@20: 0.856521\n",
      "[407]\tvalid_0's ndcg@1: 0.737146\tvalid_0's ndcg@5: 0.83152\tvalid_0's ndcg@20: 0.856513\n",
      "[408]\tvalid_0's ndcg@1: 0.737127\tvalid_0's ndcg@5: 0.831516\tvalid_0's ndcg@20: 0.856505\n",
      "[409]\tvalid_0's ndcg@1: 0.737116\tvalid_0's ndcg@5: 0.831509\tvalid_0's ndcg@20: 0.856497\n",
      "[410]\tvalid_0's ndcg@1: 0.737054\tvalid_0's ndcg@5: 0.831455\tvalid_0's ndcg@20: 0.856453\n",
      "[411]\tvalid_0's ndcg@1: 0.737093\tvalid_0's ndcg@5: 0.831462\tvalid_0's ndcg@20: 0.85647\n",
      "[412]\tvalid_0's ndcg@1: 0.737071\tvalid_0's ndcg@5: 0.831452\tvalid_0's ndcg@20: 0.856458\n",
      "[413]\tvalid_0's ndcg@1: 0.737063\tvalid_0's ndcg@5: 0.831442\tvalid_0's ndcg@20: 0.85645\n",
      "[414]\tvalid_0's ndcg@1: 0.737054\tvalid_0's ndcg@5: 0.831434\tvalid_0's ndcg@20: 0.856442\n",
      "[415]\tvalid_0's ndcg@1: 0.737053\tvalid_0's ndcg@5: 0.831434\tvalid_0's ndcg@20: 0.85644\n",
      "[416]\tvalid_0's ndcg@1: 0.73697\tvalid_0's ndcg@5: 0.831382\tvalid_0's ndcg@20: 0.856407\n",
      "[417]\tvalid_0's ndcg@1: 0.737056\tvalid_0's ndcg@5: 0.831423\tvalid_0's ndcg@20: 0.856445\n",
      "[418]\tvalid_0's ndcg@1: 0.736994\tvalid_0's ndcg@5: 0.831375\tvalid_0's ndcg@20: 0.856407\n",
      "[419]\tvalid_0's ndcg@1: 0.736989\tvalid_0's ndcg@5: 0.831372\tvalid_0's ndcg@20: 0.856407\n",
      "[420]\tvalid_0's ndcg@1: 0.736988\tvalid_0's ndcg@5: 0.831364\tvalid_0's ndcg@20: 0.856401\n",
      "[421]\tvalid_0's ndcg@1: 0.736988\tvalid_0's ndcg@5: 0.831362\tvalid_0's ndcg@20: 0.856399\n",
      "[422]\tvalid_0's ndcg@1: 0.736996\tvalid_0's ndcg@5: 0.831356\tvalid_0's ndcg@20: 0.856397\n",
      "[423]\tvalid_0's ndcg@1: 0.737006\tvalid_0's ndcg@5: 0.831353\tvalid_0's ndcg@20: 0.856396\n",
      "[424]\tvalid_0's ndcg@1: 0.73708\tvalid_0's ndcg@5: 0.831394\tvalid_0's ndcg@20: 0.856435\n",
      "[425]\tvalid_0's ndcg@1: 0.737043\tvalid_0's ndcg@5: 0.83138\tvalid_0's ndcg@20: 0.856421\n",
      "[426]\tvalid_0's ndcg@1: 0.73704\tvalid_0's ndcg@5: 0.831377\tvalid_0's ndcg@20: 0.856417\n",
      "[427]\tvalid_0's ndcg@1: 0.737041\tvalid_0's ndcg@5: 0.83138\tvalid_0's ndcg@20: 0.856417\n",
      "[428]\tvalid_0's ndcg@1: 0.737002\tvalid_0's ndcg@5: 0.831362\tvalid_0's ndcg@20: 0.856401\n",
      "[429]\tvalid_0's ndcg@1: 0.736985\tvalid_0's ndcg@5: 0.83135\tvalid_0's ndcg@20: 0.85639\n",
      "[430]\tvalid_0's ndcg@1: 0.736756\tvalid_0's ndcg@5: 0.831259\tvalid_0's ndcg@20: 0.856304\n",
      "[431]\tvalid_0's ndcg@1: 0.736745\tvalid_0's ndcg@5: 0.831241\tvalid_0's ndcg@20: 0.856294\n",
      "[432]\tvalid_0's ndcg@1: 0.736768\tvalid_0's ndcg@5: 0.831248\tvalid_0's ndcg@20: 0.856299\n",
      "[433]\tvalid_0's ndcg@1: 0.736746\tvalid_0's ndcg@5: 0.831233\tvalid_0's ndcg@20: 0.856286\n",
      "[434]\tvalid_0's ndcg@1: 0.736819\tvalid_0's ndcg@5: 0.831265\tvalid_0's ndcg@20: 0.856319\n",
      "[435]\tvalid_0's ndcg@1: 0.736867\tvalid_0's ndcg@5: 0.831299\tvalid_0's ndcg@20: 0.856347\n",
      "[436]\tvalid_0's ndcg@1: 0.736872\tvalid_0's ndcg@5: 0.831298\tvalid_0's ndcg@20: 0.856347\n",
      "[437]\tvalid_0's ndcg@1: 0.736885\tvalid_0's ndcg@5: 0.831301\tvalid_0's ndcg@20: 0.85635\n",
      "[438]\tvalid_0's ndcg@1: 0.736879\tvalid_0's ndcg@5: 0.831296\tvalid_0's ndcg@20: 0.856346\n",
      "[439]\tvalid_0's ndcg@1: 0.736879\tvalid_0's ndcg@5: 0.831297\tvalid_0's ndcg@20: 0.856345\n",
      "[440]\tvalid_0's ndcg@1: 0.736878\tvalid_0's ndcg@5: 0.831291\tvalid_0's ndcg@20: 0.856343\n",
      "[441]\tvalid_0's ndcg@1: 0.73686\tvalid_0's ndcg@5: 0.831278\tvalid_0's ndcg@20: 0.856333\n",
      "[442]\tvalid_0's ndcg@1: 0.736982\tvalid_0's ndcg@5: 0.831322\tvalid_0's ndcg@20: 0.85638\n",
      "[443]\tvalid_0's ndcg@1: 0.73687\tvalid_0's ndcg@5: 0.831282\tvalid_0's ndcg@20: 0.856341\n",
      "[444]\tvalid_0's ndcg@1: 0.73684\tvalid_0's ndcg@5: 0.831259\tvalid_0's ndcg@20: 0.856323\n",
      "[445]\tvalid_0's ndcg@1: 0.736947\tvalid_0's ndcg@5: 0.831314\tvalid_0's ndcg@20: 0.856377\n",
      "[446]\tvalid_0's ndcg@1: 0.736958\tvalid_0's ndcg@5: 0.831314\tvalid_0's ndcg@20: 0.856378\n",
      "[447]\tvalid_0's ndcg@1: 0.737021\tvalid_0's ndcg@5: 0.831339\tvalid_0's ndcg@20: 0.856406\n",
      "[448]\tvalid_0's ndcg@1: 0.737\tvalid_0's ndcg@5: 0.831336\tvalid_0's ndcg@20: 0.856399\n",
      "[449]\tvalid_0's ndcg@1: 0.736992\tvalid_0's ndcg@5: 0.831323\tvalid_0's ndcg@20: 0.85639\n",
      "[450]\tvalid_0's ndcg@1: 0.737086\tvalid_0's ndcg@5: 0.831372\tvalid_0's ndcg@20: 0.856433\n",
      "[451]\tvalid_0's ndcg@1: 0.737087\tvalid_0's ndcg@5: 0.831367\tvalid_0's ndcg@20: 0.85643\n",
      "[452]\tvalid_0's ndcg@1: 0.737083\tvalid_0's ndcg@5: 0.831363\tvalid_0's ndcg@20: 0.856428\n",
      "[453]\tvalid_0's ndcg@1: 0.737102\tvalid_0's ndcg@5: 0.831358\tvalid_0's ndcg@20: 0.856426\n",
      "[454]\tvalid_0's ndcg@1: 0.7371\tvalid_0's ndcg@5: 0.831355\tvalid_0's ndcg@20: 0.856423\n",
      "[455]\tvalid_0's ndcg@1: 0.737045\tvalid_0's ndcg@5: 0.831347\tvalid_0's ndcg@20: 0.856416\n",
      "[456]\tvalid_0's ndcg@1: 0.737044\tvalid_0's ndcg@5: 0.831341\tvalid_0's ndcg@20: 0.856411\n",
      "[457]\tvalid_0's ndcg@1: 0.737048\tvalid_0's ndcg@5: 0.831343\tvalid_0's ndcg@20: 0.856412\n",
      "[458]\tvalid_0's ndcg@1: 0.737036\tvalid_0's ndcg@5: 0.831339\tvalid_0's ndcg@20: 0.856406\n",
      "[459]\tvalid_0's ndcg@1: 0.73701\tvalid_0's ndcg@5: 0.831311\tvalid_0's ndcg@20: 0.856381\n",
      "[460]\tvalid_0's ndcg@1: 0.736968\tvalid_0's ndcg@5: 0.831279\tvalid_0's ndcg@20: 0.856354\n",
      "[461]\tvalid_0's ndcg@1: 0.736954\tvalid_0's ndcg@5: 0.831259\tvalid_0's ndcg@20: 0.856337\n",
      "[462]\tvalid_0's ndcg@1: 0.737076\tvalid_0's ndcg@5: 0.831321\tvalid_0's ndcg@20: 0.856393\n",
      "[463]\tvalid_0's ndcg@1: 0.737054\tvalid_0's ndcg@5: 0.83131\tvalid_0's ndcg@20: 0.856384\n",
      "[464]\tvalid_0's ndcg@1: 0.737017\tvalid_0's ndcg@5: 0.831292\tvalid_0's ndcg@20: 0.85637\n",
      "[465]\tvalid_0's ndcg@1: 0.737008\tvalid_0's ndcg@5: 0.831283\tvalid_0's ndcg@20: 0.856363\n",
      "[466]\tvalid_0's ndcg@1: 0.737058\tvalid_0's ndcg@5: 0.831298\tvalid_0's ndcg@20: 0.856385\n"
     ]
    },
    {
     "name": "stdout",
     "output_type": "stream",
     "text": [
      "[467]\tvalid_0's ndcg@1: 0.73705\tvalid_0's ndcg@5: 0.831292\tvalid_0's ndcg@20: 0.856381\n",
      "[468]\tvalid_0's ndcg@1: 0.737007\tvalid_0's ndcg@5: 0.831273\tvalid_0's ndcg@20: 0.856361\n",
      "[469]\tvalid_0's ndcg@1: 0.736996\tvalid_0's ndcg@5: 0.83127\tvalid_0's ndcg@20: 0.856355\n",
      "[470]\tvalid_0's ndcg@1: 0.736882\tvalid_0's ndcg@5: 0.831213\tvalid_0's ndcg@20: 0.856308\n",
      "[471]\tvalid_0's ndcg@1: 0.736762\tvalid_0's ndcg@5: 0.831164\tvalid_0's ndcg@20: 0.856258\n",
      "[472]\tvalid_0's ndcg@1: 0.736755\tvalid_0's ndcg@5: 0.831159\tvalid_0's ndcg@20: 0.856255\n",
      "[473]\tvalid_0's ndcg@1: 0.73675\tvalid_0's ndcg@5: 0.831155\tvalid_0's ndcg@20: 0.856249\n",
      "[474]\tvalid_0's ndcg@1: 0.736675\tvalid_0's ndcg@5: 0.8311\tvalid_0's ndcg@20: 0.856208\n",
      "[475]\tvalid_0's ndcg@1: 0.736679\tvalid_0's ndcg@5: 0.831109\tvalid_0's ndcg@20: 0.85621\n",
      "[476]\tvalid_0's ndcg@1: 0.736659\tvalid_0's ndcg@5: 0.831105\tvalid_0's ndcg@20: 0.856206\n",
      "[477]\tvalid_0's ndcg@1: 0.736639\tvalid_0's ndcg@5: 0.831097\tvalid_0's ndcg@20: 0.8562\n",
      "[478]\tvalid_0's ndcg@1: 0.736623\tvalid_0's ndcg@5: 0.831087\tvalid_0's ndcg@20: 0.856192\n",
      "[479]\tvalid_0's ndcg@1: 0.736626\tvalid_0's ndcg@5: 0.831087\tvalid_0's ndcg@20: 0.856192\n",
      "[480]\tvalid_0's ndcg@1: 0.736664\tvalid_0's ndcg@5: 0.831092\tvalid_0's ndcg@20: 0.856199\n",
      "[481]\tvalid_0's ndcg@1: 0.73666\tvalid_0's ndcg@5: 0.831096\tvalid_0's ndcg@20: 0.856198\n",
      "[482]\tvalid_0's ndcg@1: 0.736618\tvalid_0's ndcg@5: 0.831081\tvalid_0's ndcg@20: 0.856183\n",
      "[483]\tvalid_0's ndcg@1: 0.736598\tvalid_0's ndcg@5: 0.831068\tvalid_0's ndcg@20: 0.856172\n",
      "[484]\tvalid_0's ndcg@1: 0.736583\tvalid_0's ndcg@5: 0.831059\tvalid_0's ndcg@20: 0.856162\n",
      "[485]\tvalid_0's ndcg@1: 0.73659\tvalid_0's ndcg@5: 0.831054\tvalid_0's ndcg@20: 0.856163\n",
      "[486]\tvalid_0's ndcg@1: 0.736589\tvalid_0's ndcg@5: 0.831051\tvalid_0's ndcg@20: 0.85616\n",
      "[487]\tvalid_0's ndcg@1: 0.736628\tvalid_0's ndcg@5: 0.831074\tvalid_0's ndcg@20: 0.856179\n",
      "[488]\tvalid_0's ndcg@1: 0.736633\tvalid_0's ndcg@5: 0.831077\tvalid_0's ndcg@20: 0.856178\n",
      "[489]\tvalid_0's ndcg@1: 0.736533\tvalid_0's ndcg@5: 0.831046\tvalid_0's ndcg@20: 0.856142\n",
      "[490]\tvalid_0's ndcg@1: 0.736528\tvalid_0's ndcg@5: 0.831041\tvalid_0's ndcg@20: 0.856139\n",
      "[491]\tvalid_0's ndcg@1: 0.736506\tvalid_0's ndcg@5: 0.831039\tvalid_0's ndcg@20: 0.856133\n",
      "[492]\tvalid_0's ndcg@1: 0.736497\tvalid_0's ndcg@5: 0.831038\tvalid_0's ndcg@20: 0.85613\n",
      "[493]\tvalid_0's ndcg@1: 0.736491\tvalid_0's ndcg@5: 0.831034\tvalid_0's ndcg@20: 0.856125\n",
      "[494]\tvalid_0's ndcg@1: 0.73648\tvalid_0's ndcg@5: 0.831024\tvalid_0's ndcg@20: 0.856121\n",
      "[495]\tvalid_0's ndcg@1: 0.736439\tvalid_0's ndcg@5: 0.831005\tvalid_0's ndcg@20: 0.856101\n",
      "[496]\tvalid_0's ndcg@1: 0.736444\tvalid_0's ndcg@5: 0.830996\tvalid_0's ndcg@20: 0.856098\n",
      "[497]\tvalid_0's ndcg@1: 0.736445\tvalid_0's ndcg@5: 0.830994\tvalid_0's ndcg@20: 0.856097\n",
      "[498]\tvalid_0's ndcg@1: 0.736424\tvalid_0's ndcg@5: 0.830982\tvalid_0's ndcg@20: 0.856088\n",
      "[499]\tvalid_0's ndcg@1: 0.736397\tvalid_0's ndcg@5: 0.830983\tvalid_0's ndcg@20: 0.856086\n",
      "[500]\tvalid_0's ndcg@1: 0.736372\tvalid_0's ndcg@5: 0.830963\tvalid_0's ndcg@20: 0.856068\n",
      "Early stopping, best iteration is:\n",
      "[400]\tvalid_0's ndcg@1: 0.737296\tvalid_0's ndcg@5: 0.831612\tvalid_0's ndcg@20: 0.856587\n",
      "Evaluated only: ndcg@1\n"
     ]
    },
    {
     "data": {
      "text/plain": [
       "620"
      ]
     },
     "execution_count": 36,
     "metadata": {},
     "output_type": "execute_result"
    }
   ],
   "source": [
    "params= {\n",
    "    'objective': 'lambdarank',\n",
    "    'boosting_type': 'gbdt',\n",
    "    'num_leaves': 128,\n",
    "    'feature_fraction': 0.2,\n",
    "    'bagging_fraction': 0.2,\n",
    "    'max_bin': 256,\n",
    "    'learning_rate': 0.05,\n",
    "    'metric': 'ndcg',\n",
    "    'eval_at': (1, 5, 20),\n",
    "    'first_metric_only': True\n",
    "}\n",
    "\n",
    "model_lgb = lgb.train(params, lgb_train, valid_sets=[lgb_val], num_boost_round=1000, early_stopping_rounds=100)\n",
    "gc.collect()"
   ]
  },
  {
   "cell_type": "code",
   "execution_count": 37,
   "metadata": {},
   "outputs": [
    {
     "data": {
      "text/plain": [
       "<AxesSubplot:title={'center':'Feature importance'}, xlabel='Feature importance', ylabel='Features'>"
      ]
     },
     "execution_count": 37,
     "metadata": {},
     "output_type": "execute_result"
    },
    {
     "data": {
      "image/png": "[encoded data removed]",
      "text/plain": [
       "<Figure size 432x288 with 1 Axes>"
      ]
     },
     "metadata": {
      "needs_background": "light"
     },
     "output_type": "display_data"
    }
   ],
   "source": [
    "lgb.plot_importance(model_lgb, max_num_features=15)"
   ]
  },
  {
   "cell_type": "code",
   "execution_count": 38,
   "metadata": {},
   "outputs": [
    {
     "data": {
      "text/plain": [
       "array(['product_sku_hash_id_sim', 'product_sku_hash_id_lag4_sim',\n",
       "       'product_sku_hash_id_lag2_sim', 'product_sku_hash_id_imgsim',\n",
       "       'neg_sku_score', 'product_sku_hash_id_descsim',\n",
       "       'product_sku_hash_id_lag2_imgsim',\n",
       "       'product_sku_hash_id_lag4_descsim',\n",
       "       'product_sku_hash_id_lag4_imgsim',\n",
       "       'product_sku_hash_id_lag2_descsim', 'product_sku_hash_id_lag1_sim',\n",
       "       'product_sku_hash_id_lag3_sim', 'product_sku_hash_id_lag5_sim',\n",
       "       'product_sku_hash_id_lag5_imgsim',\n",
       "       'product_sku_hash_id_lag3_imgsim'], dtype='<U34')"
      ]
     },
     "execution_count": 38,
     "metadata": {},
     "output_type": "execute_result"
    }
   ],
   "source": [
    "np.array(fea_lambdarank)[[0,4,2,12,30,6,14,10,16,8,1,3,5,17,15]]"
   ]
  },
  {
   "cell_type": "code",
   "execution_count": 39,
   "metadata": {},
   "outputs": [
    {
     "data": {
      "text/plain": [
       "40"
      ]
     },
     "execution_count": 39,
     "metadata": {},
     "output_type": "execute_result"
    }
   ],
   "source": [
    "# this takes too many memory\n",
    "del df_train\n",
    "gc.collect()"
   ]
  },
  {
   "cell_type": "code",
   "execution_count": 40,
   "metadata": {},
   "outputs": [
    {
     "data": {
      "text/plain": [
       "20"
      ]
     },
     "execution_count": 40,
     "metadata": {},
     "output_type": "execute_result"
    }
   ],
   "source": [
    "del lgb_train, lgb_val, dtrain_x, dval_x, dtrain_y, dval_y, dtrain_group, dval_group\n",
    "gc.collect()"
   ]
  },
  {
   "cell_type": "markdown",
   "metadata": {},
   "source": [
    "# Testing set's MRR"
   ]
  },
  {
   "cell_type": "code",
   "execution_count": 158,
   "metadata": {},
   "outputs": [],
   "source": [
    "df_test = pd.read_parquet('df_test_update8')"
   ]
  },
  {
   "cell_type": "code",
   "execution_count": 159,
   "metadata": {},
   "outputs": [],
   "source": [
    "df_test['n'] = df_test.groupby('session_id_hash').cumcount()\n",
    "df_test['query_id'] = df_test['session_id_hash'] + '_' + df_test['n'].astype(str)"
   ]
  },
  {
   "cell_type": "code",
   "execution_count": 1,
   "metadata": {
    "scrolled": true
   },
   "outputs": [],
   "source": [
    "# get topK predicted sku list in test set\n",
    "batch_size = 2000\n",
    "tf_test = tf.data.Dataset.from_tensor_slices({'sku':df_test[fea_prod].values, 'url':df_test[fea_url].values}).batch(batch_size)\n",
    "dist_test = strategy.experimental_distribute_dataset(tf_test)\n",
    "\n",
    "# take around 200s\n",
    "s = time.time()\n",
    "\n",
    "neg_sku_list = []\n",
    "score_list = []\n",
    "i = tf.constant(0)\n",
    "topk=tf.constant(20)\n",
    "\n",
    "for x in dist_test:\n",
    "    _sku_ids, _scores = strategy.run(get_topk_pred, args=(model_mlp, x, topk))\n",
    "    score_list.append(_scores)\n",
    "    neg_sku_list.append(_sku_ids)\n",
    "    i += 1\n",
    "    if i % 100 == 0:\n",
    "        print(i, time.time()-s)\n",
    "        \n",
    "neg_sku_list = list(map(lambda x: list(map(list, x.numpy())), neg_sku_list))\n",
    "neg_sku_list = [item for sublist in neg_sku_list for item in sublist]\n",
    "\n",
    "score_list = list(map(lambda x: list(map(list, x.numpy())), score_list))\n",
    "score_list = [item for sublist in score_list for item in sublist]\n",
    "\n",
    "df_test['neg_sku_list'] = neg_sku_list\n",
    "df_test['neg_sku_score'] = score_list\n",
    "del neg_sku_list, score_list\n",
    "gc.collect()"
   ]
  },
  {
   "cell_type": "code",
   "execution_count": null,
   "metadata": {},
   "outputs": [],
   "source": [
    "# explode df_test with topK sku\n",
    "df_test = df_test.apply(explode).reset_index(drop=True)\n",
    "df_test = df_test.rename(columns = {'neg_sku_list': 'target_sku'})"
   ]
  },
  {
   "cell_type": "code",
   "execution_count": null,
   "metadata": {
    "scrolled": true
   },
   "outputs": [],
   "source": [
    "# add features\n",
    "for matrix, suffix in zip(*[('sku_sim','desc_sim','img_sim','cate_same','price_same'),('_sim','_descsim','_imgsim','_catesame','_pricesame')]):\n",
    "    matrix = np.load(matrix + '_update8.npy')\n",
    "    add_fea_using_matrix(df_test, matrix, suffix, 'product_sku_hash_id', 'target_sku')\n",
    "    del matrix\n",
    "    gc.collect()"
   ]
  },
  {
   "cell_type": "code",
   "execution_count": 42,
   "metadata": {},
   "outputs": [
    {
     "data": {
      "text/plain": [
       "44"
      ]
     },
     "execution_count": 42,
     "metadata": {},
     "output_type": "execute_result"
    }
   ],
   "source": [
    "# predict for df_test\n",
    "y_pred_test = model_lgb.predict(df_test[fea_lambdarank].values)\n",
    "df_test['label_pred'] = y_pred_test\n",
    "del y_pred_test\n",
    "gc.collect()"
   ]
  },
  {
   "cell_type": "code",
   "execution_count": 43,
   "metadata": {},
   "outputs": [],
   "source": [
    "# sort df_test by query_id, and label_pred descending\n",
    "df_test.sort_values(['query_id','label_pred'], ascending=False, inplace=True)"
   ]
  },
  {
   "cell_type": "code",
   "execution_count": 44,
   "metadata": {},
   "outputs": [],
   "source": [
    "# implode df_test: groupby (query_id, next_sku) agg list\n",
    "df_test_r = pd.DataFrame(df_test.groupby(['query_id', 'session_id_hash','next_interacted_sku', 'next_sku', 'rand_id']).agg({'label_pred':list, 'target_sku': list})).reset_index()\n"
   ]
  },
  {
   "cell_type": "code",
   "execution_count": 45,
   "metadata": {
    "scrolled": true
   },
   "outputs": [
    {
     "data": {
      "application/vnd.jupyter.widget-view+json": {
       "model_id": "d9c6c0117a7d478ab453e49c23ccb23b",
       "version_major": 2,
       "version_minor": 0
      },
      "text/plain": [
       "VBox(children=(HBox(children=(IntProgress(value=0, description='0.00%', max=26058), Label(value='0 / 26058')))…"
      ]
     },
     "metadata": {},
     "output_type": "display_data"
    }
   ],
   "source": [
    "# r = df_test.apply(lambda x: x['sku_list'][0:20].index(x['next_sku']))\n",
    "def get_r(x):\n",
    "    try:\n",
    "        return x['target_sku'][0:20].index(x['next_interacted_sku']) + 1\n",
    "    except ValueError:\n",
    "        return 1000000\n",
    "\n",
    "df_test_r['r'] = df_test_r[['target_sku','next_interacted_sku']].parallel_apply(get_r, axis=1)\n",
    "df_test_r['rr'] = 1/df_test_r['r']"
   ]
  },
  {
   "cell_type": "code",
   "execution_count": 47,
   "metadata": {},
   "outputs": [
    {
     "name": "stdout",
     "output_type": "stream",
     "text": [
      "MRR=0.3216\n",
      "136411 out of 312691 records (43.62%) with prediction outside top20\n",
      "---------------------------\n",
      "random pick one per session\n",
      "MRR=0.3640 \n",
      "18545 out of 52660 sessions (35.22%) with prediction outside top20\n"
     ]
    }
   ],
   "source": [
    "topk=tf.constant(20)\n",
    "\n",
    "rr = df_test_r.rr.values\n",
    "print('MRR=%.4f'%np.mean(rr))\n",
    "out_rr = (rr<1/20)\n",
    "print('%d out of %d records (%.2f%%) with prediction outside top%d'%(\n",
    "    out_rr.sum(), out_rr.shape[0], (out_rr.mean())*100., topk.numpy()), flush=True)\n",
    "\n",
    "print('---------------------------')\n",
    "print('random pick one per session')\n",
    "# rr = df_test.groupby(['session_id_hash'])['rr'].sample(1)\n",
    "cond = df_test_r.groupby(['session_id_hash'])['rand_id'].transform(min) == df_test_r['rand_id']\n",
    "print('MRR=%.4f ' % np.mean(rr[cond]))\n",
    "print('%d out of %d sessions (%.2f%%) with prediction outside top%d'%(\n",
    "    out_rr[cond].sum(), out_rr[cond].shape[0], (out_rr[cond].mean())*100., topk.numpy()), flush=True)"
   ]
  },
  {
   "cell_type": "code",
   "execution_count": 188,
   "metadata": {},
   "outputs": [
    {
     "data": {
      "text/plain": [
       "40"
      ]
     },
     "execution_count": 188,
     "metadata": {},
     "output_type": "execute_result"
    }
   ],
   "source": [
    "del df_test, df_test_r\n",
    "# del model_lgb\n",
    "gc.collect()"
   ]
  },
  {
   "cell_type": "markdown",
   "metadata": {},
   "source": [
    "## prepare submission"
   ]
  },
  {
   "cell_type": "code",
   "execution_count": 49,
   "metadata": {},
   "outputs": [],
   "source": [
    "df_submission = pd.read_parquet('df_submission')"
   ]
  },
  {
   "cell_type": "code",
   "execution_count": 50,
   "metadata": {},
   "outputs": [
    {
     "data": {
      "text/html": [
       "<div>\n",
       "<style scoped>\n",
       "    .dataframe tbody tr th:only-of-type {\n",
       "        vertical-align: middle;\n",
       "    }\n",
       "\n",
       "    .dataframe tbody tr th {\n",
       "        vertical-align: top;\n",
       "    }\n",
       "\n",
       "    .dataframe thead th {\n",
       "        text-align: right;\n",
       "    }\n",
       "</style>\n",
       "<table border=\"1\" class=\"dataframe\">\n",
       "  <thead>\n",
       "    <tr style=\"text-align: right;\">\n",
       "      <th></th>\n",
       "      <th>session_id_hash</th>\n",
       "      <th>event_type</th>\n",
       "      <th>product_action</th>\n",
       "      <th>product_sku_hash</th>\n",
       "      <th>server_timestamp_epoch_ms</th>\n",
       "      <th>hashed_url</th>\n",
       "      <th>train</th>\n",
       "      <th>server_day</th>\n",
       "      <th>product_sku_hash_id</th>\n",
       "      <th>hashed_url_id</th>\n",
       "      <th>...</th>\n",
       "      <th>product_action_id_lag1</th>\n",
       "      <th>product_action_id_lag2</th>\n",
       "      <th>product_action_id_lag3</th>\n",
       "      <th>product_action_id_lag4</th>\n",
       "      <th>product_action_id_lag5</th>\n",
       "      <th>sess_step</th>\n",
       "      <th>next_sku</th>\n",
       "      <th>next_interacted_sku</th>\n",
       "      <th>kfoldidx</th>\n",
       "      <th>rand_id</th>\n",
       "    </tr>\n",
       "  </thead>\n",
       "  <tbody>\n",
       "    <tr>\n",
       "      <th>0</th>\n",
       "      <td>000028429ab6afd40f2a4d59c183ea46390fdfa3d04c80...</td>\n",
       "      <td>event_product</td>\n",
       "      <td>detail</td>\n",
       "      <td>4641de8468a39c53a151e8ee5f3bd731e69b3d7ac61335...</td>\n",
       "      <td>2019-05-09 20:07:15.044</td>\n",
       "      <td>4f7f239c607d10b0843ceeccb98aecb382f8c18a931758...</td>\n",
       "      <td>0</td>\n",
       "      <td>2019-05-09</td>\n",
       "      <td>11210</td>\n",
       "      <td>74134</td>\n",
       "      <td>...</td>\n",
       "      <td>0</td>\n",
       "      <td>0</td>\n",
       "      <td>0</td>\n",
       "      <td>0</td>\n",
       "      <td>0</td>\n",
       "      <td>0</td>\n",
       "      <td>25402</td>\n",
       "      <td>25402.0</td>\n",
       "      <td>-1</td>\n",
       "      <td>0</td>\n",
       "    </tr>\n",
       "    <tr>\n",
       "      <th>1</th>\n",
       "      <td>000074f533a4fb893af451e4d436d326ddd2a7e83151a9...</td>\n",
       "      <td>event_product</td>\n",
       "      <td>detail</td>\n",
       "      <td>7571fbadb886e669ea4ac666b585fcc798c1f5970867c5...</td>\n",
       "      <td>2019-04-16 19:37:19.867</td>\n",
       "      <td>0301401ac53e67e319036bbb0c12a4715ec5df45614023...</td>\n",
       "      <td>0</td>\n",
       "      <td>2019-04-16</td>\n",
       "      <td>18597</td>\n",
       "      <td>2718</td>\n",
       "      <td>...</td>\n",
       "      <td>0</td>\n",
       "      <td>0</td>\n",
       "      <td>0</td>\n",
       "      <td>0</td>\n",
       "      <td>0</td>\n",
       "      <td>0</td>\n",
       "      <td>25402</td>\n",
       "      <td>25402.0</td>\n",
       "      <td>-1</td>\n",
       "      <td>0</td>\n",
       "    </tr>\n",
       "    <tr>\n",
       "      <th>2</th>\n",
       "      <td>0000a6d196680bebf931ad7670f479c5c5357b3f1f8943...</td>\n",
       "      <td>pageview</td>\n",
       "      <td>_</td>\n",
       "      <td>_</td>\n",
       "      <td>2019-05-01 16:53:08.695</td>\n",
       "      <td>9cfe9b259c3c4029a5d20e3542905d07ccf50d9a3bd4d7...</td>\n",
       "      <td>0</td>\n",
       "      <td>2019-05-01</td>\n",
       "      <td>25402</td>\n",
       "      <td>146255</td>\n",
       "      <td>...</td>\n",
       "      <td>0</td>\n",
       "      <td>0</td>\n",
       "      <td>0</td>\n",
       "      <td>0</td>\n",
       "      <td>0</td>\n",
       "      <td>0</td>\n",
       "      <td>25402</td>\n",
       "      <td>25402.0</td>\n",
       "      <td>-1</td>\n",
       "      <td>0</td>\n",
       "    </tr>\n",
       "    <tr>\n",
       "      <th>3</th>\n",
       "      <td>0001f7b93896b89ad8272f56cc2fe3ae39e9624d31ab4f...</td>\n",
       "      <td>event_product</td>\n",
       "      <td>detail</td>\n",
       "      <td>e3c30b1ca9efaf74fb64a74f2416121d3efe169936d8a7...</td>\n",
       "      <td>2019-05-10 00:38:49.491</td>\n",
       "      <td>2b3dfa89ecba708d637bf997472319f548ef3e0913505f...</td>\n",
       "      <td>0</td>\n",
       "      <td>2019-05-10</td>\n",
       "      <td>36029</td>\n",
       "      <td>40280</td>\n",
       "      <td>...</td>\n",
       "      <td>0</td>\n",
       "      <td>2</td>\n",
       "      <td>0</td>\n",
       "      <td>2</td>\n",
       "      <td>2</td>\n",
       "      <td>6</td>\n",
       "      <td>25402</td>\n",
       "      <td>25402.0</td>\n",
       "      <td>-1</td>\n",
       "      <td>3</td>\n",
       "    </tr>\n",
       "    <tr>\n",
       "      <th>4</th>\n",
       "      <td>00024ffd94a577c77010e94625814bc15cf49fc367169f...</td>\n",
       "      <td>pageview</td>\n",
       "      <td>_</td>\n",
       "      <td>_</td>\n",
       "      <td>2019-04-28 22:05:18.401</td>\n",
       "      <td>9c2fdd5f2c20115d95abcf93bb984408f4ced15a9aa334...</td>\n",
       "      <td>0</td>\n",
       "      <td>2019-04-28</td>\n",
       "      <td>25402</td>\n",
       "      <td>145439</td>\n",
       "      <td>...</td>\n",
       "      <td>0</td>\n",
       "      <td>0</td>\n",
       "      <td>0</td>\n",
       "      <td>0</td>\n",
       "      <td>0</td>\n",
       "      <td>0</td>\n",
       "      <td>25402</td>\n",
       "      <td>25402.0</td>\n",
       "      <td>-1</td>\n",
       "      <td>0</td>\n",
       "    </tr>\n",
       "  </tbody>\n",
       "</table>\n",
       "<p>5 rows × 37 columns</p>\n",
       "</div>"
      ],
      "text/plain": [
       "                                     session_id_hash     event_type  \\\n",
       "0  000028429ab6afd40f2a4d59c183ea46390fdfa3d04c80...  event_product   \n",
       "1  000074f533a4fb893af451e4d436d326ddd2a7e83151a9...  event_product   \n",
       "2  0000a6d196680bebf931ad7670f479c5c5357b3f1f8943...       pageview   \n",
       "3  0001f7b93896b89ad8272f56cc2fe3ae39e9624d31ab4f...  event_product   \n",
       "4  00024ffd94a577c77010e94625814bc15cf49fc367169f...       pageview   \n",
       "\n",
       "  product_action                                   product_sku_hash  \\\n",
       "0         detail  4641de8468a39c53a151e8ee5f3bd731e69b3d7ac61335...   \n",
       "1         detail  7571fbadb886e669ea4ac666b585fcc798c1f5970867c5...   \n",
       "2              _                                                  _   \n",
       "3         detail  e3c30b1ca9efaf74fb64a74f2416121d3efe169936d8a7...   \n",
       "4              _                                                  _   \n",
       "\n",
       "  server_timestamp_epoch_ms  \\\n",
       "0   2019-05-09 20:07:15.044   \n",
       "1   2019-04-16 19:37:19.867   \n",
       "2   2019-05-01 16:53:08.695   \n",
       "3   2019-05-10 00:38:49.491   \n",
       "4   2019-04-28 22:05:18.401   \n",
       "\n",
       "                                          hashed_url  train  server_day  \\\n",
       "0  4f7f239c607d10b0843ceeccb98aecb382f8c18a931758...      0  2019-05-09   \n",
       "1  0301401ac53e67e319036bbb0c12a4715ec5df45614023...      0  2019-04-16   \n",
       "2  9cfe9b259c3c4029a5d20e3542905d07ccf50d9a3bd4d7...      0  2019-05-01   \n",
       "3  2b3dfa89ecba708d637bf997472319f548ef3e0913505f...      0  2019-05-10   \n",
       "4  9c2fdd5f2c20115d95abcf93bb984408f4ced15a9aa334...      0  2019-04-28   \n",
       "\n",
       "   product_sku_hash_id  hashed_url_id  ...  product_action_id_lag1  \\\n",
       "0                11210          74134  ...                       0   \n",
       "1                18597           2718  ...                       0   \n",
       "2                25402         146255  ...                       0   \n",
       "3                36029          40280  ...                       0   \n",
       "4                25402         145439  ...                       0   \n",
       "\n",
       "   product_action_id_lag2  product_action_id_lag3  product_action_id_lag4  \\\n",
       "0                       0                       0                       0   \n",
       "1                       0                       0                       0   \n",
       "2                       0                       0                       0   \n",
       "3                       2                       0                       2   \n",
       "4                       0                       0                       0   \n",
       "\n",
       "   product_action_id_lag5  sess_step  next_sku  next_interacted_sku  kfoldidx  \\\n",
       "0                       0          0     25402              25402.0        -1   \n",
       "1                       0          0     25402              25402.0        -1   \n",
       "2                       0          0     25402              25402.0        -1   \n",
       "3                       2          6     25402              25402.0        -1   \n",
       "4                       0          0     25402              25402.0        -1   \n",
       "\n",
       "   rand_id  \n",
       "0        0  \n",
       "1        0  \n",
       "2        0  \n",
       "3        3  \n",
       "4        0  \n",
       "\n",
       "[5 rows x 37 columns]"
      ]
     },
     "execution_count": 50,
     "metadata": {},
     "output_type": "execute_result"
    }
   ],
   "source": [
    "df_submission.head()"
   ]
  },
  {
   "cell_type": "code",
   "execution_count": 52,
   "metadata": {},
   "outputs": [
    {
     "data": {
      "text/plain": [
       "0"
      ]
     },
     "execution_count": 52,
     "metadata": {},
     "output_type": "execute_result"
    }
   ],
   "source": [
    "# get topK predicted sku list in test set\n",
    "batch_size = 2000\n",
    "tf_submission = tf.data.Dataset.from_tensor_slices({'sku':df_submission[fea_prod].values, 'url':df_submission[fea_url].values}).batch(batch_size)\n",
    "dist_submission = strategy.experimental_distribute_dataset(tf_submission)\n",
    "\n",
    "# take around 200s\n",
    "s = time.time()\n",
    "\n",
    "neg_sku_list = []\n",
    "score_list = []\n",
    "i = tf.constant(0)\n",
    "topk=tf.constant(20)\n",
    "\n",
    "for x in dist_submission:\n",
    "    _sku_ids, _scores = strategy.run(get_topk_pred, args=(model_mlp, x, topk))\n",
    "    score_list.append(_scores)\n",
    "    neg_sku_list.append(_sku_ids)\n",
    "    i += 1\n",
    "    if i % 100 == 0:\n",
    "        print(i, time.time()-s)\n",
    "        \n",
    "neg_sku_list = list(map(lambda x: list(map(list, x.numpy())), neg_sku_list))\n",
    "neg_sku_list = [item for sublist in neg_sku_list for item in sublist]\n",
    "\n",
    "score_list = list(map(lambda x: list(map(list, x.numpy())), score_list))\n",
    "score_list = [item for sublist in score_list for item in sublist]\n",
    "\n",
    "df_submission['neg_sku_list'] = neg_sku_list\n",
    "df_submission['neg_sku_score'] = score_list\n",
    "del neg_sku_list, score_list\n",
    "gc.collect()"
   ]
  },
  {
   "cell_type": "code",
   "execution_count": 55,
   "metadata": {},
   "outputs": [],
   "source": [
    "df_submission = df_submission.apply(explode).reset_index(drop=True)\n",
    "df_submission = df_submission.rename(columns = {'neg_sku_list': 'target_sku'})"
   ]
  },
  {
   "cell_type": "code",
   "execution_count": 56,
   "metadata": {},
   "outputs": [
    {
     "name": "stdout",
     "output_type": "stream",
     "text": [
      "created product_sku_hash_id_sim\n",
      "created product_sku_hash_id_lag1_sim\n",
      "created product_sku_hash_id_lag2_sim\n",
      "created product_sku_hash_id_lag3_sim\n",
      "created product_sku_hash_id_lag4_sim\n",
      "created product_sku_hash_id_lag5_sim\n",
      "created product_sku_hash_id_descsim\n",
      "created product_sku_hash_id_lag1_descsim\n",
      "created product_sku_hash_id_lag2_descsim\n",
      "created product_sku_hash_id_lag3_descsim\n",
      "created product_sku_hash_id_lag4_descsim\n",
      "created product_sku_hash_id_lag5_descsim\n",
      "created product_sku_hash_id_imgsim\n",
      "created product_sku_hash_id_lag1_imgsim\n",
      "created product_sku_hash_id_lag2_imgsim\n",
      "created product_sku_hash_id_lag3_imgsim\n",
      "created product_sku_hash_id_lag4_imgsim\n",
      "created product_sku_hash_id_lag5_imgsim\n",
      "created product_sku_hash_id_catesame\n",
      "created product_sku_hash_id_lag1_catesame\n",
      "created product_sku_hash_id_lag2_catesame\n",
      "created product_sku_hash_id_lag3_catesame\n",
      "created product_sku_hash_id_lag4_catesame\n",
      "created product_sku_hash_id_lag5_catesame\n",
      "created product_sku_hash_id_pricesame\n",
      "created product_sku_hash_id_lag1_pricesame\n",
      "created product_sku_hash_id_lag2_pricesame\n",
      "created product_sku_hash_id_lag3_pricesame\n",
      "created product_sku_hash_id_lag4_pricesame\n",
      "created product_sku_hash_id_lag5_pricesame\n"
     ]
    }
   ],
   "source": [
    "# add features\n",
    "for matrix, suffix in zip(*[('sku_sim','desc_sim','img_sim','cate_same','price_same'),('_sim','_descsim','_imgsim','_catesame','_pricesame')]):\n",
    "    matrix = np.load(matrix + '_update8.npy')\n",
    "    add_fea_using_matrix(df_submission, matrix, suffix, 'product_sku_hash_id', 'target_sku')\n",
    "    del matrix\n",
    "    gc.collect()"
   ]
  },
  {
   "cell_type": "code",
   "execution_count": 57,
   "metadata": {},
   "outputs": [],
   "source": [
    "# predict for df_submission\n",
    "y_pred_sub = model_lgb.predict(df_submission[fea_lambdarank].values)\n",
    "df_submission['label_pred'] = y_pred_sub\n",
    "del y_pred_sub\n",
    "gc.collect()\n",
    "\n",
    "# sort df_test by query_id, and label_pred descending\n",
    "df_submission.sort_values(['session_id_hash','label_pred'], ascending=False, inplace=True)\n",
    "df_submission = pd.DataFrame(df_submission.groupby(['session_id_hash',]).agg({'label_pred':list, 'target_sku': list})).reset_index()\n"
   ]
  },
  {
   "cell_type": "code",
   "execution_count": 70,
   "metadata": {
    "scrolled": true
   },
   "outputs": [],
   "source": [
    "test_file='./data/rec_test_phase_1.json'\n",
    "with open(test_file) as json_file:\n",
    "    # read the test cases from the provided file\n",
    "    test_queries = json.load(json_file)"
   ]
  },
  {
   "cell_type": "code",
   "execution_count": 95,
   "metadata": {},
   "outputs": [],
   "source": [
    "def set_submission(q):\n",
    "    sess_id = q['query'][0]['session_id_hash']\n",
    "    try:\n",
    "        next_sku_id = df_submission.loc[df_submission.session_id_hash == sess_id, 'target_sku'].values[0][0:20]\n",
    "        next_sku = skucate.categories[next_sku_id].tolist()\n",
    "    except (ValueError, IndexError):\n",
    "        # query with only search events not exists in df_test\n",
    "        next_sku = np.random.choice(skucate.categories, 20, False).tolist()\n",
    "    \n",
    "    # copy the test case\n",
    "    _pred = dict(q)\n",
    "\n",
    "    # append the label - which needs to be a list\n",
    "    _pred[\"label\"] = next_sku\n",
    "    return _pred\n"
   ]
  },
  {
   "cell_type": "code",
   "execution_count": 96,
   "metadata": {
    "scrolled": true
   },
   "outputs": [
    {
     "data": {
      "application/vnd.jupyter.widget-view+json": {
       "model_id": "21a8319bbfe440db84d422d6b8be3a84",
       "version_major": 2,
       "version_minor": 0
      },
      "text/plain": [
       "  0%|          | 0/142327 [00:00<?, ?it/s]"
      ]
     },
     "metadata": {},
     "output_type": "display_data"
    }
   ],
   "source": [
    "my_predictions = Parallel(n_jobs=multiprocessing.cpu_count(), backend='multiprocessing')(delayed(set_submission)(q) for q in tqdm(test_queries))\n",
    "# check for consistency\n",
    "assert len(my_predictions) == len(test_queries)"
   ]
  },
  {
   "cell_type": "code",
   "execution_count": 97,
   "metadata": {},
   "outputs": [],
   "source": [
    "EMAIL = ''\n",
    "local_prediction_file = '{}_{}.json'.format(EMAIL.replace('@', '_'), round(time.time() * 1000))\n",
    "# dump to file\n",
    "with open(local_prediction_file, 'w') as outfile:\n",
    "    json.dump(my_predictions, outfile, indent=2)"
   ]
  },
  {
   "cell_type": "code",
   "execution_count": 98,
   "metadata": {},
   "outputs": [
    {
     "name": "stdout",
     "output_type": "stream",
     "text": [
      "louiskitlung_connect.hku.hk_1622013600547.json\n"
     ]
    }
   ],
   "source": [
    "print(local_prediction_file)"
   ]
  },
  {
   "cell_type": "code",
   "execution_count": 100,
   "metadata": {},
   "outputs": [],
   "source": [
    "from dotenv import load_dotenv\n",
    "from datetime import datetime\n",
    "import boto3\n",
    "load_dotenv(verbose=True, dotenv_path='./submission/upload.env')\n",
    "\n",
    "BUCKET_NAME = os.getenv('BUCKET_NAME') # you received it in your e-mail\n",
    "EMAIL = os.getenv('EMAIL') # the e-mail you used to sign up\n",
    "PARTICIPANT_ID = os.getenv('PARTICIPANT_ID') # you received it in your e-mail\n",
    "AWS_ACCESS_KEY = os.getenv('AWS_ACCESS_KEY') # you received it in your e-mail\n",
    "AWS_SECRET_KEY = os.getenv('AWS_SECRET_KEY') # you received it in your e-mail\n",
    "\n",
    "def upload_submission(\n",
    "        local_file: str,\n",
    "        task: str\n",
    "):\n",
    "    \"\"\"\n",
    "    Thanks to Alex Egg for catching the bug!\n",
    "\n",
    "    :param local_file: local path, may be only the file name or a full path\n",
    "    :param task: rec or cart\n",
    "    :return:\n",
    "    \"\"\"\n",
    "\n",
    "    print(\"Starting submission at {}...\\n\".format(datetime.utcnow()))\n",
    "    # instantiate boto3 client\n",
    "    s3_client = boto3.client(\n",
    "        's3',\n",
    "        aws_access_key_id=AWS_ACCESS_KEY ,\n",
    "        aws_secret_access_key=AWS_SECRET_KEY,\n",
    "        region_name='us-west-2'\n",
    "    )\n",
    "    s3_file_name = os.path.basename(local_file)\n",
    "    # prepare s3 path according to the spec\n",
    "    s3_file_path = '{}/{}/{}'.format(task, PARTICIPANT_ID, s3_file_name)  # it needs to be like e.g. \"rec/id/*.json\"\n",
    "    # upload file\n",
    "    s3_client.upload_file(local_file, BUCKET_NAME, s3_file_path)\n",
    "    # say bye\n",
    "    print(\"\\nAll done at {}: see you, space cowboy!\".format(datetime.utcnow()))\n",
    "\n",
    "    return\n"
   ]
  },
  {
   "cell_type": "code",
   "execution_count": 101,
   "metadata": {},
   "outputs": [
    {
     "name": "stdout",
     "output_type": "stream",
     "text": [
      "Starting submission at 2021-05-26 07:22:47.142922...\n",
      "\n",
      "\n",
      "All done at 2021-05-26 07:22:52.780986: see you, space cowboy!\n"
     ]
    }
   ],
   "source": [
    "upload_submission(local_file=local_prediction_file, task='rec')"
   ]
  },
  {
   "cell_type": "code",
   "execution_count": 35,
   "metadata": {},
   "outputs": [
    {
     "name": "stdout",
     "output_type": "stream",
     "text": [
      "Mon May 17 04:36:37 UTC 2021\r\n"
     ]
    }
   ],
   "source": [
    "!date"
   ]
  }
 ],
 "metadata": {
  "kernelspec": {
   "display_name": "Python 3",
   "language": "python",
   "name": "python3"
  },
  "language_info": {
   "codemirror_mode": {
    "name": "ipython",
    "version": 3
   },
   "file_extension": ".py",
   "mimetype": "text/x-python",
   "name": "python",
   "nbconvert_exporter": "python",
   "pygments_lexer": "ipython3",
   "version": "3.6.6"
  }
 },
 "nbformat": 4,
 "nbformat_minor": 2
}
