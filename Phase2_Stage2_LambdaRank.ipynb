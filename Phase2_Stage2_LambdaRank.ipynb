{
 "cells": [
  {
   "cell_type": "code",
   "execution_count": 1,
   "metadata": {},
   "outputs": [
    {
     "name": "stdout",
     "output_type": "stream",
     "text": [
      "INFO: Pandarallel will run on 12 workers.\n",
      "INFO: Pandarallel will use Memory file system to transfer data between the main process and workers.\n"
     ]
    }
   ],
   "source": [
    "import pandas as pd\n",
    "import numpy as np\n",
    "import tensorflow as tf\n",
    "from tensorflow import keras\n",
    "from tensorflow.nn import leaky_relu\n",
    "from tensorflow.keras import layers, activations, losses, Model, Input\n",
    "from tensorflow.keras.utils import plot_model, Progbar\n",
    "from tensorflow.keras.callbacks import EarlyStopping, ModelCheckpoint\n",
    "from tensorflow.keras.metrics import SparseCategoricalAccuracy, SparseTopKCategoricalAccuracy\n",
    "# import tensorflow_ranking as tfr\n",
    "from sklearn.model_selection import train_test_split\n",
    "import os, time, gc, json, math, random, re\n",
    "from tqdm.notebook import tqdm, trange\n",
    "from matplotlib import pyplot as plt\n",
    "from joblib import Parallel, delayed\n",
    "from ast import literal_eval\n",
    "import multiprocessing\n",
    "import itertools\n",
    "from sklearn.metrics.pairwise import cosine_similarity, pairwise_kernels\n",
    "from itertools import combinations\n",
    "import matplotlib.pyplot as plt\n",
    "from scipy import ndimage\n",
    "import lightgbm as lgb\n",
    "from pandarallel import pandarallel\n",
    "pandarallel.initialize(progress_bar=True)\n",
    "\n",
    "\n",
    "fea_prod = ['product_sku_hash_id_lag5', 'product_sku_hash_id_lag4', 'product_sku_hash_id_lag3', \n",
    "            'product_sku_hash_id_lag2', 'product_sku_hash_id_lag1', 'product_sku_hash_id']\n",
    "fea_url = ['hashed_url_id_lag5', 'hashed_url_id_lag4', 'hashed_url_id_lag3', \n",
    "           'hashed_url_id_lag2', 'hashed_url_id_lag1', 'hashed_url_id']\n",
    "features = fea_prod + fea_url"
   ]
  },
  {
   "cell_type": "code",
   "execution_count": 2,
   "metadata": {},
   "outputs": [],
   "source": [
    "def str_to_list(x):\n",
    "        if not isinstance(x, str) and np.isnan(x):\n",
    "            return []\n",
    "        else:\n",
    "            return literal_eval(x)\n",
    "        \n",
    "def add_fea_using_matrix(df, matrix, suffix='_sim', col='product_sku_hash_id', keycol='target_sku'):\n",
    "    for c in [c for c in df.columns if (c.startswith(col) and bool(re.search('lag[0-9]*$', c))) or (c == col)]:\n",
    "        if c + suffix not in df.columns:\n",
    "            df[c + suffix] = matrix[df[c].astype(int), df[keycol].astype(int)]\n",
    "            print('created ' + c + suffix)\n",
    "\n",
    "@tf.function\n",
    "def get_topk_pred(model, x, topk=tf.constant(3)):\n",
    "    # this is for tf dataset version\n",
    "    y_pred = model(x, training=False)\n",
    "    col_to_zero = [naid, minorid]\n",
    "    tnsr_shape=tf.shape(y_pred['logits'])\n",
    "    mask = [tf.one_hot(col_num*tf.ones((tnsr_shape[0], ), dtype=tf.int32), tnsr_shape[-1]) for col_num in col_to_zero]\n",
    "    mask = tf.reduce_sum(mask, axis=0) * -9999\n",
    "    y_pred['logits'] = tf.add(y_pred['logits'], mask)\n",
    "    \n",
    "    # topk items' id for each session, 2d array\n",
    "    top = tf.math.top_k(y_pred['logits'], k=topk)\n",
    "    return top.indices, keras.activations.sigmoid(top.values)\n",
    "\n",
    "def explode(x):\n",
    "    if x.name in ['neg_sku_list','neg_sku_score']:\n",
    "        return pd.Series.explode(x)\n",
    "    else:\n",
    "        return x\n"
   ]
  },
  {
   "cell_type": "code",
   "execution_count": 3,
   "metadata": {
    "scrolled": true
   },
   "outputs": [
    {
     "data": {
      "text/plain": [
       "0"
      ]
     },
     "execution_count": 3,
     "metadata": {},
     "output_type": "execute_result"
    }
   ],
   "source": [
    "# can simply reuse df_browse_v3_update\n",
    "df_browse = pd.read_parquet('df_browse_phase2')\n",
    "# df_browse['sample_weights'] = pd.to_datetime(df_browse.server_day).dt.month\n",
    "\n",
    "skucate = df_browse.product_sku_hash.cat\n",
    "num_sku = df_browse.product_sku_hash_id_lag1.max() + 1\n",
    "num_url = df_browse.hashed_url_id_lag1.max() + 1\n",
    "\n",
    "# get num_x from x_lag1 because function create_shift_features\n",
    "# may created a new_id in lag columns\n",
    "naid = df_browse.product_sku_hash.cat.categories.tolist().index('_')\n",
    "minorid = df_browse.product_sku_hash.cat.categories.tolist().index('minority')\n",
    "\n",
    "# note this df_test is used for cal testing MRR later, \n",
    "# it is different from the df_test used for training\n",
    "if not os.path.exists('df_test_phase2'):\n",
    "    df_test = df_browse[df_browse.train==0].copy()\n",
    "    df_test = df_test.loc[df_test.next_interacted_sku!=naid]\n",
    "    df_test.to_parquet('df_test_phase2')\n",
    "    del df_test\n",
    "    gc.collect()\n",
    "\n",
    "if not os.path.exists('df_train_phase2'):\n",
    "    df_train = df_browse[df_browse.train==1]\n",
    "    df_train = df_train[(df_train.next_sku!=naid)].reset_index(drop=True)\n",
    "    # include testing data into training\n",
    "    df_test = df_browse[df_browse.train==0]\n",
    "    df_test = df_test[(df_test.next_sku!=naid)].reset_index(drop=True)\n",
    "    \n",
    "    def strafiedkfold(df, idcol, k=5):\n",
    "        \"\"\"\n",
    "        sklearn kfold will do unnessary sorting\n",
    "        so build my own function\n",
    "        \"\"\"\n",
    "        df_kidx = df_train.session_id_hash.unique()\n",
    "        np.random.seed(123)\n",
    "        np.random.shuffle(df_kidx)\n",
    "        df_kidx = pd.DataFrame({idcol: df_kidx})\n",
    "        df_kidx['kfoldidx'] = df_kidx.index % k\n",
    "        df = df.merge(df_kidx, on=idcol, copy=False)\n",
    "        print(df['kfoldidx'].value_counts())\n",
    "        return df\n",
    "    \n",
    "    if 'kfoldidx' in df_train.columns:\n",
    "        df_train.drop(columns='kfoldidx', inplace=True)\n",
    "    df_test['kfoldidx'] = 1\n",
    "    df_train = strafiedkfold(df_train, 'session_id_hash', k=5)\n",
    "    df_train = pd.concat([df_train, df_test])\n",
    "    # x_train_weights = df_train.loc[df_train.kfoldidx!=0].sample_weights.reset_index(drop=True)\n",
    "    df_train.to_parquet('df_train_phase2')\n",
    "\n",
    "    del df_test, df_train\n",
    "    gc.collect()\n",
    "\n",
    "if not os.path.exists('df_submission_phase2'):\n",
    "    df_submission = df_browse[df_browse.train==0]\n",
    "    df_submission = df_submission.groupby('session_id_hash').tail(1).reset_index(drop=True)\n",
    "    df_submission.to_parquet('df_submission_phase2')\n",
    "    gc.collect()\n",
    "    \n",
    "del df_browse\n",
    "gc.collect()"
   ]
  },
  {
   "cell_type": "code",
   "execution_count": 4,
   "metadata": {
    "scrolled": true
   },
   "outputs": [
    {
     "name": "stdout",
     "output_type": "stream",
     "text": [
      "('Failed to import pydot. You must `pip install pydot` and install graphviz (https://graphviz.gitlab.io/download/), ', 'for `pydotprint` to work.')\n"
     ]
    }
   ],
   "source": [
    "# model architecture\n",
    "class MLP(Model):\n",
    "    def __init__(self, num_sku, num_url, embed_dim=312):\n",
    "        super().__init__()\n",
    "        \n",
    "        self.normal_init = keras.initializers.RandomNormal(mean=0., stddev=0.01)\n",
    "        \n",
    "        self.sku_embed = layers.Embedding(num_sku, embed_dim, self.normal_init)\n",
    "        self.url_embed = layers.Embedding(num_url, embed_dim, self.normal_init)\n",
    "        \n",
    "        self.dense1 = layers.Dense(1024)\n",
    "        self.norm1 = layers.BatchNormalization()\n",
    "        self.activate1 = layers.ReLU()\n",
    "        self.dropout1 = layers.Dropout(0.2)\n",
    "        \n",
    "        self.dense2 = layers.Dense(1024)\n",
    "        self.norm2 = layers.BatchNormalization()\n",
    "        self.activate2 = layers.ReLU()\n",
    "        self.dropout2 = layers.Dropout(0.2)\n",
    "        \n",
    "        self.dense3 = layers.Dense(embed_dim)\n",
    "        self.norm3 = layers.BatchNormalization()\n",
    "        self.activate3 = layers.ReLU(name='sess_embed')\n",
    "        self.dropout3 = layers.Dropout(0.2)\n",
    "        \n",
    "        self.output_bias = tf.random.normal((num_sku,), 0., 0.01)\n",
    "    \n",
    "    def call(self, inputs):\n",
    "        lag_sku, lag_url = inputs['sku'], inputs['url']\n",
    "        \n",
    "        sku_embed = layers.Flatten()(self.sku_embed(lag_sku))\n",
    "        url_embed = layers.Flatten()(self.url_embed(lag_url))\n",
    "        \n",
    "        x = layers.concatenate([sku_embed, url_embed])\n",
    "        x = self.activate1(self.norm1(self.dense1(x)))\n",
    "        x = self.dropout1(x)\n",
    "\n",
    "        x = self.activate2(self.norm2(self.dense2(x)))\n",
    "        x = self.dropout2(x)\n",
    "\n",
    "        sess_embed = self.activate3(self.norm3(self.dense3(x)))\n",
    "        x = self.dropout3(sess_embed)\n",
    "        \n",
    "        x = tf.matmul(x, tf.transpose(self.sku_embed.weights[0]))\n",
    "        logits = tf.nn.bias_add(x, self.output_bias, name='logits')\n",
    "\n",
    "        return {'logits': logits, 'embed': sess_embed}\n",
    "    \n",
    "    def build_graph(self):\n",
    "        x = {'sku': Input(shape=(6)), 'url': Input(shape=(6))}\n",
    "        return Model(inputs=x, outputs=self.call(x))\n",
    "    \n",
    "    def predict_subset(self, x, u, l):\n",
    "        _x = []\n",
    "        for i in range(len(x)):\n",
    "            _x.append(x[i][u:l])\n",
    "        return self.predict(_x)\n",
    "    \n",
    "keras.utils.plot_model(MLP(num_sku, num_url).build_graph(), show_shapes=False)"
   ]
  },
  {
   "cell_type": "code",
   "execution_count": 5,
   "metadata": {
    "scrolled": true
   },
   "outputs": [
    {
     "name": "stdout",
     "output_type": "stream",
     "text": [
      "WARNING:tensorflow:There are non-GPU devices in `tf.distribute.Strategy`, not using nccl allreduce.\n",
      "INFO:tensorflow:Using MirroredStrategy with devices ('/job:localhost/replica:0/task:0/device:CPU:0',)\n",
      "Number of devices: 1\n",
      "5/5 [==============================] - 6s 420ms/step - loss: 10.6976 - logits_loss: 10.6976 - logits_top1_acc: 0.0000e+00 - logits_top20_acc: 0.0000e+00\n"
     ]
    }
   ],
   "source": [
    "x_train_one = {'sku': np.random.randint(num_sku, size=(10, 6)), 'url': np.random.randint(num_url, size=(10, 6))}\n",
    "y_train_one = np.random.randint(num_sku,size=(10,))\n",
    "tf_train_one = tf.data.Dataset.from_tensor_slices((x_train_one, y_train_one)).batch(2)\n",
    "del x_train_one, y_train_one\n",
    "gc.collect()\n",
    "\n",
    "strategy = tf.distribute.MirroredStrategy()\n",
    "print('Number of devices: {}'.format(strategy.num_replicas_in_sync))\n",
    "\n",
    "with strategy.scope():\n",
    "    model_mlp = MLP(num_sku, num_url)\n",
    "    LossFunc = {'logits':keras.losses.SparseCategoricalCrossentropy(from_logits=True), 'embed':None}\n",
    "    metrics = {'logits': [keras.metrics.SparseCategoricalAccuracy(name='top1_acc'), \n",
    "                      keras.metrics.SparseTopKCategoricalAccuracy(k=20, name='top20_acc')]}\n",
    "    model_mlp.compile(optimizer='adam', loss=LossFunc, metrics=metrics)\n",
    "history = model_mlp.fit(tf_train_one, epochs=1)\n",
    "model_mlp.load_weights('model_phase2_nn.h5')"
   ]
  },
  {
   "cell_type": "code",
   "execution_count": 6,
   "metadata": {},
   "outputs": [],
   "source": [
    "# naid = df_browse.product_sku_hash.cat.categories.tolist().index('_')\n",
    "# minorid = df_browse.product_sku_hash.cat.categories.tolist().index('minority')\n",
    "\n",
    "@tf.function\n",
    "def mrr(i, model, x, y, topk=tf.constant(20)):\n",
    "    # this is for tf dataset version\n",
    "    interval = tf.shape(y)[0]\n",
    "    i = tf.cast(i, tf.int32)\n",
    "    _u = interval * i\n",
    "    _l = interval * (i+1)\n",
    "    \n",
    "    y_pred = model(x, training=False)\n",
    "    col_to_zero = [naid, minorid]\n",
    "    tnsr_shape=tf.shape(y_pred['logits'])\n",
    "    mask = [tf.one_hot(col_num*tf.ones((tnsr_shape[0], ), dtype=tf.int32), tnsr_shape[-1]) for col_num in col_to_zero]\n",
    "    mask = tf.reduce_sum(mask, axis=0) * -9999\n",
    "    y_pred['logits'] = tf.add(y_pred['logits'], mask)\n",
    "    \n",
    "    # topk items' id for each session, 2d array\n",
    "    r = tf.math.top_k(y_pred['logits'], k=topk).indices\n",
    "    # True indicate that item is the correct prediction\n",
    "    r = tf.cast(tf.equal(r, tf.expand_dims(tf.cast(y, tf.int32), 1)), tf.float32)\n",
    "    # rank of the correct prediction, rank = 9999999+1 if no correction prediction within topk\n",
    "    r = tf.add((tf.reduce_sum(r, 1)-1) * -9999999, tf.cast(tf.argmax(r, 1) + 1, tf.float32))\n",
    "    return 1/r"
   ]
  },
  {
   "cell_type": "markdown",
   "metadata": {},
   "source": [
    "# Ranking"
   ]
  },
  {
   "cell_type": "code",
   "execution_count": 7,
   "metadata": {},
   "outputs": [],
   "source": [
    "df_train = pd.read_parquet('df_train_phase2')"
   ]
  },
  {
   "cell_type": "code",
   "execution_count": 8,
   "metadata": {},
   "outputs": [
    {
     "data": {
      "text/plain": [
       "(2310878, 24)"
      ]
     },
     "execution_count": 8,
     "metadata": {},
     "output_type": "execute_result"
    }
   ],
   "source": [
    "# todo: only testing data and validation to test the model for now\n",
    "df_train = df_train.loc[(df_train.train==0) | (df_train.kfoldidx==0)]\n",
    "df_train.shape"
   ]
  },
  {
   "cell_type": "code",
   "execution_count": 9,
   "metadata": {},
   "outputs": [],
   "source": [
    "df_train['idx'] = np.arange(df_train.shape[0])\n",
    "df_train['n'] = df_train.groupby('session_id_hash').cumcount()\n",
    "\n",
    "# each original record is treated as a query\n",
    "df_train['query_id'] = df_train['session_id_hash'] + '_' + df_train['n'].astype(str)"
   ]
  },
  {
   "cell_type": "code",
   "execution_count": 10,
   "metadata": {
    "scrolled": true
   },
   "outputs": [
    {
     "data": {
      "application/vnd.jupyter.widget-view+json": {
       "model_id": "abec5403c9e94ea79537dd83dec81c4d",
       "version_major": 2,
       "version_minor": 0
      },
      "text/plain": [
       "VBox(children=(HBox(children=(IntProgress(value=0, description='0.00%', max=192574), Label(value='0 / 192574')…"
      ]
     },
     "metadata": {},
     "output_type": "display_data"
    },
    {
     "name": "stdout",
     "output_type": "stream",
     "text": [
      "22.786654472351074\n"
     ]
    },
    {
     "data": {
      "text/plain": [
       "0"
      ]
     },
     "execution_count": 10,
     "metadata": {},
     "output_type": "execute_result"
    }
   ],
   "source": [
    "#\n",
    "# POSITIVE samples\n",
    "#\n",
    "s = time.time()\n",
    "\n",
    "# todo: get next 1 unique sku as pos samples for now\n",
    "tmp = df_train.groupby('session_id_hash')['next_sku'].agg(list).reset_index()\n",
    "tmp.columns = ['session_id_hash', 'pos_sku_list']\n",
    "df_train = df_train.merge(tmp, on='session_id_hash', how='left')\n",
    "\n",
    "def get_pos_sku_list(x):\n",
    "    items = x['pos_sku_list'][x['n']:(x['n'] + 1)]\n",
    "    # if items = [46639.0, 46639.0, 16598.0, 25232.0, 46639.0]\n",
    "    # return [46639, 16598, 25232] <- length depends on hard coded number above\n",
    "    return list(dict.fromkeys(items))\n",
    "\n",
    "df_train['pos_sku_list'] = df_train[['pos_sku_list','n']].parallel_apply(get_pos_sku_list, axis = 1)\n",
    "\n",
    "print(time.time()-s)\n",
    "\n",
    "del tmp\n",
    "gc.collect()"
   ]
  },
  {
   "cell_type": "code",
   "execution_count": 11,
   "metadata": {},
   "outputs": [
    {
     "name": "stdout",
     "output_type": "stream",
     "text": [
      "tf.Tensor(1000, shape=(), dtype=int32) 206.6548457145691\n",
      "13.957698822021484\n"
     ]
    },
    {
     "data": {
      "text/plain": [
       "106"
      ]
     },
     "execution_count": 11,
     "metadata": {},
     "output_type": "execute_result"
    }
   ],
   "source": [
    "#\n",
    "# NEGATIVE Samples\n",
    "#\n",
    "\n",
    "# get top k pred for each record\n",
    "batch_size = 2000\n",
    "tf_all = tf.data.Dataset.from_tensor_slices({'sku':df_train[fea_prod].values, 'url':df_train[fea_url].values}).batch(batch_size)\n",
    "dist_all = strategy.experimental_distribute_dataset(tf_all)\n",
    "\n",
    "# take around 200s\n",
    "s = time.time()\n",
    "\n",
    "neg_sku_list = []\n",
    "score_list = []\n",
    "i = tf.constant(0)\n",
    "#todo: rerank only top 20 for now\n",
    "topk = tf.constant(20)\n",
    "\n",
    "for x in dist_all:\n",
    "    _sku_ids, _scores = strategy.run(get_topk_pred, args=(model_mlp, x, topk))\n",
    "    score_list.append(_scores)\n",
    "    neg_sku_list.append(_sku_ids)\n",
    "    i += 1\n",
    "    if i % 1000 == 0:\n",
    "        print(i, time.time()-s)\n",
    "\n",
    "s= time.time()\n",
    "\n",
    "neg_sku_list = list(map(lambda x: list(map(list, x.numpy())), neg_sku_list))\n",
    "neg_sku_list = [item for sublist in neg_sku_list for item in sublist]\n",
    "\n",
    "score_list = list(map(lambda x: list(map(list, x.numpy())), score_list))\n",
    "score_list = [item for sublist in score_list for item in sublist]\n",
    "\n",
    "df_train['neg_sku_list'] = neg_sku_list\n",
    "df_train['neg_sku_score'] = score_list\n",
    "\n",
    "print(time.time()-s)\n",
    "\n",
    "del tf_all, dist_all\n",
    "gc.collect()"
   ]
  },
  {
   "cell_type": "code",
   "execution_count": 12,
   "metadata": {
    "scrolled": true
   },
   "outputs": [
    {
     "data": {
      "application/vnd.jupyter.widget-view+json": {
       "model_id": "61605222b82943a799567b242a96b395",
       "version_major": 2,
       "version_minor": 0
      },
      "text/plain": [
       "VBox(children=(HBox(children=(IntProgress(value=0, description='0.00%', max=192574), Label(value='0 / 192574')…"
      ]
     },
     "metadata": {},
     "output_type": "display_data"
    },
    {
     "name": "stdout",
     "output_type": "stream",
     "text": [
      "130.4589080810547\n"
     ]
    },
    {
     "data": {
      "text/plain": [
       "0"
      ]
     },
     "execution_count": 12,
     "metadata": {},
     "output_type": "execute_result"
    }
   ],
   "source": [
    "# remove queries if no pos sample in neg_sku_list\n",
    "s= time.time()\n",
    "\n",
    "def get_neg_sku_list(x):\n",
    "    items = x['pos_sku_list']\n",
    "    for i in items: \n",
    "        if i in x['neg_sku_list']:\n",
    "            return 1\n",
    "    return 0\n",
    "\n",
    "# further split it into \"chunk\"\n",
    "# because if df_train gets too large, pickle in parallel_apply takes too long\n",
    "chunk = 1\n",
    "interval = int(np.ceil(df_train.shape[0] / chunk))\n",
    "pos_in_neg_sku_list = []\n",
    "for j in range(chunk):\n",
    "    pos_in_neg_sku_list = pos_in_neg_sku_list + df_train.loc[(interval*j):(interval*(j+1)), ['neg_sku_list','pos_sku_list']].parallel_apply(get_neg_sku_list, axis = 1).tolist()\n",
    "    print(time.time()-s)\n",
    "\n",
    "df_train['pos_in_neg'] = pos_in_neg_sku_list\n",
    "df_train = df_train.loc[df_train.pos_in_neg==1]\n",
    "df_train.drop(columns='pos_in_neg', inplace=True)\n",
    "\n",
    "del neg_sku_list, pos_in_neg_sku_list\n",
    "gc.collect()"
   ]
  },
  {
   "cell_type": "code",
   "execution_count": 13,
   "metadata": {},
   "outputs": [],
   "source": [
    "# explode score and neg_sku_list\n",
    "df_train = df_train.apply(explode).reset_index(drop=True)"
   ]
  },
  {
   "cell_type": "code",
   "execution_count": 14,
   "metadata": {},
   "outputs": [],
   "source": [
    "df_train['target_sku'] = df_train['neg_sku_list']"
   ]
  },
  {
   "cell_type": "code",
   "execution_count": 15,
   "metadata": {
    "scrolled": true
   },
   "outputs": [
    {
     "data": {
      "application/vnd.jupyter.widget-view+json": {
       "model_id": "7982921dcf9f4fd8a4704979dd3dd083",
       "version_major": 2,
       "version_minor": 0
      },
      "text/plain": [
       "VBox(children=(HBox(children=(IntProgress(value=0, description='0.00%', max=3359324), Label(value='0 / 3359324…"
      ]
     },
     "metadata": {},
     "output_type": "display_data"
    }
   ],
   "source": [
    "# add label for each sku\n",
    "# i indexed sku in pos_sku_list has score of len(pos_sku_list) - i\n",
    "def get_sku_label(x):\n",
    "    if x['target_sku'] not in x['pos_sku_list']:\n",
    "        return 0 \n",
    "    else:\n",
    "        pos_sku_list = list(x['pos_sku_list'])\n",
    "        return len(pos_sku_list) - pos_sku_list.index(x['target_sku'])\n",
    "\n",
    "df_train['label'] = df_train[['pos_sku_list','target_sku']].parallel_apply(lambda x: get_sku_label(x), axis = 1) "
   ]
  },
  {
   "cell_type": "code",
   "execution_count": 16,
   "metadata": {},
   "outputs": [],
   "source": [
    "df_train.drop(columns=['pos_sku_list','neg_sku_list'], inplace=True)"
   ]
  },
  {
   "cell_type": "code",
   "execution_count": 20,
   "metadata": {
    "scrolled": true
   },
   "outputs": [
    {
     "name": "stdout",
     "output_type": "stream",
     "text": [
      "creating sku_sim\n",
      "creating desc_sim\n"
     ]
    },
    {
     "data": {
      "application/vnd.jupyter.widget-view+json": {
       "model_id": "3cd317952a5d4f5fad85e27963873f8c",
       "version_major": 2,
       "version_minor": 0
      },
      "text/plain": [
       "  0%|          | 0/41450 [00:00<?, ?it/s]"
      ]
     },
     "metadata": {},
     "output_type": "display_data"
    },
    {
     "name": "stdout",
     "output_type": "stream",
     "text": [
      "creating img_sim\n"
     ]
    },
    {
     "data": {
      "application/vnd.jupyter.widget-view+json": {
       "model_id": "34518fd0ef4e472c8ca34790acee568e",
       "version_major": 2,
       "version_minor": 0
      },
      "text/plain": [
       "  0%|          | 0/41450 [00:00<?, ?it/s]"
      ]
     },
     "metadata": {},
     "output_type": "display_data"
    },
    {
     "name": "stdout",
     "output_type": "stream",
     "text": [
      "creating cate_same\n",
      "creating price_same\n"
     ]
    }
   ],
   "source": [
    "#\n",
    "# Prepare item by item matrix\n",
    "# 1. sku similarity\n",
    "# 2. description similarity\n",
    "# 3. same category\n",
    "# 4. same price\n",
    "# 5. image similarity\n",
    "#\n",
    "\n",
    "if not os.path.exists('sku_sim_phase2.npy'):\n",
    "    print('creating sku_sim')\n",
    "    sku_embed = model_mlp.sku_embed.get_weights()[0]\n",
    "    sku_sim = pairwise_kernels(sku_embed, sku_embed, metric='cosine', n_jobs=-1)\n",
    "    np.save('sku_sim_phase2', sku_sim)\n",
    "    del sku_embed, sku_sim\n",
    "    gc.collect()\n",
    "    \n",
    "if not os.path.exists('desc_sim_phase2.npy') or not os.path.exists('img_sim_phase2.npy') or not os.path.exists('cate_same_phase2.npy') or not os.path.exists('price_same_phase2.npy'):\n",
    "    df_sku = pd.read_csv(\"./data/sku_to_content.csv\")\n",
    "    df_sku['description_vector_l'] = df_sku.description_vector.apply(str_to_list)\n",
    "    df_sku['image_vector_l'] = df_sku.image_vector.apply(str_to_list)\n",
    "    \n",
    "    # cate and price of each sku\n",
    "    df_skuid_cate_price = pd.DataFrame(skucate.categories)\n",
    "    df_skuid_cate_price.columns = ['product_sku_hash']\n",
    "    df_skuid_cate_price = df_skuid_cate_price.merge(df_sku[['product_sku_hash', 'category_hash', 'price_bucket']], how='left', on='product_sku_hash')\n",
    "    assert df_skuid_cate_price.shape[0] == num_sku, 'more than 1 cate or price for some skus'\n",
    "\n",
    "    # get desc/img embed\n",
    "    def get_descimg_embed(idx, col='description_vector_l'):\n",
    "        try:\n",
    "            sku = skucate.categories[idx]\n",
    "            embed = df_sku[col][df_sku.product_sku_hash==sku].values[0]\n",
    "            if len(embed) == 0:\n",
    "                return np.zeros(50)\n",
    "            else:\n",
    "                return embed\n",
    "        except (IndexError, ValueError):\n",
    "            return np.zeros(50)\n",
    "            \n",
    "    if not os.path.exists('desc_sim_phase2.npy'):\n",
    "        print('creating desc_sim')\n",
    "        desc_embed = Parallel(n_jobs=multiprocessing.cpu_count(), backend='multiprocessing')(delayed(get_descimg_embed)(i) for i in trange(num_sku))\n",
    "        desc_embed = np.array(desc_embed)\n",
    "        desc_sim = pairwise_kernels(desc_embed, desc_embed, metric='cosine', n_jobs=-1)\n",
    "        desc_sim = desc_sim.astype(np.float32)\n",
    "        np.save('desc_sim_phase2', desc_sim)\n",
    "        del desc_embed, desc_sim\n",
    "        gc.collect()\n",
    "    \n",
    "    if not os.path.exists('img_sim_phase2.npy'):\n",
    "        print('creating img_sim')\n",
    "        img_embed = Parallel(n_jobs=multiprocessing.cpu_count(), backend='multiprocessing')(delayed(get_descimg_embed)(i, 'image_vector_l') for i in trange(num_sku))\n",
    "        img_embed = np.array(img_embed)\n",
    "        img_sim = pairwise_kernels(img_embed, img_embed, metric='cosine', n_jobs=-1)\n",
    "        img_sim = img_sim.astype(np.float32)\n",
    "        np.save('img_sim_phase2', img_sim)\n",
    "        del img_embed, img_sim\n",
    "        gc.collect()\n",
    "     \n",
    "    if not os.path.exists('cate_same_phase2.npy'):\n",
    "        print('creating cate_same')\n",
    "        cate_same = np.array(df_skuid_cate_price.category_hash)\n",
    "        cate_same = (cate_same == np.expand_dims(cate_same, 1)).astype(np.int8)\n",
    "        np.save('cate_same_phase2', cate_same)\n",
    "        del cate_same\n",
    "        gc.collect()\n",
    "    \n",
    "    if not os.path.exists('price_same_phase2.npy'):\n",
    "        print('creating price_same')\n",
    "        price_same = np.array(df_skuid_cate_price.category_hash)\n",
    "        price_same = (price_same == np.expand_dims(price_same, 1)).astype(np.int8)\n",
    "        np.save('price_same_phase2', price_same)\n",
    "        del price_same\n",
    "        gc.collect()\n",
    "    \n",
    "    del df_skuid_cate_price, df_sku\n",
    "    gc.collect()\n",
    "    "
   ]
  },
  {
   "cell_type": "code",
   "execution_count": 21,
   "metadata": {},
   "outputs": [
    {
     "name": "stdout",
     "output_type": "stream",
     "text": [
      "created product_sku_hash_id_sim\n",
      "created product_sku_hash_id_lag1_sim\n",
      "created product_sku_hash_id_lag2_sim\n",
      "created product_sku_hash_id_lag3_sim\n",
      "created product_sku_hash_id_lag4_sim\n",
      "created product_sku_hash_id_lag5_sim\n",
      "created product_sku_hash_id_descsim\n",
      "created product_sku_hash_id_lag1_descsim\n",
      "created product_sku_hash_id_lag2_descsim\n",
      "created product_sku_hash_id_lag3_descsim\n",
      "created product_sku_hash_id_lag4_descsim\n",
      "created product_sku_hash_id_lag5_descsim\n",
      "created product_sku_hash_id_imgsim\n",
      "created product_sku_hash_id_lag1_imgsim\n",
      "created product_sku_hash_id_lag2_imgsim\n",
      "created product_sku_hash_id_lag3_imgsim\n",
      "created product_sku_hash_id_lag4_imgsim\n",
      "created product_sku_hash_id_lag5_imgsim\n",
      "created product_sku_hash_id_catesame\n",
      "created product_sku_hash_id_lag1_catesame\n",
      "created product_sku_hash_id_lag2_catesame\n",
      "created product_sku_hash_id_lag3_catesame\n",
      "created product_sku_hash_id_lag4_catesame\n",
      "created product_sku_hash_id_lag5_catesame\n",
      "created product_sku_hash_id_pricesame\n",
      "created product_sku_hash_id_lag1_pricesame\n",
      "created product_sku_hash_id_lag2_pricesame\n",
      "created product_sku_hash_id_lag3_pricesame\n",
      "created product_sku_hash_id_lag4_pricesame\n",
      "created product_sku_hash_id_lag5_pricesame\n"
     ]
    }
   ],
   "source": [
    "# add features\n",
    "for matrix, suffix in zip(*[('sku_sim','desc_sim','img_sim','cate_same','price_same'),('_sim','_descsim','_imgsim','_catesame','_pricesame')]):\n",
    "    matrix = np.load(matrix + '_phase2.npy')\n",
    "    add_fea_using_matrix(df_train, matrix, suffix, 'product_sku_hash_id', 'target_sku')\n",
    "    del matrix\n",
    "    gc.collect()"
   ]
  },
  {
   "cell_type": "code",
   "execution_count": 7,
   "metadata": {},
   "outputs": [],
   "source": [
    "# df_train.to_parquet('df_train_final_phase2')\n",
    "df_train = pd.read_parquet('df_train_final_phase2')"
   ]
  },
  {
   "cell_type": "code",
   "execution_count": 8,
   "metadata": {},
   "outputs": [
    {
     "data": {
      "text/plain": [
       "Index(['session_id_hash', 'event_type', 'product_action', 'product_sku_hash',\n",
       "       'server_timestamp_epoch_ms', 'hashed_url', 'train', 'server_day',\n",
       "       'product_sku_hash_id', 'hashed_url_id', 'product_sku_hash_id_lag1',\n",
       "       'product_sku_hash_id_lag2', 'product_sku_hash_id_lag3',\n",
       "       'product_sku_hash_id_lag4', 'product_sku_hash_id_lag5',\n",
       "       'hashed_url_id_lag1', 'hashed_url_id_lag2', 'hashed_url_id_lag3',\n",
       "       'hashed_url_id_lag4', 'hashed_url_id_lag5', 'next_sku',\n",
       "       'next_interacted_sku', 'rand_id', 'kfoldidx', 'idx', 'n', 'query_id',\n",
       "       'neg_sku_score', 'target_sku', 'label', 'product_sku_hash_id_sim',\n",
       "       'product_sku_hash_id_lag1_sim', 'product_sku_hash_id_lag2_sim',\n",
       "       'product_sku_hash_id_lag3_sim', 'product_sku_hash_id_lag4_sim',\n",
       "       'product_sku_hash_id_lag5_sim', 'product_sku_hash_id_descsim',\n",
       "       'product_sku_hash_id_lag1_descsim', 'product_sku_hash_id_lag2_descsim',\n",
       "       'product_sku_hash_id_lag3_descsim', 'product_sku_hash_id_lag4_descsim',\n",
       "       'product_sku_hash_id_lag5_descsim', 'product_sku_hash_id_imgsim',\n",
       "       'product_sku_hash_id_lag1_imgsim', 'product_sku_hash_id_lag2_imgsim',\n",
       "       'product_sku_hash_id_lag3_imgsim', 'product_sku_hash_id_lag4_imgsim',\n",
       "       'product_sku_hash_id_lag5_imgsim', 'product_sku_hash_id_catesame',\n",
       "       'product_sku_hash_id_lag1_catesame',\n",
       "       'product_sku_hash_id_lag2_catesame',\n",
       "       'product_sku_hash_id_lag3_catesame',\n",
       "       'product_sku_hash_id_lag4_catesame',\n",
       "       'product_sku_hash_id_lag5_catesame', 'product_sku_hash_id_pricesame',\n",
       "       'product_sku_hash_id_lag1_pricesame',\n",
       "       'product_sku_hash_id_lag2_pricesame',\n",
       "       'product_sku_hash_id_lag3_pricesame',\n",
       "       'product_sku_hash_id_lag4_pricesame',\n",
       "       'product_sku_hash_id_lag5_pricesame'],\n",
       "      dtype='object')"
      ]
     },
     "execution_count": 8,
     "metadata": {},
     "output_type": "execute_result"
    }
   ],
   "source": [
    "df_train.columns"
   ]
  },
  {
   "cell_type": "code",
   "execution_count": 9,
   "metadata": {},
   "outputs": [],
   "source": [
    "fea_lambdarank = [\n",
    "    'product_sku_hash_id_sim', 'product_sku_hash_id_lag1_sim',\n",
    "    'product_sku_hash_id_lag2_sim', 'product_sku_hash_id_lag3_sim',\n",
    "    'product_sku_hash_id_lag4_sim', 'product_sku_hash_id_lag5_sim',\n",
    "    'product_sku_hash_id_descsim', 'product_sku_hash_id_lag1_descsim',\n",
    "    'product_sku_hash_id_lag2_descsim', 'product_sku_hash_id_lag3_descsim',\n",
    "    'product_sku_hash_id_lag4_descsim', 'product_sku_hash_id_lag5_descsim',\n",
    "    'product_sku_hash_id_imgsim', 'product_sku_hash_id_lag1_imgsim',\n",
    "    'product_sku_hash_id_lag2_imgsim', 'product_sku_hash_id_lag3_imgsim',\n",
    "    'product_sku_hash_id_lag4_imgsim', 'product_sku_hash_id_lag5_imgsim',\n",
    "    'product_sku_hash_id_catesame', 'product_sku_hash_id_lag1_catesame',\n",
    "    'product_sku_hash_id_lag2_catesame',\n",
    "    'product_sku_hash_id_lag3_catesame',\n",
    "    'product_sku_hash_id_lag4_catesame',\n",
    "    'product_sku_hash_id_lag5_catesame', 'product_sku_hash_id_pricesame',\n",
    "    'product_sku_hash_id_lag1_pricesame',\n",
    "    'product_sku_hash_id_lag2_pricesame',\n",
    "    'product_sku_hash_id_lag3_pricesame',\n",
    "    'product_sku_hash_id_lag4_pricesame',\n",
    "    'product_sku_hash_id_lag5_pricesame',\n",
    "    'neg_sku_score'\n",
    "]"
   ]
  },
  {
   "cell_type": "code",
   "execution_count": 10,
   "metadata": {},
   "outputs": [],
   "source": [
    "dtrain_x = df_train.loc[df_train.kfoldidx!=0, fea_lambdarank].values\n",
    "dval_x = df_train.loc[df_train.kfoldidx==0, fea_lambdarank].values"
   ]
  },
  {
   "cell_type": "code",
   "execution_count": 11,
   "metadata": {},
   "outputs": [],
   "source": [
    "dtrain_group = df_train.loc[df_train.kfoldidx!=0].groupby('query_id')['query_id'].count().values\n",
    "dval_group = df_train.loc[df_train.kfoldidx==0].groupby('query_id')['query_id'].count().values"
   ]
  },
  {
   "cell_type": "code",
   "execution_count": 12,
   "metadata": {},
   "outputs": [],
   "source": [
    "df_train['label'] = df_train['label'].astype(int)\n",
    "dtrain_y = df_train.loc[df_train.kfoldidx!=0, 'label'].values\n",
    "dval_y = df_train.loc[df_train.kfoldidx==0, 'label'].values"
   ]
  },
  {
   "cell_type": "code",
   "execution_count": 13,
   "metadata": {},
   "outputs": [
    {
     "data": {
      "text/plain": [
       "<lightgbm.basic.Dataset at 0x7f46442a07d0>"
      ]
     },
     "execution_count": 13,
     "metadata": {},
     "output_type": "execute_result"
    }
   ],
   "source": [
    "lgb_train = lgb.Dataset(dtrain_x, dtrain_y, group=dtrain_group, free_raw_data=False)\n",
    "lgb_train.set_group(dtrain_group)\n",
    "\n",
    "lgb_val = lgb.Dataset(dval_x, dval_y, group=dval_group, free_raw_data=False)\n",
    "lgb_val.set_group(dval_group)\n"
   ]
  },
  {
   "cell_type": "code",
   "execution_count": 14,
   "metadata": {
    "scrolled": true
   },
   "outputs": [
    {
     "name": "stdout",
     "output_type": "stream",
     "text": [
      "[LightGBM] [Warning] Auto-choosing row-wise multi-threading, the overhead of testing was 0.294530 seconds.\n",
      "You can set `force_row_wise=true` to remove the overhead.\n",
      "And if memory is not enough, you can set `force_col_wise=true`.\n",
      "[LightGBM] [Info] Total Bins 4888\n",
      "[LightGBM] [Info] Number of data points in the train set: 6507760, number of used features: 31\n",
      "[1]\tvalid_0's ndcg@1: 0.610068\tvalid_0's ndcg@5: 0.756103\tvalid_0's ndcg@20: 0.791418\n",
      "Training until validation scores don't improve for 100 rounds\n",
      "[2]\tvalid_0's ndcg@1: 0.202651\tvalid_0's ndcg@5: 0.393877\tvalid_0's ndcg@20: 0.5164\n",
      "[3]\tvalid_0's ndcg@1: 0.211824\tvalid_0's ndcg@5: 0.408515\tvalid_0's ndcg@20: 0.52535\n",
      "[4]\tvalid_0's ndcg@1: 0.604895\tvalid_0's ndcg@5: 0.76319\tvalid_0's ndcg@20: 0.794512\n",
      "[5]\tvalid_0's ndcg@1: 0.584092\tvalid_0's ndcg@5: 0.754994\tvalid_0's ndcg@20: 0.786356\n",
      "[6]\tvalid_0's ndcg@1: 0.564919\tvalid_0's ndcg@5: 0.746653\tvalid_0's ndcg@20: 0.778283\n",
      "[7]\tvalid_0's ndcg@1: 0.556895\tvalid_0's ndcg@5: 0.74295\tvalid_0's ndcg@20: 0.774663\n",
      "[8]\tvalid_0's ndcg@1: 0.540361\tvalid_0's ndcg@5: 0.735467\tvalid_0's ndcg@20: 0.767562\n",
      "[9]\tvalid_0's ndcg@1: 0.540448\tvalid_0's ndcg@5: 0.734515\tvalid_0's ndcg@20: 0.767026\n",
      "[10]\tvalid_0's ndcg@1: 0.624239\tvalid_0's ndcg@5: 0.780376\tvalid_0's ndcg@20: 0.807766\n",
      "[11]\tvalid_0's ndcg@1: 0.662473\tvalid_0's ndcg@5: 0.797838\tvalid_0's ndcg@20: 0.824279\n",
      "[12]\tvalid_0's ndcg@1: 0.685873\tvalid_0's ndcg@5: 0.808714\tvalid_0's ndcg@20: 0.834501\n",
      "[13]\tvalid_0's ndcg@1: 0.700342\tvalid_0's ndcg@5: 0.815177\tvalid_0's ndcg@20: 0.840658\n",
      "[14]\tvalid_0's ndcg@1: 0.708989\tvalid_0's ndcg@5: 0.819017\tvalid_0's ndcg@20: 0.844344\n",
      "[15]\tvalid_0's ndcg@1: 0.705692\tvalid_0's ndcg@5: 0.817643\tvalid_0's ndcg@20: 0.84302\n",
      "[16]\tvalid_0's ndcg@1: 0.712426\tvalid_0's ndcg@5: 0.820736\tvalid_0's ndcg@20: 0.845965\n",
      "[17]\tvalid_0's ndcg@1: 0.716967\tvalid_0's ndcg@5: 0.822867\tvalid_0's ndcg@20: 0.847974\n",
      "[18]\tvalid_0's ndcg@1: 0.720737\tvalid_0's ndcg@5: 0.824665\tvalid_0's ndcg@20: 0.849642\n",
      "[19]\tvalid_0's ndcg@1: 0.71853\tvalid_0's ndcg@5: 0.823698\tvalid_0's ndcg@20: 0.848728\n",
      "[20]\tvalid_0's ndcg@1: 0.718394\tvalid_0's ndcg@5: 0.823597\tvalid_0's ndcg@20: 0.848647\n",
      "[21]\tvalid_0's ndcg@1: 0.71604\tvalid_0's ndcg@5: 0.822561\tvalid_0's ndcg@20: 0.847661\n",
      "[22]\tvalid_0's ndcg@1: 0.715662\tvalid_0's ndcg@5: 0.822416\tvalid_0's ndcg@20: 0.847509\n",
      "[23]\tvalid_0's ndcg@1: 0.712508\tvalid_0's ndcg@5: 0.82098\tvalid_0's ndcg@20: 0.84612\n",
      "[24]\tvalid_0's ndcg@1: 0.71613\tvalid_0's ndcg@5: 0.822679\tvalid_0's ndcg@20: 0.847727\n",
      "[25]\tvalid_0's ndcg@1: 0.715973\tvalid_0's ndcg@5: 0.822616\tvalid_0's ndcg@20: 0.847664\n",
      "[26]\tvalid_0's ndcg@1: 0.714557\tvalid_0's ndcg@5: 0.82196\tvalid_0's ndcg@20: 0.84703\n",
      "[27]\tvalid_0's ndcg@1: 0.717456\tvalid_0's ndcg@5: 0.823356\tvalid_0's ndcg@20: 0.848343\n",
      "[28]\tvalid_0's ndcg@1: 0.719816\tvalid_0's ndcg@5: 0.82445\tvalid_0's ndcg@20: 0.849379\n",
      "[29]\tvalid_0's ndcg@1: 0.719829\tvalid_0's ndcg@5: 0.824414\tvalid_0's ndcg@20: 0.849372\n",
      "[30]\tvalid_0's ndcg@1: 0.719454\tvalid_0's ndcg@5: 0.824178\tvalid_0's ndcg@20: 0.849192\n",
      "[31]\tvalid_0's ndcg@1: 0.719332\tvalid_0's ndcg@5: 0.82408\tvalid_0's ndcg@20: 0.849119\n",
      "[32]\tvalid_0's ndcg@1: 0.720961\tvalid_0's ndcg@5: 0.82488\tvalid_0's ndcg@20: 0.849846\n",
      "[33]\tvalid_0's ndcg@1: 0.720594\tvalid_0's ndcg@5: 0.824642\tvalid_0's ndcg@20: 0.849641\n",
      "[34]\tvalid_0's ndcg@1: 0.722224\tvalid_0's ndcg@5: 0.825454\tvalid_0's ndcg@20: 0.85039\n",
      "[35]\tvalid_0's ndcg@1: 0.721913\tvalid_0's ndcg@5: 0.825279\tvalid_0's ndcg@20: 0.850234\n",
      "[36]\tvalid_0's ndcg@1: 0.721837\tvalid_0's ndcg@5: 0.825198\tvalid_0's ndcg@20: 0.85017\n",
      "[37]\tvalid_0's ndcg@1: 0.721816\tvalid_0's ndcg@5: 0.825114\tvalid_0's ndcg@20: 0.850115\n",
      "[38]\tvalid_0's ndcg@1: 0.723465\tvalid_0's ndcg@5: 0.825913\tvalid_0's ndcg@20: 0.850863\n",
      "[39]\tvalid_0's ndcg@1: 0.722739\tvalid_0's ndcg@5: 0.825606\tvalid_0's ndcg@20: 0.850594\n",
      "[40]\tvalid_0's ndcg@1: 0.72278\tvalid_0's ndcg@5: 0.825628\tvalid_0's ndcg@20: 0.850606\n",
      "[41]\tvalid_0's ndcg@1: 0.722746\tvalid_0's ndcg@5: 0.825591\tvalid_0's ndcg@20: 0.85058\n",
      "[42]\tvalid_0's ndcg@1: 0.72207\tvalid_0's ndcg@5: 0.825268\tvalid_0's ndcg@20: 0.850278\n",
      "[43]\tvalid_0's ndcg@1: 0.72172\tvalid_0's ndcg@5: 0.825087\tvalid_0's ndcg@20: 0.850113\n",
      "[44]\tvalid_0's ndcg@1: 0.723249\tvalid_0's ndcg@5: 0.825812\tvalid_0's ndcg@20: 0.850792\n",
      "[45]\tvalid_0's ndcg@1: 0.723173\tvalid_0's ndcg@5: 0.825781\tvalid_0's ndcg@20: 0.850756\n",
      "[46]\tvalid_0's ndcg@1: 0.722717\tvalid_0's ndcg@5: 0.825578\tvalid_0's ndcg@20: 0.850569\n",
      "[47]\tvalid_0's ndcg@1: 0.722416\tvalid_0's ndcg@5: 0.825403\tvalid_0's ndcg@20: 0.850433\n",
      "[48]\tvalid_0's ndcg@1: 0.721716\tvalid_0's ndcg@5: 0.825121\tvalid_0's ndcg@20: 0.850148\n",
      "[49]\tvalid_0's ndcg@1: 0.722947\tvalid_0's ndcg@5: 0.82572\tvalid_0's ndcg@20: 0.850699\n",
      "[50]\tvalid_0's ndcg@1: 0.722889\tvalid_0's ndcg@5: 0.825686\tvalid_0's ndcg@20: 0.850669\n",
      "[51]\tvalid_0's ndcg@1: 0.722765\tvalid_0's ndcg@5: 0.825574\tvalid_0's ndcg@20: 0.850585\n",
      "[52]\tvalid_0's ndcg@1: 0.722614\tvalid_0's ndcg@5: 0.825519\tvalid_0's ndcg@20: 0.850522\n",
      "[53]\tvalid_0's ndcg@1: 0.722698\tvalid_0's ndcg@5: 0.82549\tvalid_0's ndcg@20: 0.850521\n",
      "[54]\tvalid_0's ndcg@1: 0.722581\tvalid_0's ndcg@5: 0.825434\tvalid_0's ndcg@20: 0.850464\n",
      "[55]\tvalid_0's ndcg@1: 0.723839\tvalid_0's ndcg@5: 0.826042\tvalid_0's ndcg@20: 0.851025\n",
      "[56]\tvalid_0's ndcg@1: 0.723674\tvalid_0's ndcg@5: 0.825944\tvalid_0's ndcg@20: 0.850945\n",
      "[57]\tvalid_0's ndcg@1: 0.72354\tvalid_0's ndcg@5: 0.825815\tvalid_0's ndcg@20: 0.850855\n",
      "[58]\tvalid_0's ndcg@1: 0.723559\tvalid_0's ndcg@5: 0.825815\tvalid_0's ndcg@20: 0.850855\n",
      "[59]\tvalid_0's ndcg@1: 0.723228\tvalid_0's ndcg@5: 0.825598\tvalid_0's ndcg@20: 0.850666\n",
      "[60]\tvalid_0's ndcg@1: 0.722885\tvalid_0's ndcg@5: 0.825451\tvalid_0's ndcg@20: 0.850528\n",
      "[61]\tvalid_0's ndcg@1: 0.722649\tvalid_0's ndcg@5: 0.825351\tvalid_0's ndcg@20: 0.850424\n",
      "[62]\tvalid_0's ndcg@1: 0.722664\tvalid_0's ndcg@5: 0.825368\tvalid_0's ndcg@20: 0.850435\n",
      "[63]\tvalid_0's ndcg@1: 0.722498\tvalid_0's ndcg@5: 0.825285\tvalid_0's ndcg@20: 0.850362\n",
      "[64]\tvalid_0's ndcg@1: 0.722574\tvalid_0's ndcg@5: 0.825257\tvalid_0's ndcg@20: 0.850365\n",
      "[65]\tvalid_0's ndcg@1: 0.722571\tvalid_0's ndcg@5: 0.825254\tvalid_0's ndcg@20: 0.850367\n",
      "[66]\tvalid_0's ndcg@1: 0.722398\tvalid_0's ndcg@5: 0.825139\tvalid_0's ndcg@20: 0.850278\n",
      "[67]\tvalid_0's ndcg@1: 0.72236\tvalid_0's ndcg@5: 0.825105\tvalid_0's ndcg@20: 0.850251\n",
      "[68]\tvalid_0's ndcg@1: 0.722471\tvalid_0's ndcg@5: 0.825134\tvalid_0's ndcg@20: 0.850284\n",
      "[69]\tvalid_0's ndcg@1: 0.723665\tvalid_0's ndcg@5: 0.825753\tvalid_0's ndcg@20: 0.85084\n",
      "[70]\tvalid_0's ndcg@1: 0.723531\tvalid_0's ndcg@5: 0.825666\tvalid_0's ndcg@20: 0.850767\n",
      "[71]\tvalid_0's ndcg@1: 0.723417\tvalid_0's ndcg@5: 0.825608\tvalid_0's ndcg@20: 0.850711\n",
      "[72]\tvalid_0's ndcg@1: 0.724528\tvalid_0's ndcg@5: 0.826172\tvalid_0's ndcg@20: 0.851223\n",
      "[73]\tvalid_0's ndcg@1: 0.725465\tvalid_0's ndcg@5: 0.826648\tvalid_0's ndcg@20: 0.851652\n",
      "[74]\tvalid_0's ndcg@1: 0.725403\tvalid_0's ndcg@5: 0.8266\tvalid_0's ndcg@20: 0.851614\n",
      "[75]\tvalid_0's ndcg@1: 0.726108\tvalid_0's ndcg@5: 0.826975\tvalid_0's ndcg@20: 0.851956\n",
      "[76]\tvalid_0's ndcg@1: 0.726025\tvalid_0's ndcg@5: 0.826899\tvalid_0's ndcg@20: 0.851906\n",
      "[77]\tvalid_0's ndcg@1: 0.725969\tvalid_0's ndcg@5: 0.826825\tvalid_0's ndcg@20: 0.85186\n",
      "[78]\tvalid_0's ndcg@1: 0.726741\tvalid_0's ndcg@5: 0.827226\tvalid_0's ndcg@20: 0.852222\n",
      "[79]\tvalid_0's ndcg@1: 0.726594\tvalid_0's ndcg@5: 0.827171\tvalid_0's ndcg@20: 0.852163\n",
      "[80]\tvalid_0's ndcg@1: 0.727416\tvalid_0's ndcg@5: 0.827578\tvalid_0's ndcg@20: 0.852526\n",
      "[81]\tvalid_0's ndcg@1: 0.727224\tvalid_0's ndcg@5: 0.827474\tvalid_0's ndcg@20: 0.852429\n",
      "[82]\tvalid_0's ndcg@1: 0.727211\tvalid_0's ndcg@5: 0.827458\tvalid_0's ndcg@20: 0.852416\n",
      "[83]\tvalid_0's ndcg@1: 0.727858\tvalid_0's ndcg@5: 0.827783\tvalid_0's ndcg@20: 0.852718\n",
      "[84]\tvalid_0's ndcg@1: 0.72782\tvalid_0's ndcg@5: 0.827753\tvalid_0's ndcg@20: 0.852692\n",
      "[85]\tvalid_0's ndcg@1: 0.727683\tvalid_0's ndcg@5: 0.8277\tvalid_0's ndcg@20: 0.852635\n",
      "[86]\tvalid_0's ndcg@1: 0.728265\tvalid_0's ndcg@5: 0.827987\tvalid_0's ndcg@20: 0.852899\n",
      "[87]\tvalid_0's ndcg@1: 0.728212\tvalid_0's ndcg@5: 0.82796\tvalid_0's ndcg@20: 0.852875\n",
      "[88]\tvalid_0's ndcg@1: 0.728154\tvalid_0's ndcg@5: 0.827919\tvalid_0's ndcg@20: 0.852844\n",
      "[89]\tvalid_0's ndcg@1: 0.728012\tvalid_0's ndcg@5: 0.827827\tvalid_0's ndcg@20: 0.852774\n",
      "[90]\tvalid_0's ndcg@1: 0.727956\tvalid_0's ndcg@5: 0.827779\tvalid_0's ndcg@20: 0.852732\n"
     ]
    },
    {
     "name": "stdout",
     "output_type": "stream",
     "text": [
      "[91]\tvalid_0's ndcg@1: 0.728014\tvalid_0's ndcg@5: 0.827807\tvalid_0's ndcg@20: 0.852759\n",
      "[92]\tvalid_0's ndcg@1: 0.728506\tvalid_0's ndcg@5: 0.828055\tvalid_0's ndcg@20: 0.852989\n",
      "[93]\tvalid_0's ndcg@1: 0.728417\tvalid_0's ndcg@5: 0.828014\tvalid_0's ndcg@20: 0.852945\n",
      "[94]\tvalid_0's ndcg@1: 0.728416\tvalid_0's ndcg@5: 0.828006\tvalid_0's ndcg@20: 0.852939\n",
      "[95]\tvalid_0's ndcg@1: 0.729003\tvalid_0's ndcg@5: 0.828313\tvalid_0's ndcg@20: 0.853221\n",
      "[96]\tvalid_0's ndcg@1: 0.729468\tvalid_0's ndcg@5: 0.828524\tvalid_0's ndcg@20: 0.853421\n",
      "[97]\tvalid_0's ndcg@1: 0.729906\tvalid_0's ndcg@5: 0.828769\tvalid_0's ndcg@20: 0.853633\n",
      "[98]\tvalid_0's ndcg@1: 0.729794\tvalid_0's ndcg@5: 0.828703\tvalid_0's ndcg@20: 0.853573\n",
      "[99]\tvalid_0's ndcg@1: 0.72973\tvalid_0's ndcg@5: 0.828642\tvalid_0's ndcg@20: 0.853534\n",
      "[100]\tvalid_0's ndcg@1: 0.730203\tvalid_0's ndcg@5: 0.828858\tvalid_0's ndcg@20: 0.85375\n",
      "[101]\tvalid_0's ndcg@1: 0.730131\tvalid_0's ndcg@5: 0.828786\tvalid_0's ndcg@20: 0.853689\n",
      "[102]\tvalid_0's ndcg@1: 0.730109\tvalid_0's ndcg@5: 0.828783\tvalid_0's ndcg@20: 0.853684\n",
      "[103]\tvalid_0's ndcg@1: 0.730418\tvalid_0's ndcg@5: 0.828907\tvalid_0's ndcg@20: 0.853822\n",
      "[104]\tvalid_0's ndcg@1: 0.730581\tvalid_0's ndcg@5: 0.828968\tvalid_0's ndcg@20: 0.853886\n",
      "[105]\tvalid_0's ndcg@1: 0.730524\tvalid_0's ndcg@5: 0.828945\tvalid_0's ndcg@20: 0.853863\n",
      "[106]\tvalid_0's ndcg@1: 0.730455\tvalid_0's ndcg@5: 0.82891\tvalid_0's ndcg@20: 0.853832\n",
      "[107]\tvalid_0's ndcg@1: 0.730457\tvalid_0's ndcg@5: 0.828901\tvalid_0's ndcg@20: 0.853832\n",
      "[108]\tvalid_0's ndcg@1: 0.730898\tvalid_0's ndcg@5: 0.829147\tvalid_0's ndcg@20: 0.854046\n",
      "[109]\tvalid_0's ndcg@1: 0.730906\tvalid_0's ndcg@5: 0.829143\tvalid_0's ndcg@20: 0.854044\n",
      "[110]\tvalid_0's ndcg@1: 0.730922\tvalid_0's ndcg@5: 0.829165\tvalid_0's ndcg@20: 0.854061\n",
      "[111]\tvalid_0's ndcg@1: 0.730923\tvalid_0's ndcg@5: 0.829147\tvalid_0's ndcg@20: 0.854053\n",
      "[112]\tvalid_0's ndcg@1: 0.730874\tvalid_0's ndcg@5: 0.829121\tvalid_0's ndcg@20: 0.854027\n",
      "[113]\tvalid_0's ndcg@1: 0.730875\tvalid_0's ndcg@5: 0.829124\tvalid_0's ndcg@20: 0.854027\n",
      "[114]\tvalid_0's ndcg@1: 0.730827\tvalid_0's ndcg@5: 0.829095\tvalid_0's ndcg@20: 0.854004\n",
      "[115]\tvalid_0's ndcg@1: 0.730797\tvalid_0's ndcg@5: 0.829049\tvalid_0's ndcg@20: 0.853966\n",
      "[116]\tvalid_0's ndcg@1: 0.730762\tvalid_0's ndcg@5: 0.829029\tvalid_0's ndcg@20: 0.853949\n",
      "[117]\tvalid_0's ndcg@1: 0.730733\tvalid_0's ndcg@5: 0.829014\tvalid_0's ndcg@20: 0.853936\n",
      "[118]\tvalid_0's ndcg@1: 0.730719\tvalid_0's ndcg@5: 0.829006\tvalid_0's ndcg@20: 0.853931\n",
      "[119]\tvalid_0's ndcg@1: 0.730569\tvalid_0's ndcg@5: 0.828937\tvalid_0's ndcg@20: 0.853866\n",
      "[120]\tvalid_0's ndcg@1: 0.730623\tvalid_0's ndcg@5: 0.828939\tvalid_0's ndcg@20: 0.85388\n",
      "[121]\tvalid_0's ndcg@1: 0.730651\tvalid_0's ndcg@5: 0.828948\tvalid_0's ndcg@20: 0.853886\n",
      "[122]\tvalid_0's ndcg@1: 0.730647\tvalid_0's ndcg@5: 0.828943\tvalid_0's ndcg@20: 0.853878\n",
      "[123]\tvalid_0's ndcg@1: 0.730607\tvalid_0's ndcg@5: 0.828914\tvalid_0's ndcg@20: 0.853859\n",
      "[124]\tvalid_0's ndcg@1: 0.730987\tvalid_0's ndcg@5: 0.829102\tvalid_0's ndcg@20: 0.854029\n",
      "[125]\tvalid_0's ndcg@1: 0.731427\tvalid_0's ndcg@5: 0.829359\tvalid_0's ndcg@20: 0.854255\n",
      "[126]\tvalid_0's ndcg@1: 0.731316\tvalid_0's ndcg@5: 0.829282\tvalid_0's ndcg@20: 0.854192\n",
      "[127]\tvalid_0's ndcg@1: 0.731567\tvalid_0's ndcg@5: 0.829402\tvalid_0's ndcg@20: 0.854304\n",
      "[128]\tvalid_0's ndcg@1: 0.731818\tvalid_0's ndcg@5: 0.829517\tvalid_0's ndcg@20: 0.854419\n",
      "[129]\tvalid_0's ndcg@1: 0.731846\tvalid_0's ndcg@5: 0.829513\tvalid_0's ndcg@20: 0.854417\n",
      "[130]\tvalid_0's ndcg@1: 0.731836\tvalid_0's ndcg@5: 0.829504\tvalid_0's ndcg@20: 0.85441\n",
      "[131]\tvalid_0's ndcg@1: 0.732014\tvalid_0's ndcg@5: 0.829589\tvalid_0's ndcg@20: 0.854495\n",
      "[132]\tvalid_0's ndcg@1: 0.73239\tvalid_0's ndcg@5: 0.829781\tvalid_0's ndcg@20: 0.854674\n",
      "[133]\tvalid_0's ndcg@1: 0.732284\tvalid_0's ndcg@5: 0.829727\tvalid_0's ndcg@20: 0.854624\n",
      "[134]\tvalid_0's ndcg@1: 0.732276\tvalid_0's ndcg@5: 0.829705\tvalid_0's ndcg@20: 0.854609\n",
      "[135]\tvalid_0's ndcg@1: 0.732231\tvalid_0's ndcg@5: 0.829682\tvalid_0's ndcg@20: 0.854586\n",
      "[136]\tvalid_0's ndcg@1: 0.732449\tvalid_0's ndcg@5: 0.829784\tvalid_0's ndcg@20: 0.854681\n",
      "[137]\tvalid_0's ndcg@1: 0.732573\tvalid_0's ndcg@5: 0.829857\tvalid_0's ndcg@20: 0.854756\n",
      "[138]\tvalid_0's ndcg@1: 0.732594\tvalid_0's ndcg@5: 0.829864\tvalid_0's ndcg@20: 0.854764\n",
      "[139]\tvalid_0's ndcg@1: 0.732575\tvalid_0's ndcg@5: 0.829832\tvalid_0's ndcg@20: 0.854743\n",
      "[140]\tvalid_0's ndcg@1: 0.73277\tvalid_0's ndcg@5: 0.829919\tvalid_0's ndcg@20: 0.854826\n",
      "[141]\tvalid_0's ndcg@1: 0.73277\tvalid_0's ndcg@5: 0.829923\tvalid_0's ndcg@20: 0.854827\n",
      "[142]\tvalid_0's ndcg@1: 0.732766\tvalid_0's ndcg@5: 0.829914\tvalid_0's ndcg@20: 0.85482\n",
      "[143]\tvalid_0's ndcg@1: 0.732931\tvalid_0's ndcg@5: 0.829994\tvalid_0's ndcg@20: 0.854896\n",
      "[144]\tvalid_0's ndcg@1: 0.732971\tvalid_0's ndcg@5: 0.830009\tvalid_0's ndcg@20: 0.854912\n",
      "[145]\tvalid_0's ndcg@1: 0.732892\tvalid_0's ndcg@5: 0.829967\tvalid_0's ndcg@20: 0.854871\n",
      "[146]\tvalid_0's ndcg@1: 0.733032\tvalid_0's ndcg@5: 0.830033\tvalid_0's ndcg@20: 0.854938\n",
      "[147]\tvalid_0's ndcg@1: 0.732957\tvalid_0's ndcg@5: 0.829977\tvalid_0's ndcg@20: 0.854892\n",
      "[148]\tvalid_0's ndcg@1: 0.733192\tvalid_0's ndcg@5: 0.830082\tvalid_0's ndcg@20: 0.855\n",
      "[149]\tvalid_0's ndcg@1: 0.733189\tvalid_0's ndcg@5: 0.830064\tvalid_0's ndcg@20: 0.854989\n",
      "[150]\tvalid_0's ndcg@1: 0.733237\tvalid_0's ndcg@5: 0.830083\tvalid_0's ndcg@20: 0.855008\n",
      "[151]\tvalid_0's ndcg@1: 0.733402\tvalid_0's ndcg@5: 0.830157\tvalid_0's ndcg@20: 0.855082\n",
      "[152]\tvalid_0's ndcg@1: 0.73338\tvalid_0's ndcg@5: 0.830148\tvalid_0's ndcg@20: 0.855078\n",
      "[153]\tvalid_0's ndcg@1: 0.733364\tvalid_0's ndcg@5: 0.830136\tvalid_0's ndcg@20: 0.855066\n",
      "[154]\tvalid_0's ndcg@1: 0.733544\tvalid_0's ndcg@5: 0.830221\tvalid_0's ndcg@20: 0.855149\n",
      "[155]\tvalid_0's ndcg@1: 0.733541\tvalid_0's ndcg@5: 0.830213\tvalid_0's ndcg@20: 0.85514\n",
      "[156]\tvalid_0's ndcg@1: 0.733519\tvalid_0's ndcg@5: 0.830188\tvalid_0's ndcg@20: 0.855124\n",
      "[157]\tvalid_0's ndcg@1: 0.73367\tvalid_0's ndcg@5: 0.830272\tvalid_0's ndcg@20: 0.855202\n",
      "[158]\tvalid_0's ndcg@1: 0.733967\tvalid_0's ndcg@5: 0.830415\tvalid_0's ndcg@20: 0.85534\n",
      "[159]\tvalid_0's ndcg@1: 0.733962\tvalid_0's ndcg@5: 0.830406\tvalid_0's ndcg@20: 0.855334\n",
      "[160]\tvalid_0's ndcg@1: 0.733963\tvalid_0's ndcg@5: 0.830372\tvalid_0's ndcg@20: 0.855318\n",
      "[161]\tvalid_0's ndcg@1: 0.733961\tvalid_0's ndcg@5: 0.830369\tvalid_0's ndcg@20: 0.85532\n",
      "[162]\tvalid_0's ndcg@1: 0.733711\tvalid_0's ndcg@5: 0.830244\tvalid_0's ndcg@20: 0.855204\n",
      "[163]\tvalid_0's ndcg@1: 0.733737\tvalid_0's ndcg@5: 0.830232\tvalid_0's ndcg@20: 0.855197\n",
      "[164]\tvalid_0's ndcg@1: 0.733986\tvalid_0's ndcg@5: 0.830348\tvalid_0's ndcg@20: 0.855306\n",
      "[165]\tvalid_0's ndcg@1: 0.733976\tvalid_0's ndcg@5: 0.830338\tvalid_0's ndcg@20: 0.855299\n",
      "[166]\tvalid_0's ndcg@1: 0.733952\tvalid_0's ndcg@5: 0.830327\tvalid_0's ndcg@20: 0.855288\n",
      "[167]\tvalid_0's ndcg@1: 0.733993\tvalid_0's ndcg@5: 0.830339\tvalid_0's ndcg@20: 0.855299\n",
      "[168]\tvalid_0's ndcg@1: 0.734135\tvalid_0's ndcg@5: 0.830399\tvalid_0's ndcg@20: 0.855362\n",
      "[169]\tvalid_0's ndcg@1: 0.734102\tvalid_0's ndcg@5: 0.830386\tvalid_0's ndcg@20: 0.855348\n",
      "[170]\tvalid_0's ndcg@1: 0.734095\tvalid_0's ndcg@5: 0.830384\tvalid_0's ndcg@20: 0.855344\n",
      "[171]\tvalid_0's ndcg@1: 0.734097\tvalid_0's ndcg@5: 0.830373\tvalid_0's ndcg@20: 0.855339\n",
      "[172]\tvalid_0's ndcg@1: 0.734102\tvalid_0's ndcg@5: 0.83038\tvalid_0's ndcg@20: 0.855343\n",
      "[173]\tvalid_0's ndcg@1: 0.734086\tvalid_0's ndcg@5: 0.830372\tvalid_0's ndcg@20: 0.855339\n",
      "[174]\tvalid_0's ndcg@1: 0.734059\tvalid_0's ndcg@5: 0.83035\tvalid_0's ndcg@20: 0.855319\n",
      "[175]\tvalid_0's ndcg@1: 0.734035\tvalid_0's ndcg@5: 0.830316\tvalid_0's ndcg@20: 0.855295\n",
      "[176]\tvalid_0's ndcg@1: 0.734118\tvalid_0's ndcg@5: 0.830347\tvalid_0's ndcg@20: 0.85533\n",
      "[177]\tvalid_0's ndcg@1: 0.734237\tvalid_0's ndcg@5: 0.830395\tvalid_0's ndcg@20: 0.855385\n",
      "[178]\tvalid_0's ndcg@1: 0.734215\tvalid_0's ndcg@5: 0.830374\tvalid_0's ndcg@20: 0.855374\n",
      "[179]\tvalid_0's ndcg@1: 0.734221\tvalid_0's ndcg@5: 0.830377\tvalid_0's ndcg@20: 0.855372\n",
      "[180]\tvalid_0's ndcg@1: 0.734266\tvalid_0's ndcg@5: 0.830385\tvalid_0's ndcg@20: 0.855389\n",
      "[181]\tvalid_0's ndcg@1: 0.73431\tvalid_0's ndcg@5: 0.830384\tvalid_0's ndcg@20: 0.855395\n",
      "[182]\tvalid_0's ndcg@1: 0.734325\tvalid_0's ndcg@5: 0.83039\tvalid_0's ndcg@20: 0.855398\n",
      "[183]\tvalid_0's ndcg@1: 0.734305\tvalid_0's ndcg@5: 0.83037\tvalid_0's ndcg@20: 0.855385\n",
      "[184]\tvalid_0's ndcg@1: 0.734279\tvalid_0's ndcg@5: 0.830356\tvalid_0's ndcg@20: 0.855373\n"
     ]
    },
    {
     "name": "stdout",
     "output_type": "stream",
     "text": [
      "[185]\tvalid_0's ndcg@1: 0.734486\tvalid_0's ndcg@5: 0.830456\tvalid_0's ndcg@20: 0.855465\n",
      "[186]\tvalid_0's ndcg@1: 0.734483\tvalid_0's ndcg@5: 0.830449\tvalid_0's ndcg@20: 0.855462\n",
      "[187]\tvalid_0's ndcg@1: 0.734499\tvalid_0's ndcg@5: 0.830446\tvalid_0's ndcg@20: 0.855461\n",
      "[188]\tvalid_0's ndcg@1: 0.73449\tvalid_0's ndcg@5: 0.830436\tvalid_0's ndcg@20: 0.855452\n",
      "[189]\tvalid_0's ndcg@1: 0.734397\tvalid_0's ndcg@5: 0.830392\tvalid_0's ndcg@20: 0.855414\n",
      "[190]\tvalid_0's ndcg@1: 0.734423\tvalid_0's ndcg@5: 0.830399\tvalid_0's ndcg@20: 0.855419\n",
      "[191]\tvalid_0's ndcg@1: 0.73446\tvalid_0's ndcg@5: 0.830406\tvalid_0's ndcg@20: 0.855434\n",
      "[192]\tvalid_0's ndcg@1: 0.734457\tvalid_0's ndcg@5: 0.830406\tvalid_0's ndcg@20: 0.855436\n",
      "[193]\tvalid_0's ndcg@1: 0.734447\tvalid_0's ndcg@5: 0.830392\tvalid_0's ndcg@20: 0.855426\n",
      "[194]\tvalid_0's ndcg@1: 0.734467\tvalid_0's ndcg@5: 0.830391\tvalid_0's ndcg@20: 0.855431\n",
      "[195]\tvalid_0's ndcg@1: 0.734532\tvalid_0's ndcg@5: 0.830419\tvalid_0's ndcg@20: 0.85546\n",
      "[196]\tvalid_0's ndcg@1: 0.734492\tvalid_0's ndcg@5: 0.830405\tvalid_0's ndcg@20: 0.855442\n",
      "[197]\tvalid_0's ndcg@1: 0.734493\tvalid_0's ndcg@5: 0.830407\tvalid_0's ndcg@20: 0.855444\n",
      "[198]\tvalid_0's ndcg@1: 0.734472\tvalid_0's ndcg@5: 0.830391\tvalid_0's ndcg@20: 0.855434\n",
      "[199]\tvalid_0's ndcg@1: 0.734363\tvalid_0's ndcg@5: 0.830333\tvalid_0's ndcg@20: 0.855374\n",
      "[200]\tvalid_0's ndcg@1: 0.734374\tvalid_0's ndcg@5: 0.830322\tvalid_0's ndcg@20: 0.855372\n",
      "[201]\tvalid_0's ndcg@1: 0.734481\tvalid_0's ndcg@5: 0.830393\tvalid_0's ndcg@20: 0.855433\n",
      "[202]\tvalid_0's ndcg@1: 0.734503\tvalid_0's ndcg@5: 0.830411\tvalid_0's ndcg@20: 0.855446\n",
      "[203]\tvalid_0's ndcg@1: 0.734513\tvalid_0's ndcg@5: 0.830414\tvalid_0's ndcg@20: 0.855448\n",
      "[204]\tvalid_0's ndcg@1: 0.734523\tvalid_0's ndcg@5: 0.830404\tvalid_0's ndcg@20: 0.855443\n",
      "[205]\tvalid_0's ndcg@1: 0.734681\tvalid_0's ndcg@5: 0.83052\tvalid_0's ndcg@20: 0.855528\n",
      "[206]\tvalid_0's ndcg@1: 0.734689\tvalid_0's ndcg@5: 0.830524\tvalid_0's ndcg@20: 0.855532\n",
      "[207]\tvalid_0's ndcg@1: 0.734945\tvalid_0's ndcg@5: 0.830644\tvalid_0's ndcg@20: 0.855644\n",
      "[208]\tvalid_0's ndcg@1: 0.735047\tvalid_0's ndcg@5: 0.830697\tvalid_0's ndcg@20: 0.855692\n",
      "[209]\tvalid_0's ndcg@1: 0.735026\tvalid_0's ndcg@5: 0.830687\tvalid_0's ndcg@20: 0.855683\n",
      "[210]\tvalid_0's ndcg@1: 0.735016\tvalid_0's ndcg@5: 0.830677\tvalid_0's ndcg@20: 0.855674\n",
      "[211]\tvalid_0's ndcg@1: 0.735003\tvalid_0's ndcg@5: 0.830674\tvalid_0's ndcg@20: 0.855673\n",
      "[212]\tvalid_0's ndcg@1: 0.735107\tvalid_0's ndcg@5: 0.83073\tvalid_0's ndcg@20: 0.855722\n",
      "[213]\tvalid_0's ndcg@1: 0.735226\tvalid_0's ndcg@5: 0.830803\tvalid_0's ndcg@20: 0.855782\n",
      "[214]\tvalid_0's ndcg@1: 0.735213\tvalid_0's ndcg@5: 0.830796\tvalid_0's ndcg@20: 0.855775\n",
      "[215]\tvalid_0's ndcg@1: 0.735197\tvalid_0's ndcg@5: 0.830794\tvalid_0's ndcg@20: 0.855765\n",
      "[216]\tvalid_0's ndcg@1: 0.735296\tvalid_0's ndcg@5: 0.830841\tvalid_0's ndcg@20: 0.855816\n",
      "[217]\tvalid_0's ndcg@1: 0.73528\tvalid_0's ndcg@5: 0.830831\tvalid_0's ndcg@20: 0.855807\n",
      "[218]\tvalid_0's ndcg@1: 0.735288\tvalid_0's ndcg@5: 0.830839\tvalid_0's ndcg@20: 0.855814\n",
      "[219]\tvalid_0's ndcg@1: 0.735211\tvalid_0's ndcg@5: 0.830781\tvalid_0's ndcg@20: 0.855764\n",
      "[220]\tvalid_0's ndcg@1: 0.735229\tvalid_0's ndcg@5: 0.830781\tvalid_0's ndcg@20: 0.855772\n",
      "[221]\tvalid_0's ndcg@1: 0.735294\tvalid_0's ndcg@5: 0.83081\tvalid_0's ndcg@20: 0.855803\n",
      "[222]\tvalid_0's ndcg@1: 0.735353\tvalid_0's ndcg@5: 0.830845\tvalid_0's ndcg@20: 0.855835\n",
      "[223]\tvalid_0's ndcg@1: 0.735446\tvalid_0's ndcg@5: 0.830896\tvalid_0's ndcg@20: 0.855875\n",
      "[224]\tvalid_0's ndcg@1: 0.735347\tvalid_0's ndcg@5: 0.83084\tvalid_0's ndcg@20: 0.855834\n",
      "[225]\tvalid_0's ndcg@1: 0.73538\tvalid_0's ndcg@5: 0.830852\tvalid_0's ndcg@20: 0.855844\n",
      "[226]\tvalid_0's ndcg@1: 0.735368\tvalid_0's ndcg@5: 0.830843\tvalid_0's ndcg@20: 0.855838\n",
      "[227]\tvalid_0's ndcg@1: 0.735365\tvalid_0's ndcg@5: 0.830838\tvalid_0's ndcg@20: 0.855836\n",
      "[228]\tvalid_0's ndcg@1: 0.735346\tvalid_0's ndcg@5: 0.830824\tvalid_0's ndcg@20: 0.855824\n",
      "[229]\tvalid_0's ndcg@1: 0.735409\tvalid_0's ndcg@5: 0.830852\tvalid_0's ndcg@20: 0.855853\n",
      "[230]\tvalid_0's ndcg@1: 0.735375\tvalid_0's ndcg@5: 0.83084\tvalid_0's ndcg@20: 0.85584\n",
      "[231]\tvalid_0's ndcg@1: 0.735324\tvalid_0's ndcg@5: 0.830804\tvalid_0's ndcg@20: 0.855812\n",
      "[232]\tvalid_0's ndcg@1: 0.735299\tvalid_0's ndcg@5: 0.830787\tvalid_0's ndcg@20: 0.855796\n",
      "[233]\tvalid_0's ndcg@1: 0.735287\tvalid_0's ndcg@5: 0.830781\tvalid_0's ndcg@20: 0.855792\n",
      "[234]\tvalid_0's ndcg@1: 0.735371\tvalid_0's ndcg@5: 0.830811\tvalid_0's ndcg@20: 0.855826\n",
      "[235]\tvalid_0's ndcg@1: 0.735511\tvalid_0's ndcg@5: 0.830871\tvalid_0's ndcg@20: 0.855886\n",
      "[236]\tvalid_0's ndcg@1: 0.735509\tvalid_0's ndcg@5: 0.830868\tvalid_0's ndcg@20: 0.855884\n",
      "[237]\tvalid_0's ndcg@1: 0.735478\tvalid_0's ndcg@5: 0.830842\tvalid_0's ndcg@20: 0.855862\n",
      "[238]\tvalid_0's ndcg@1: 0.735459\tvalid_0's ndcg@5: 0.830828\tvalid_0's ndcg@20: 0.855853\n",
      "[239]\tvalid_0's ndcg@1: 0.735427\tvalid_0's ndcg@5: 0.830808\tvalid_0's ndcg@20: 0.855836\n",
      "[240]\tvalid_0's ndcg@1: 0.735412\tvalid_0's ndcg@5: 0.830816\tvalid_0's ndcg@20: 0.855841\n",
      "[241]\tvalid_0's ndcg@1: 0.73536\tvalid_0's ndcg@5: 0.830779\tvalid_0's ndcg@20: 0.855812\n",
      "[242]\tvalid_0's ndcg@1: 0.735334\tvalid_0's ndcg@5: 0.830772\tvalid_0's ndcg@20: 0.855803\n",
      "[243]\tvalid_0's ndcg@1: 0.735319\tvalid_0's ndcg@5: 0.830766\tvalid_0's ndcg@20: 0.855797\n",
      "[244]\tvalid_0's ndcg@1: 0.735312\tvalid_0's ndcg@5: 0.830763\tvalid_0's ndcg@20: 0.85579\n",
      "[245]\tvalid_0's ndcg@1: 0.735361\tvalid_0's ndcg@5: 0.830785\tvalid_0's ndcg@20: 0.855816\n",
      "[246]\tvalid_0's ndcg@1: 0.735436\tvalid_0's ndcg@5: 0.830849\tvalid_0's ndcg@20: 0.855862\n",
      "[247]\tvalid_0's ndcg@1: 0.735431\tvalid_0's ndcg@5: 0.830833\tvalid_0's ndcg@20: 0.855855\n",
      "[248]\tvalid_0's ndcg@1: 0.735539\tvalid_0's ndcg@5: 0.830892\tvalid_0's ndcg@20: 0.855914\n",
      "[249]\tvalid_0's ndcg@1: 0.73552\tvalid_0's ndcg@5: 0.830877\tvalid_0's ndcg@20: 0.855902\n",
      "[250]\tvalid_0's ndcg@1: 0.735528\tvalid_0's ndcg@5: 0.830885\tvalid_0's ndcg@20: 0.855906\n",
      "[251]\tvalid_0's ndcg@1: 0.735534\tvalid_0's ndcg@5: 0.830881\tvalid_0's ndcg@20: 0.85591\n",
      "[252]\tvalid_0's ndcg@1: 0.735516\tvalid_0's ndcg@5: 0.830875\tvalid_0's ndcg@20: 0.8559\n",
      "[253]\tvalid_0's ndcg@1: 0.735597\tvalid_0's ndcg@5: 0.830909\tvalid_0's ndcg@20: 0.855935\n",
      "[254]\tvalid_0's ndcg@1: 0.735604\tvalid_0's ndcg@5: 0.830905\tvalid_0's ndcg@20: 0.855935\n",
      "[255]\tvalid_0's ndcg@1: 0.735575\tvalid_0's ndcg@5: 0.830878\tvalid_0's ndcg@20: 0.855913\n",
      "[256]\tvalid_0's ndcg@1: 0.735627\tvalid_0's ndcg@5: 0.830907\tvalid_0's ndcg@20: 0.855942\n",
      "[257]\tvalid_0's ndcg@1: 0.735618\tvalid_0's ndcg@5: 0.830891\tvalid_0's ndcg@20: 0.855931\n",
      "[258]\tvalid_0's ndcg@1: 0.735617\tvalid_0's ndcg@5: 0.830883\tvalid_0's ndcg@20: 0.855924\n",
      "[259]\tvalid_0's ndcg@1: 0.735606\tvalid_0's ndcg@5: 0.830878\tvalid_0's ndcg@20: 0.85592\n",
      "[260]\tvalid_0's ndcg@1: 0.735632\tvalid_0's ndcg@5: 0.830885\tvalid_0's ndcg@20: 0.855927\n",
      "[261]\tvalid_0's ndcg@1: 0.735613\tvalid_0's ndcg@5: 0.830875\tvalid_0's ndcg@20: 0.855918\n",
      "[262]\tvalid_0's ndcg@1: 0.735613\tvalid_0's ndcg@5: 0.830875\tvalid_0's ndcg@20: 0.855919\n",
      "[263]\tvalid_0's ndcg@1: 0.735613\tvalid_0's ndcg@5: 0.830871\tvalid_0's ndcg@20: 0.855916\n",
      "[264]\tvalid_0's ndcg@1: 0.735603\tvalid_0's ndcg@5: 0.830864\tvalid_0's ndcg@20: 0.855911\n",
      "[265]\tvalid_0's ndcg@1: 0.735608\tvalid_0's ndcg@5: 0.830873\tvalid_0's ndcg@20: 0.855915\n",
      "[266]\tvalid_0's ndcg@1: 0.735568\tvalid_0's ndcg@5: 0.830844\tvalid_0's ndcg@20: 0.855891\n",
      "[267]\tvalid_0's ndcg@1: 0.735546\tvalid_0's ndcg@5: 0.830834\tvalid_0's ndcg@20: 0.855882\n",
      "[268]\tvalid_0's ndcg@1: 0.735551\tvalid_0's ndcg@5: 0.830827\tvalid_0's ndcg@20: 0.85588\n",
      "[269]\tvalid_0's ndcg@1: 0.735536\tvalid_0's ndcg@5: 0.830817\tvalid_0's ndcg@20: 0.855871\n",
      "[270]\tvalid_0's ndcg@1: 0.735612\tvalid_0's ndcg@5: 0.830844\tvalid_0's ndcg@20: 0.855905\n",
      "[271]\tvalid_0's ndcg@1: 0.73561\tvalid_0's ndcg@5: 0.830846\tvalid_0's ndcg@20: 0.855904\n",
      "[272]\tvalid_0's ndcg@1: 0.735633\tvalid_0's ndcg@5: 0.830858\tvalid_0's ndcg@20: 0.855914\n",
      "[273]\tvalid_0's ndcg@1: 0.735742\tvalid_0's ndcg@5: 0.830923\tvalid_0's ndcg@20: 0.85597\n",
      "[274]\tvalid_0's ndcg@1: 0.735743\tvalid_0's ndcg@5: 0.830919\tvalid_0's ndcg@20: 0.855969\n",
      "[275]\tvalid_0's ndcg@1: 0.735786\tvalid_0's ndcg@5: 0.830942\tvalid_0's ndcg@20: 0.85599\n",
      "[276]\tvalid_0's ndcg@1: 0.735807\tvalid_0's ndcg@5: 0.830949\tvalid_0's ndcg@20: 0.856004\n",
      "[277]\tvalid_0's ndcg@1: 0.735768\tvalid_0's ndcg@5: 0.830926\tvalid_0's ndcg@20: 0.855984\n",
      "[278]\tvalid_0's ndcg@1: 0.735765\tvalid_0's ndcg@5: 0.830923\tvalid_0's ndcg@20: 0.855981\n"
     ]
    },
    {
     "name": "stdout",
     "output_type": "stream",
     "text": [
      "[279]\tvalid_0's ndcg@1: 0.735756\tvalid_0's ndcg@5: 0.830909\tvalid_0's ndcg@20: 0.855974\n",
      "[280]\tvalid_0's ndcg@1: 0.735781\tvalid_0's ndcg@5: 0.830926\tvalid_0's ndcg@20: 0.855988\n",
      "[281]\tvalid_0's ndcg@1: 0.735771\tvalid_0's ndcg@5: 0.830913\tvalid_0's ndcg@20: 0.855984\n",
      "[282]\tvalid_0's ndcg@1: 0.735823\tvalid_0's ndcg@5: 0.830947\tvalid_0's ndcg@20: 0.856011\n",
      "[283]\tvalid_0's ndcg@1: 0.735814\tvalid_0's ndcg@5: 0.830938\tvalid_0's ndcg@20: 0.856005\n",
      "[284]\tvalid_0's ndcg@1: 0.735814\tvalid_0's ndcg@5: 0.830919\tvalid_0's ndcg@20: 0.855995\n",
      "[285]\tvalid_0's ndcg@1: 0.735807\tvalid_0's ndcg@5: 0.830918\tvalid_0's ndcg@20: 0.855996\n",
      "[286]\tvalid_0's ndcg@1: 0.735781\tvalid_0's ndcg@5: 0.830903\tvalid_0's ndcg@20: 0.85598\n",
      "[287]\tvalid_0's ndcg@1: 0.735855\tvalid_0's ndcg@5: 0.830937\tvalid_0's ndcg@20: 0.856014\n",
      "[288]\tvalid_0's ndcg@1: 0.735862\tvalid_0's ndcg@5: 0.830939\tvalid_0's ndcg@20: 0.856016\n",
      "[289]\tvalid_0's ndcg@1: 0.735846\tvalid_0's ndcg@5: 0.830932\tvalid_0's ndcg@20: 0.856008\n",
      "[290]\tvalid_0's ndcg@1: 0.735937\tvalid_0's ndcg@5: 0.830978\tvalid_0's ndcg@20: 0.856048\n",
      "[291]\tvalid_0's ndcg@1: 0.735919\tvalid_0's ndcg@5: 0.830971\tvalid_0's ndcg@20: 0.856044\n",
      "[292]\tvalid_0's ndcg@1: 0.735896\tvalid_0's ndcg@5: 0.830948\tvalid_0's ndcg@20: 0.856026\n",
      "[293]\tvalid_0's ndcg@1: 0.735901\tvalid_0's ndcg@5: 0.830937\tvalid_0's ndcg@20: 0.856022\n",
      "[294]\tvalid_0's ndcg@1: 0.735905\tvalid_0's ndcg@5: 0.830928\tvalid_0's ndcg@20: 0.856015\n",
      "[295]\tvalid_0's ndcg@1: 0.735893\tvalid_0's ndcg@5: 0.830914\tvalid_0's ndcg@20: 0.856005\n",
      "[296]\tvalid_0's ndcg@1: 0.735821\tvalid_0's ndcg@5: 0.830886\tvalid_0's ndcg@20: 0.855979\n",
      "[297]\tvalid_0's ndcg@1: 0.73589\tvalid_0's ndcg@5: 0.830928\tvalid_0's ndcg@20: 0.856015\n",
      "[298]\tvalid_0's ndcg@1: 0.735884\tvalid_0's ndcg@5: 0.830927\tvalid_0's ndcg@20: 0.856014\n",
      "[299]\tvalid_0's ndcg@1: 0.73588\tvalid_0's ndcg@5: 0.830934\tvalid_0's ndcg@20: 0.856015\n",
      "[300]\tvalid_0's ndcg@1: 0.735833\tvalid_0's ndcg@5: 0.8309\tvalid_0's ndcg@20: 0.85599\n",
      "[301]\tvalid_0's ndcg@1: 0.735911\tvalid_0's ndcg@5: 0.83094\tvalid_0's ndcg@20: 0.856026\n",
      "[302]\tvalid_0's ndcg@1: 0.735932\tvalid_0's ndcg@5: 0.830949\tvalid_0's ndcg@20: 0.856036\n",
      "[303]\tvalid_0's ndcg@1: 0.736004\tvalid_0's ndcg@5: 0.830991\tvalid_0's ndcg@20: 0.856063\n",
      "[304]\tvalid_0's ndcg@1: 0.736077\tvalid_0's ndcg@5: 0.831027\tvalid_0's ndcg@20: 0.8561\n",
      "[305]\tvalid_0's ndcg@1: 0.736065\tvalid_0's ndcg@5: 0.831011\tvalid_0's ndcg@20: 0.856086\n",
      "[306]\tvalid_0's ndcg@1: 0.736068\tvalid_0's ndcg@5: 0.831011\tvalid_0's ndcg@20: 0.856088\n",
      "[307]\tvalid_0's ndcg@1: 0.736098\tvalid_0's ndcg@5: 0.831019\tvalid_0's ndcg@20: 0.856098\n",
      "[308]\tvalid_0's ndcg@1: 0.736079\tvalid_0's ndcg@5: 0.83101\tvalid_0's ndcg@20: 0.856091\n",
      "[309]\tvalid_0's ndcg@1: 0.736084\tvalid_0's ndcg@5: 0.831013\tvalid_0's ndcg@20: 0.856091\n",
      "[310]\tvalid_0's ndcg@1: 0.736052\tvalid_0's ndcg@5: 0.830994\tvalid_0's ndcg@20: 0.856074\n",
      "[311]\tvalid_0's ndcg@1: 0.736111\tvalid_0's ndcg@5: 0.831025\tvalid_0's ndcg@20: 0.856104\n",
      "[312]\tvalid_0's ndcg@1: 0.736044\tvalid_0's ndcg@5: 0.830991\tvalid_0's ndcg@20: 0.856073\n",
      "[313]\tvalid_0's ndcg@1: 0.736016\tvalid_0's ndcg@5: 0.830973\tvalid_0's ndcg@20: 0.856053\n",
      "[314]\tvalid_0's ndcg@1: 0.736006\tvalid_0's ndcg@5: 0.830959\tvalid_0's ndcg@20: 0.856043\n",
      "[315]\tvalid_0's ndcg@1: 0.735965\tvalid_0's ndcg@5: 0.830938\tvalid_0's ndcg@20: 0.856017\n",
      "[316]\tvalid_0's ndcg@1: 0.736027\tvalid_0's ndcg@5: 0.830971\tvalid_0's ndcg@20: 0.856051\n",
      "[317]\tvalid_0's ndcg@1: 0.736016\tvalid_0's ndcg@5: 0.830962\tvalid_0's ndcg@20: 0.856045\n",
      "[318]\tvalid_0's ndcg@1: 0.73604\tvalid_0's ndcg@5: 0.830963\tvalid_0's ndcg@20: 0.856051\n",
      "[319]\tvalid_0's ndcg@1: 0.736017\tvalid_0's ndcg@5: 0.830941\tvalid_0's ndcg@20: 0.856036\n",
      "[320]\tvalid_0's ndcg@1: 0.736029\tvalid_0's ndcg@5: 0.830946\tvalid_0's ndcg@20: 0.856045\n",
      "[321]\tvalid_0's ndcg@1: 0.736\tvalid_0's ndcg@5: 0.830933\tvalid_0's ndcg@20: 0.856031\n",
      "[322]\tvalid_0's ndcg@1: 0.736122\tvalid_0's ndcg@5: 0.830995\tvalid_0's ndcg@20: 0.856089\n",
      "[323]\tvalid_0's ndcg@1: 0.73614\tvalid_0's ndcg@5: 0.831017\tvalid_0's ndcg@20: 0.856101\n",
      "[324]\tvalid_0's ndcg@1: 0.736164\tvalid_0's ndcg@5: 0.831018\tvalid_0's ndcg@20: 0.856108\n",
      "[325]\tvalid_0's ndcg@1: 0.736166\tvalid_0's ndcg@5: 0.831022\tvalid_0's ndcg@20: 0.856114\n",
      "[326]\tvalid_0's ndcg@1: 0.736161\tvalid_0's ndcg@5: 0.831014\tvalid_0's ndcg@20: 0.856108\n",
      "[327]\tvalid_0's ndcg@1: 0.736164\tvalid_0's ndcg@5: 0.83101\tvalid_0's ndcg@20: 0.856107\n",
      "[328]\tvalid_0's ndcg@1: 0.73615\tvalid_0's ndcg@5: 0.831004\tvalid_0's ndcg@20: 0.856099\n",
      "[329]\tvalid_0's ndcg@1: 0.736136\tvalid_0's ndcg@5: 0.830997\tvalid_0's ndcg@20: 0.856093\n",
      "[330]\tvalid_0's ndcg@1: 0.736127\tvalid_0's ndcg@5: 0.830993\tvalid_0's ndcg@20: 0.85609\n",
      "[331]\tvalid_0's ndcg@1: 0.736203\tvalid_0's ndcg@5: 0.831023\tvalid_0's ndcg@20: 0.856122\n",
      "[332]\tvalid_0's ndcg@1: 0.736179\tvalid_0's ndcg@5: 0.83101\tvalid_0's ndcg@20: 0.856107\n",
      "[333]\tvalid_0's ndcg@1: 0.736163\tvalid_0's ndcg@5: 0.830999\tvalid_0's ndcg@20: 0.856097\n",
      "[334]\tvalid_0's ndcg@1: 0.736128\tvalid_0's ndcg@5: 0.830982\tvalid_0's ndcg@20: 0.85608\n",
      "[335]\tvalid_0's ndcg@1: 0.736155\tvalid_0's ndcg@5: 0.831002\tvalid_0's ndcg@20: 0.8561\n",
      "[336]\tvalid_0's ndcg@1: 0.736175\tvalid_0's ndcg@5: 0.831012\tvalid_0's ndcg@20: 0.856107\n",
      "[337]\tvalid_0's ndcg@1: 0.736192\tvalid_0's ndcg@5: 0.831015\tvalid_0's ndcg@20: 0.856112\n",
      "[338]\tvalid_0's ndcg@1: 0.736184\tvalid_0's ndcg@5: 0.831007\tvalid_0's ndcg@20: 0.856108\n",
      "[339]\tvalid_0's ndcg@1: 0.736163\tvalid_0's ndcg@5: 0.831003\tvalid_0's ndcg@20: 0.856099\n",
      "[340]\tvalid_0's ndcg@1: 0.736093\tvalid_0's ndcg@5: 0.830966\tvalid_0's ndcg@20: 0.856067\n",
      "[341]\tvalid_0's ndcg@1: 0.736091\tvalid_0's ndcg@5: 0.830969\tvalid_0's ndcg@20: 0.856067\n",
      "[342]\tvalid_0's ndcg@1: 0.736088\tvalid_0's ndcg@5: 0.830962\tvalid_0's ndcg@20: 0.856063\n",
      "[343]\tvalid_0's ndcg@1: 0.736114\tvalid_0's ndcg@5: 0.83097\tvalid_0's ndcg@20: 0.856076\n",
      "[344]\tvalid_0's ndcg@1: 0.736152\tvalid_0's ndcg@5: 0.830997\tvalid_0's ndcg@20: 0.856099\n",
      "[345]\tvalid_0's ndcg@1: 0.736155\tvalid_0's ndcg@5: 0.830997\tvalid_0's ndcg@20: 0.856101\n",
      "[346]\tvalid_0's ndcg@1: 0.736164\tvalid_0's ndcg@5: 0.830994\tvalid_0's ndcg@20: 0.856103\n",
      "[347]\tvalid_0's ndcg@1: 0.736196\tvalid_0's ndcg@5: 0.831017\tvalid_0's ndcg@20: 0.856124\n",
      "[348]\tvalid_0's ndcg@1: 0.736212\tvalid_0's ndcg@5: 0.831014\tvalid_0's ndcg@20: 0.856125\n",
      "[349]\tvalid_0's ndcg@1: 0.736211\tvalid_0's ndcg@5: 0.83101\tvalid_0's ndcg@20: 0.856121\n",
      "[350]\tvalid_0's ndcg@1: 0.736216\tvalid_0's ndcg@5: 0.831009\tvalid_0's ndcg@20: 0.856123\n",
      "[351]\tvalid_0's ndcg@1: 0.736226\tvalid_0's ndcg@5: 0.831009\tvalid_0's ndcg@20: 0.856124\n",
      "[352]\tvalid_0's ndcg@1: 0.736214\tvalid_0's ndcg@5: 0.830999\tvalid_0's ndcg@20: 0.856116\n",
      "[353]\tvalid_0's ndcg@1: 0.736203\tvalid_0's ndcg@5: 0.830986\tvalid_0's ndcg@20: 0.856105\n",
      "[354]\tvalid_0's ndcg@1: 0.736199\tvalid_0's ndcg@5: 0.830981\tvalid_0's ndcg@20: 0.8561\n",
      "[355]\tvalid_0's ndcg@1: 0.736195\tvalid_0's ndcg@5: 0.830968\tvalid_0's ndcg@20: 0.856091\n",
      "[356]\tvalid_0's ndcg@1: 0.736171\tvalid_0's ndcg@5: 0.830957\tvalid_0's ndcg@20: 0.856078\n",
      "[357]\tvalid_0's ndcg@1: 0.73615\tvalid_0's ndcg@5: 0.830948\tvalid_0's ndcg@20: 0.856071\n",
      "[358]\tvalid_0's ndcg@1: 0.736126\tvalid_0's ndcg@5: 0.830928\tvalid_0's ndcg@20: 0.856055\n",
      "[359]\tvalid_0's ndcg@1: 0.736121\tvalid_0's ndcg@5: 0.830927\tvalid_0's ndcg@20: 0.856054\n",
      "[360]\tvalid_0's ndcg@1: 0.736139\tvalid_0's ndcg@5: 0.830931\tvalid_0's ndcg@20: 0.856059\n",
      "[361]\tvalid_0's ndcg@1: 0.736036\tvalid_0's ndcg@5: 0.830884\tvalid_0's ndcg@20: 0.856006\n",
      "[362]\tvalid_0's ndcg@1: 0.73603\tvalid_0's ndcg@5: 0.830883\tvalid_0's ndcg@20: 0.856003\n",
      "[363]\tvalid_0's ndcg@1: 0.736055\tvalid_0's ndcg@5: 0.830906\tvalid_0's ndcg@20: 0.856022\n",
      "[364]\tvalid_0's ndcg@1: 0.736046\tvalid_0's ndcg@5: 0.830895\tvalid_0's ndcg@20: 0.856017\n",
      "[365]\tvalid_0's ndcg@1: 0.736052\tvalid_0's ndcg@5: 0.830898\tvalid_0's ndcg@20: 0.856019\n",
      "[366]\tvalid_0's ndcg@1: 0.736019\tvalid_0's ndcg@5: 0.830877\tvalid_0's ndcg@20: 0.856\n",
      "[367]\tvalid_0's ndcg@1: 0.736064\tvalid_0's ndcg@5: 0.830899\tvalid_0's ndcg@20: 0.856024\n",
      "[368]\tvalid_0's ndcg@1: 0.736065\tvalid_0's ndcg@5: 0.830903\tvalid_0's ndcg@20: 0.856027\n",
      "[369]\tvalid_0's ndcg@1: 0.736072\tvalid_0's ndcg@5: 0.830911\tvalid_0's ndcg@20: 0.856027\n",
      "[370]\tvalid_0's ndcg@1: 0.73602\tvalid_0's ndcg@5: 0.830883\tvalid_0's ndcg@20: 0.855999\n",
      "[371]\tvalid_0's ndcg@1: 0.736027\tvalid_0's ndcg@5: 0.830885\tvalid_0's ndcg@20: 0.856002\n",
      "[372]\tvalid_0's ndcg@1: 0.736029\tvalid_0's ndcg@5: 0.830888\tvalid_0's ndcg@20: 0.856001\n"
     ]
    },
    {
     "name": "stdout",
     "output_type": "stream",
     "text": [
      "[373]\tvalid_0's ndcg@1: 0.736026\tvalid_0's ndcg@5: 0.830882\tvalid_0's ndcg@20: 0.855997\n",
      "[374]\tvalid_0's ndcg@1: 0.736023\tvalid_0's ndcg@5: 0.830873\tvalid_0's ndcg@20: 0.855993\n",
      "[375]\tvalid_0's ndcg@1: 0.736023\tvalid_0's ndcg@5: 0.830873\tvalid_0's ndcg@20: 0.855993\n",
      "[376]\tvalid_0's ndcg@1: 0.736046\tvalid_0's ndcg@5: 0.830891\tvalid_0's ndcg@20: 0.856008\n",
      "[377]\tvalid_0's ndcg@1: 0.736053\tvalid_0's ndcg@5: 0.830889\tvalid_0's ndcg@20: 0.85601\n",
      "[378]\tvalid_0's ndcg@1: 0.736041\tvalid_0's ndcg@5: 0.830885\tvalid_0's ndcg@20: 0.856007\n",
      "[379]\tvalid_0's ndcg@1: 0.736029\tvalid_0's ndcg@5: 0.830881\tvalid_0's ndcg@20: 0.856002\n",
      "[380]\tvalid_0's ndcg@1: 0.736024\tvalid_0's ndcg@5: 0.830882\tvalid_0's ndcg@20: 0.856001\n",
      "[381]\tvalid_0's ndcg@1: 0.736106\tvalid_0's ndcg@5: 0.830915\tvalid_0's ndcg@20: 0.856033\n",
      "[382]\tvalid_0's ndcg@1: 0.736103\tvalid_0's ndcg@5: 0.830916\tvalid_0's ndcg@20: 0.856031\n",
      "[383]\tvalid_0's ndcg@1: 0.736102\tvalid_0's ndcg@5: 0.830912\tvalid_0's ndcg@20: 0.856029\n",
      "[384]\tvalid_0's ndcg@1: 0.736093\tvalid_0's ndcg@5: 0.830909\tvalid_0's ndcg@20: 0.856025\n",
      "[385]\tvalid_0's ndcg@1: 0.736106\tvalid_0's ndcg@5: 0.830903\tvalid_0's ndcg@20: 0.856029\n",
      "[386]\tvalid_0's ndcg@1: 0.736135\tvalid_0's ndcg@5: 0.83092\tvalid_0's ndcg@20: 0.856045\n",
      "[387]\tvalid_0's ndcg@1: 0.736128\tvalid_0's ndcg@5: 0.830919\tvalid_0's ndcg@20: 0.856042\n",
      "[388]\tvalid_0's ndcg@1: 0.736125\tvalid_0's ndcg@5: 0.830919\tvalid_0's ndcg@20: 0.856041\n",
      "[389]\tvalid_0's ndcg@1: 0.736103\tvalid_0's ndcg@5: 0.830901\tvalid_0's ndcg@20: 0.856029\n",
      "[390]\tvalid_0's ndcg@1: 0.736095\tvalid_0's ndcg@5: 0.830896\tvalid_0's ndcg@20: 0.856023\n",
      "[391]\tvalid_0's ndcg@1: 0.736097\tvalid_0's ndcg@5: 0.830895\tvalid_0's ndcg@20: 0.856024\n",
      "[392]\tvalid_0's ndcg@1: 0.73609\tvalid_0's ndcg@5: 0.830884\tvalid_0's ndcg@20: 0.85602\n",
      "[393]\tvalid_0's ndcg@1: 0.736138\tvalid_0's ndcg@5: 0.830892\tvalid_0's ndcg@20: 0.856038\n",
      "[394]\tvalid_0's ndcg@1: 0.736098\tvalid_0's ndcg@5: 0.830876\tvalid_0's ndcg@20: 0.856024\n",
      "[395]\tvalid_0's ndcg@1: 0.736088\tvalid_0's ndcg@5: 0.830873\tvalid_0's ndcg@20: 0.85602\n",
      "[396]\tvalid_0's ndcg@1: 0.736093\tvalid_0's ndcg@5: 0.830868\tvalid_0's ndcg@20: 0.856018\n",
      "[397]\tvalid_0's ndcg@1: 0.73609\tvalid_0's ndcg@5: 0.830865\tvalid_0's ndcg@20: 0.856014\n",
      "[398]\tvalid_0's ndcg@1: 0.736137\tvalid_0's ndcg@5: 0.83089\tvalid_0's ndcg@20: 0.856039\n",
      "[399]\tvalid_0's ndcg@1: 0.736124\tvalid_0's ndcg@5: 0.830883\tvalid_0's ndcg@20: 0.856031\n",
      "[400]\tvalid_0's ndcg@1: 0.736122\tvalid_0's ndcg@5: 0.830882\tvalid_0's ndcg@20: 0.85603\n",
      "[401]\tvalid_0's ndcg@1: 0.736114\tvalid_0's ndcg@5: 0.830878\tvalid_0's ndcg@20: 0.856026\n",
      "[402]\tvalid_0's ndcg@1: 0.736114\tvalid_0's ndcg@5: 0.830878\tvalid_0's ndcg@20: 0.856028\n",
      "[403]\tvalid_0's ndcg@1: 0.736133\tvalid_0's ndcg@5: 0.830889\tvalid_0's ndcg@20: 0.856036\n",
      "[404]\tvalid_0's ndcg@1: 0.736129\tvalid_0's ndcg@5: 0.830882\tvalid_0's ndcg@20: 0.856033\n",
      "[405]\tvalid_0's ndcg@1: 0.736122\tvalid_0's ndcg@5: 0.830872\tvalid_0's ndcg@20: 0.856026\n",
      "[406]\tvalid_0's ndcg@1: 0.736089\tvalid_0's ndcg@5: 0.830855\tvalid_0's ndcg@20: 0.856008\n",
      "[407]\tvalid_0's ndcg@1: 0.736056\tvalid_0's ndcg@5: 0.830831\tvalid_0's ndcg@20: 0.855984\n",
      "[408]\tvalid_0's ndcg@1: 0.736019\tvalid_0's ndcg@5: 0.830812\tvalid_0's ndcg@20: 0.855969\n",
      "[409]\tvalid_0's ndcg@1: 0.736029\tvalid_0's ndcg@5: 0.830814\tvalid_0's ndcg@20: 0.855972\n",
      "[410]\tvalid_0's ndcg@1: 0.735983\tvalid_0's ndcg@5: 0.830789\tvalid_0's ndcg@20: 0.855946\n",
      "[411]\tvalid_0's ndcg@1: 0.73598\tvalid_0's ndcg@5: 0.830787\tvalid_0's ndcg@20: 0.855944\n",
      "[412]\tvalid_0's ndcg@1: 0.735977\tvalid_0's ndcg@5: 0.830778\tvalid_0's ndcg@20: 0.855939\n",
      "[413]\tvalid_0's ndcg@1: 0.735997\tvalid_0's ndcg@5: 0.83079\tvalid_0's ndcg@20: 0.855951\n",
      "[414]\tvalid_0's ndcg@1: 0.736001\tvalid_0's ndcg@5: 0.830788\tvalid_0's ndcg@20: 0.855951\n",
      "[415]\tvalid_0's ndcg@1: 0.735991\tvalid_0's ndcg@5: 0.830784\tvalid_0's ndcg@20: 0.855946\n",
      "[416]\tvalid_0's ndcg@1: 0.735984\tvalid_0's ndcg@5: 0.830788\tvalid_0's ndcg@20: 0.855948\n",
      "[417]\tvalid_0's ndcg@1: 0.736032\tvalid_0's ndcg@5: 0.830813\tvalid_0's ndcg@20: 0.855973\n",
      "[418]\tvalid_0's ndcg@1: 0.736015\tvalid_0's ndcg@5: 0.830799\tvalid_0's ndcg@20: 0.855961\n",
      "[419]\tvalid_0's ndcg@1: 0.736019\tvalid_0's ndcg@5: 0.830797\tvalid_0's ndcg@20: 0.855961\n",
      "[420]\tvalid_0's ndcg@1: 0.736014\tvalid_0's ndcg@5: 0.830795\tvalid_0's ndcg@20: 0.855958\n",
      "[421]\tvalid_0's ndcg@1: 0.735984\tvalid_0's ndcg@5: 0.830781\tvalid_0's ndcg@20: 0.855942\n",
      "[422]\tvalid_0's ndcg@1: 0.736\tvalid_0's ndcg@5: 0.830785\tvalid_0's ndcg@20: 0.855947\n",
      "[423]\tvalid_0's ndcg@1: 0.735994\tvalid_0's ndcg@5: 0.830778\tvalid_0's ndcg@20: 0.855942\n",
      "[424]\tvalid_0's ndcg@1: 0.736009\tvalid_0's ndcg@5: 0.830788\tvalid_0's ndcg@20: 0.85595\n",
      "[425]\tvalid_0's ndcg@1: 0.736039\tvalid_0's ndcg@5: 0.830802\tvalid_0's ndcg@20: 0.855962\n",
      "[426]\tvalid_0's ndcg@1: 0.736017\tvalid_0's ndcg@5: 0.830792\tvalid_0's ndcg@20: 0.855952\n",
      "[427]\tvalid_0's ndcg@1: 0.736019\tvalid_0's ndcg@5: 0.830786\tvalid_0's ndcg@20: 0.85595\n",
      "[428]\tvalid_0's ndcg@1: 0.735989\tvalid_0's ndcg@5: 0.830771\tvalid_0's ndcg@20: 0.855937\n",
      "[429]\tvalid_0's ndcg@1: 0.735976\tvalid_0's ndcg@5: 0.830765\tvalid_0's ndcg@20: 0.85593\n",
      "[430]\tvalid_0's ndcg@1: 0.735995\tvalid_0's ndcg@5: 0.830769\tvalid_0's ndcg@20: 0.85594\n",
      "[431]\tvalid_0's ndcg@1: 0.735948\tvalid_0's ndcg@5: 0.830741\tvalid_0's ndcg@20: 0.855916\n",
      "[432]\tvalid_0's ndcg@1: 0.735966\tvalid_0's ndcg@5: 0.830747\tvalid_0's ndcg@20: 0.855925\n",
      "[433]\tvalid_0's ndcg@1: 0.735965\tvalid_0's ndcg@5: 0.830741\tvalid_0's ndcg@20: 0.855923\n",
      "[434]\tvalid_0's ndcg@1: 0.735991\tvalid_0's ndcg@5: 0.830756\tvalid_0's ndcg@20: 0.855932\n",
      "[435]\tvalid_0's ndcg@1: 0.73602\tvalid_0's ndcg@5: 0.830774\tvalid_0's ndcg@20: 0.85595\n",
      "[436]\tvalid_0's ndcg@1: 0.736014\tvalid_0's ndcg@5: 0.830771\tvalid_0's ndcg@20: 0.855947\n",
      "[437]\tvalid_0's ndcg@1: 0.736014\tvalid_0's ndcg@5: 0.830771\tvalid_0's ndcg@20: 0.855947\n",
      "[438]\tvalid_0's ndcg@1: 0.735999\tvalid_0's ndcg@5: 0.830765\tvalid_0's ndcg@20: 0.855943\n",
      "[439]\tvalid_0's ndcg@1: 0.736002\tvalid_0's ndcg@5: 0.830766\tvalid_0's ndcg@20: 0.855944\n",
      "[440]\tvalid_0's ndcg@1: 0.736002\tvalid_0's ndcg@5: 0.830763\tvalid_0's ndcg@20: 0.855942\n",
      "[441]\tvalid_0's ndcg@1: 0.735993\tvalid_0's ndcg@5: 0.83076\tvalid_0's ndcg@20: 0.855937\n",
      "[442]\tvalid_0's ndcg@1: 0.735981\tvalid_0's ndcg@5: 0.830751\tvalid_0's ndcg@20: 0.855933\n",
      "[443]\tvalid_0's ndcg@1: 0.73603\tvalid_0's ndcg@5: 0.830766\tvalid_0's ndcg@20: 0.855955\n",
      "[444]\tvalid_0's ndcg@1: 0.736059\tvalid_0's ndcg@5: 0.830789\tvalid_0's ndcg@20: 0.855973\n",
      "[445]\tvalid_0's ndcg@1: 0.73609\tvalid_0's ndcg@5: 0.83081\tvalid_0's ndcg@20: 0.855989\n",
      "[446]\tvalid_0's ndcg@1: 0.736038\tvalid_0's ndcg@5: 0.830783\tvalid_0's ndcg@20: 0.855964\n",
      "[447]\tvalid_0's ndcg@1: 0.736074\tvalid_0's ndcg@5: 0.830796\tvalid_0's ndcg@20: 0.855978\n",
      "[448]\tvalid_0's ndcg@1: 0.736083\tvalid_0's ndcg@5: 0.830801\tvalid_0's ndcg@20: 0.855977\n",
      "[449]\tvalid_0's ndcg@1: 0.736068\tvalid_0's ndcg@5: 0.830791\tvalid_0's ndcg@20: 0.855969\n",
      "[450]\tvalid_0's ndcg@1: 0.736104\tvalid_0's ndcg@5: 0.830817\tvalid_0's ndcg@20: 0.85599\n",
      "[451]\tvalid_0's ndcg@1: 0.736093\tvalid_0's ndcg@5: 0.830809\tvalid_0's ndcg@20: 0.855981\n",
      "Early stopping, best iteration is:\n",
      "[351]\tvalid_0's ndcg@1: 0.736226\tvalid_0's ndcg@5: 0.831009\tvalid_0's ndcg@20: 0.856124\n",
      "Evaluated only: ndcg@1\n"
     ]
    },
    {
     "data": {
      "text/plain": [
       "1417"
      ]
     },
     "execution_count": 14,
     "metadata": {},
     "output_type": "execute_result"
    }
   ],
   "source": [
    "params= {\n",
    "    'objective': 'lambdarank',\n",
    "    'boosting_type': 'gbdt',\n",
    "    'num_leaves': 128,\n",
    "    'feature_fraction': 0.2,\n",
    "    'bagging_fraction': 0.2,\n",
    "    'max_bin': 256,\n",
    "    'learning_rate': 0.05,\n",
    "    'metric': 'ndcg',\n",
    "    'eval_at': (1, 5, 20),\n",
    "    'first_metric_only': True\n",
    "}\n",
    "\n",
    "model_lgb = lgb.train(params, lgb_train, valid_sets=[lgb_val], num_boost_round=1000, early_stopping_rounds=100)\n",
    "gc.collect()"
   ]
  },
  {
   "cell_type": "code",
   "execution_count": 15,
   "metadata": {},
   "outputs": [
    {
     "data": {
      "text/plain": [
       "<AxesSubplot:title={'center':'Feature importance'}, xlabel='Feature importance', ylabel='Features'>"
      ]
     },
     "execution_count": 15,
     "metadata": {},
     "output_type": "execute_result"
    },
    {
     "data": {
      "image/png": "[encoded data removed]",
      "text/plain": [
       "<Figure size 432x288 with 1 Axes>"
      ]
     },
     "metadata": {
      "needs_background": "light"
     },
     "output_type": "display_data"
    }
   ],
   "source": [
    "lgb.plot_importance(model_lgb, max_num_features=15)"
   ]
  },
  {
   "cell_type": "code",
   "execution_count": 16,
   "metadata": {},
   "outputs": [
    {
     "data": {
      "text/plain": [
       "array(['product_sku_hash_id_sim', 'product_sku_hash_id_lag4_sim',\n",
       "       'product_sku_hash_id_lag2_sim', 'product_sku_hash_id_imgsim',\n",
       "       'product_sku_hash_id_descsim', 'neg_sku_score',\n",
       "       'product_sku_hash_id_lag2_imgsim',\n",
       "       'product_sku_hash_id_lag4_descsim',\n",
       "       'product_sku_hash_id_lag4_imgsim',\n",
       "       'product_sku_hash_id_lag2_descsim', 'product_sku_hash_id_lag3_sim',\n",
       "       'product_sku_hash_id_lag1_sim', 'product_sku_hash_id_lag5_sim',\n",
       "       'product_sku_hash_id_lag5_imgsim',\n",
       "       'product_sku_hash_id_lag1_descsim'], dtype='<U34')"
      ]
     },
     "execution_count": 16,
     "metadata": {},
     "output_type": "execute_result"
    }
   ],
   "source": [
    "np.array(fea_lambdarank)[[0,4,2,12,6,30,14,10,16,8,3,1,5,17,7]]"
   ]
  },
  {
   "cell_type": "code",
   "execution_count": 17,
   "metadata": {},
   "outputs": [
    {
     "data": {
      "text/plain": [
       "40"
      ]
     },
     "execution_count": 17,
     "metadata": {},
     "output_type": "execute_result"
    }
   ],
   "source": [
    "# this takes too many memory\n",
    "del df_train\n",
    "gc.collect()"
   ]
  },
  {
   "cell_type": "code",
   "execution_count": 18,
   "metadata": {},
   "outputs": [
    {
     "data": {
      "text/plain": [
       "20"
      ]
     },
     "execution_count": 18,
     "metadata": {},
     "output_type": "execute_result"
    }
   ],
   "source": [
    "del lgb_train, lgb_val, dtrain_x, dval_x, dtrain_y, dval_y, dtrain_group, dval_group\n",
    "gc.collect()"
   ]
  },
  {
   "cell_type": "code",
   "execution_count": 19,
   "metadata": {},
   "outputs": [],
   "source": [
    "df_test = pd.read_parquet('df_test_phase2')"
   ]
  },
  {
   "cell_type": "code",
   "execution_count": 20,
   "metadata": {},
   "outputs": [],
   "source": [
    "df_test['n'] = df_test.groupby('session_id_hash').cumcount()\n",
    "df_test['query_id'] = df_test['session_id_hash'] + '_' + df_test['n'].astype(str)"
   ]
  },
  {
   "cell_type": "code",
   "execution_count": 21,
   "metadata": {
    "scrolled": true
   },
   "outputs": [
    {
     "name": "stdout",
     "output_type": "stream",
     "text": [
      "tf.Tensor(100, shape=(), dtype=int32) 23.414361238479614\n",
      "tf.Tensor(200, shape=(), dtype=int32) 42.785645484924316\n",
      "tf.Tensor(300, shape=(), dtype=int32) 62.248645067214966\n"
     ]
    },
    {
     "data": {
      "text/plain": [
       "0"
      ]
     },
     "execution_count": 21,
     "metadata": {},
     "output_type": "execute_result"
    }
   ],
   "source": [
    "# get topK predicted sku list in test set\n",
    "batch_size = 2000\n",
    "tf_test = tf.data.Dataset.from_tensor_slices({'sku':df_test[fea_prod].values, 'url':df_test[fea_url].values}).batch(batch_size)\n",
    "dist_test = strategy.experimental_distribute_dataset(tf_test)\n",
    "\n",
    "# take around 200s\n",
    "s = time.time()\n",
    "\n",
    "neg_sku_list = []\n",
    "score_list = []\n",
    "i = tf.constant(0)\n",
    "topk=tf.constant(20)\n",
    "\n",
    "for x in dist_test:\n",
    "    _sku_ids, _scores = strategy.run(get_topk_pred, args=(model_mlp, x, topk))\n",
    "    score_list.append(_scores)\n",
    "    neg_sku_list.append(_sku_ids)\n",
    "    i += 1\n",
    "    if i % 100 == 0:\n",
    "        print(i, time.time()-s)\n",
    "        \n",
    "neg_sku_list = list(map(lambda x: list(map(list, x.numpy())), neg_sku_list))\n",
    "neg_sku_list = [item for sublist in neg_sku_list for item in sublist]\n",
    "\n",
    "score_list = list(map(lambda x: list(map(list, x.numpy())), score_list))\n",
    "score_list = [item for sublist in score_list for item in sublist]\n",
    "\n",
    "df_test['neg_sku_list'] = neg_sku_list\n",
    "df_test['neg_sku_score'] = score_list\n",
    "del neg_sku_list, score_list\n",
    "gc.collect()"
   ]
  },
  {
   "cell_type": "code",
   "execution_count": 22,
   "metadata": {},
   "outputs": [],
   "source": [
    "# explode df_test with topK sku\n",
    "df_test = df_test.apply(explode).reset_index(drop=True)\n",
    "df_test = df_test.rename(columns = {'neg_sku_list': 'target_sku'})"
   ]
  },
  {
   "cell_type": "code",
   "execution_count": 23,
   "metadata": {
    "scrolled": true
   },
   "outputs": [
    {
     "name": "stdout",
     "output_type": "stream",
     "text": [
      "created product_sku_hash_id_sim\n",
      "created product_sku_hash_id_lag1_sim\n",
      "created product_sku_hash_id_lag2_sim\n",
      "created product_sku_hash_id_lag3_sim\n",
      "created product_sku_hash_id_lag4_sim\n",
      "created product_sku_hash_id_lag5_sim\n",
      "created product_sku_hash_id_descsim\n",
      "created product_sku_hash_id_lag1_descsim\n",
      "created product_sku_hash_id_lag2_descsim\n",
      "created product_sku_hash_id_lag3_descsim\n",
      "created product_sku_hash_id_lag4_descsim\n",
      "created product_sku_hash_id_lag5_descsim\n",
      "created product_sku_hash_id_imgsim\n",
      "created product_sku_hash_id_lag1_imgsim\n",
      "created product_sku_hash_id_lag2_imgsim\n",
      "created product_sku_hash_id_lag3_imgsim\n",
      "created product_sku_hash_id_lag4_imgsim\n",
      "created product_sku_hash_id_lag5_imgsim\n",
      "created product_sku_hash_id_catesame\n",
      "created product_sku_hash_id_lag1_catesame\n",
      "created product_sku_hash_id_lag2_catesame\n",
      "created product_sku_hash_id_lag3_catesame\n",
      "created product_sku_hash_id_lag4_catesame\n",
      "created product_sku_hash_id_lag5_catesame\n",
      "created product_sku_hash_id_pricesame\n",
      "created product_sku_hash_id_lag1_pricesame\n",
      "created product_sku_hash_id_lag2_pricesame\n",
      "created product_sku_hash_id_lag3_pricesame\n",
      "created product_sku_hash_id_lag4_pricesame\n",
      "created product_sku_hash_id_lag5_pricesame\n"
     ]
    }
   ],
   "source": [
    "# add features\n",
    "for matrix, suffix in zip(*[('sku_sim','desc_sim','img_sim','cate_same','price_same'),('_sim','_descsim','_imgsim','_catesame','_pricesame')]):\n",
    "    matrix = np.load(matrix + '_phase2.npy')\n",
    "    add_fea_using_matrix(df_test, matrix, suffix, 'product_sku_hash_id', 'target_sku')\n",
    "    del matrix\n",
    "    gc.collect()"
   ]
  },
  {
   "cell_type": "code",
   "execution_count": 24,
   "metadata": {},
   "outputs": [
    {
     "data": {
      "text/plain": [
       "24"
      ]
     },
     "execution_count": 24,
     "metadata": {},
     "output_type": "execute_result"
    }
   ],
   "source": [
    "# predict for df_test\n",
    "y_pred_test = model_lgb.predict(df_test[fea_lambdarank].values)\n",
    "df_test['label_pred'] = y_pred_test\n",
    "del y_pred_test\n",
    "gc.collect()"
   ]
  },
  {
   "cell_type": "code",
   "execution_count": 25,
   "metadata": {},
   "outputs": [],
   "source": [
    "# sort df_test by query_id, and label_pred descending\n",
    "df_test.sort_values(['query_id','label_pred'], ascending=False, inplace=True)"
   ]
  },
  {
   "cell_type": "code",
   "execution_count": 26,
   "metadata": {},
   "outputs": [],
   "source": [
    "# implode df_test: groupby (query_id, next_sku) agg list\n",
    "df_test_r = pd.DataFrame(df_test.groupby(['query_id', 'session_id_hash','next_interacted_sku', 'next_sku', 'rand_id']).agg({'label_pred':list, 'target_sku': list})).reset_index()\n"
   ]
  },
  {
   "cell_type": "code",
   "execution_count": 27,
   "metadata": {
    "scrolled": true
   },
   "outputs": [
    {
     "data": {
      "application/vnd.jupyter.widget-view+json": {
       "model_id": "346439aa4f144154bc7fd21d57d3f342",
       "version_major": 2,
       "version_minor": 0
      },
      "text/plain": [
       "VBox(children=(HBox(children=(IntProgress(value=0, description='0.00%', max=60807), Label(value='0 / 60807')))…"
      ]
     },
     "metadata": {},
     "output_type": "display_data"
    }
   ],
   "source": [
    "def get_r(x):\n",
    "    try:\n",
    "        return x['target_sku'][0:20].index(x['next_interacted_sku']) + 1\n",
    "    except ValueError:\n",
    "        return 1000000\n",
    "\n",
    "df_test_r['r'] = df_test_r[['target_sku','next_interacted_sku']].parallel_apply(get_r, axis=1)\n",
    "df_test_r['rr'] = 1/df_test_r['r']"
   ]
  },
  {
   "cell_type": "code",
   "execution_count": 28,
   "metadata": {},
   "outputs": [
    {
     "name": "stdout",
     "output_type": "stream",
     "text": [
      "MRR=0.2954\n",
      "325322 out of 729674 records (44.58%) with prediction outside top20\n",
      "---------------------------\n",
      "random pick one per session\n",
      "MRR=0.3473 \n",
      "43991 out of 122524 sessions (35.90%) with prediction outside top20\n"
     ]
    }
   ],
   "source": [
    "topk=tf.constant(20)\n",
    "\n",
    "rr = df_test_r.rr.values\n",
    "print('MRR=%.4f'%np.mean(rr))\n",
    "out_rr = (rr<1/20)\n",
    "print('%d out of %d records (%.2f%%) with prediction outside top%d'%(\n",
    "    out_rr.sum(), out_rr.shape[0], (out_rr.mean())*100., topk.numpy()), flush=True)\n",
    "\n",
    "print('---------------------------')\n",
    "print('random pick one per session')\n",
    "cond = df_test_r.groupby(['session_id_hash'])['rand_id'].transform(min) == df_test_r['rand_id']\n",
    "print('MRR=%.4f ' % np.mean(rr[cond]))\n",
    "print('%d out of %d sessions (%.2f%%) with prediction outside top%d'%(\n",
    "    out_rr[cond].sum(), out_rr[cond].shape[0], (out_rr[cond].mean())*100., topk.numpy()), flush=True)"
   ]
  },
  {
   "cell_type": "code",
   "execution_count": 29,
   "metadata": {},
   "outputs": [
    {
     "data": {
      "text/plain": [
       "40"
      ]
     },
     "execution_count": 29,
     "metadata": {},
     "output_type": "execute_result"
    }
   ],
   "source": [
    "del df_test, df_test_r\n",
    "# del model_lgb\n",
    "gc.collect()"
   ]
  },
  {
   "cell_type": "markdown",
   "metadata": {},
   "source": [
    "## prepare submission"
   ]
  },
  {
   "cell_type": "code",
   "execution_count": 30,
   "metadata": {},
   "outputs": [],
   "source": [
    "df_submission = pd.read_parquet('df_submission_phase2')"
   ]
  },
  {
   "cell_type": "code",
   "execution_count": 31,
   "metadata": {},
   "outputs": [
    {
     "data": {
      "text/html": [
       "<div>\n",
       "<style scoped>\n",
       "    .dataframe tbody tr th:only-of-type {\n",
       "        vertical-align: middle;\n",
       "    }\n",
       "\n",
       "    .dataframe tbody tr th {\n",
       "        vertical-align: top;\n",
       "    }\n",
       "\n",
       "    .dataframe thead th {\n",
       "        text-align: right;\n",
       "    }\n",
       "</style>\n",
       "<table border=\"1\" class=\"dataframe\">\n",
       "  <thead>\n",
       "    <tr style=\"text-align: right;\">\n",
       "      <th></th>\n",
       "      <th>session_id_hash</th>\n",
       "      <th>event_type</th>\n",
       "      <th>product_action</th>\n",
       "      <th>product_sku_hash</th>\n",
       "      <th>server_timestamp_epoch_ms</th>\n",
       "      <th>hashed_url</th>\n",
       "      <th>train</th>\n",
       "      <th>server_day</th>\n",
       "      <th>product_sku_hash_id</th>\n",
       "      <th>hashed_url_id</th>\n",
       "      <th>...</th>\n",
       "      <th>product_sku_hash_id_lag4</th>\n",
       "      <th>product_sku_hash_id_lag5</th>\n",
       "      <th>hashed_url_id_lag1</th>\n",
       "      <th>hashed_url_id_lag2</th>\n",
       "      <th>hashed_url_id_lag3</th>\n",
       "      <th>hashed_url_id_lag4</th>\n",
       "      <th>hashed_url_id_lag5</th>\n",
       "      <th>next_sku</th>\n",
       "      <th>next_interacted_sku</th>\n",
       "      <th>rand_id</th>\n",
       "    </tr>\n",
       "  </thead>\n",
       "  <tbody>\n",
       "    <tr>\n",
       "      <th>0</th>\n",
       "      <td>000001cc2b6d024f5c1d93536c2f22e7adb3f390ff0212...</td>\n",
       "      <td>event_product</td>\n",
       "      <td>detail</td>\n",
       "      <td>bcec4bf55cb2f4db39c5879275c5ed222beb4b2594d4ad...</td>\n",
       "      <td>2019-05-07 16:47:35.055</td>\n",
       "      <td>8b1bbbcf517f7a82d881a9bc3683043946b6b289f5afd7...</td>\n",
       "      <td>0</td>\n",
       "      <td>2019-05-07</td>\n",
       "      <td>30687</td>\n",
       "      <td>132246</td>\n",
       "      <td>...</td>\n",
       "      <td>26085</td>\n",
       "      <td>26085</td>\n",
       "      <td>243408</td>\n",
       "      <td>243408</td>\n",
       "      <td>243408</td>\n",
       "      <td>243408</td>\n",
       "      <td>243408</td>\n",
       "      <td>26085</td>\n",
       "      <td>26085.0</td>\n",
       "      <td>0</td>\n",
       "    </tr>\n",
       "    <tr>\n",
       "      <th>1</th>\n",
       "      <td>000064267054198e2f5744100c27111c0d0d585dd73e7e...</td>\n",
       "      <td>event_product</td>\n",
       "      <td>detail</td>\n",
       "      <td>9ce84651a32cf3e8bf5dd782f3664693b92403e7abc8d2...</td>\n",
       "      <td>2019-04-26 03:47:46.867</td>\n",
       "      <td>a8edd7e105e2bc9be3ac8d5aa5737b1ad19d4de4459679...</td>\n",
       "      <td>0</td>\n",
       "      <td>2019-04-26</td>\n",
       "      <td>25574</td>\n",
       "      <td>160737</td>\n",
       "      <td>...</td>\n",
       "      <td>26085</td>\n",
       "      <td>26085</td>\n",
       "      <td>66297</td>\n",
       "      <td>243408</td>\n",
       "      <td>243408</td>\n",
       "      <td>243408</td>\n",
       "      <td>243408</td>\n",
       "      <td>26085</td>\n",
       "      <td>26085.0</td>\n",
       "      <td>0</td>\n",
       "    </tr>\n",
       "    <tr>\n",
       "      <th>2</th>\n",
       "      <td>0000976bb88afb92b355acdad71a8951472b1c611d31c4...</td>\n",
       "      <td>pageview</td>\n",
       "      <td>None</td>\n",
       "      <td>_</td>\n",
       "      <td>2019-05-04 18:36:52.459</td>\n",
       "      <td>22c1ce2d23943c5180f95685abe9b0ce6d2046a6586c18...</td>\n",
       "      <td>0</td>\n",
       "      <td>2019-05-04</td>\n",
       "      <td>26085</td>\n",
       "      <td>32992</td>\n",
       "      <td>...</td>\n",
       "      <td>26085</td>\n",
       "      <td>26085</td>\n",
       "      <td>243407</td>\n",
       "      <td>32992</td>\n",
       "      <td>16335</td>\n",
       "      <td>32992</td>\n",
       "      <td>5166</td>\n",
       "      <td>26085</td>\n",
       "      <td>26085.0</td>\n",
       "      <td>8</td>\n",
       "    </tr>\n",
       "    <tr>\n",
       "      <th>3</th>\n",
       "      <td>00009b888f49f538ee3efe2a897e96ce98003b8a9f9f70...</td>\n",
       "      <td>event_product</td>\n",
       "      <td>detail</td>\n",
       "      <td>fa2f22b63f20f974310deec8da2c76b6fb0057683a0cea...</td>\n",
       "      <td>2019-05-07 15:20:54.646</td>\n",
       "      <td>56cd97d94a4bd9f558d2a816e8ae23ceffe36b0b99ed44...</td>\n",
       "      <td>0</td>\n",
       "      <td>2019-05-07</td>\n",
       "      <td>40511</td>\n",
       "      <td>82535</td>\n",
       "      <td>...</td>\n",
       "      <td>26085</td>\n",
       "      <td>26085</td>\n",
       "      <td>221005</td>\n",
       "      <td>221005</td>\n",
       "      <td>64034</td>\n",
       "      <td>24339</td>\n",
       "      <td>243408</td>\n",
       "      <td>26085</td>\n",
       "      <td>26085.0</td>\n",
       "      <td>4</td>\n",
       "    </tr>\n",
       "    <tr>\n",
       "      <th>4</th>\n",
       "      <td>0000b30a047691fe5754ff7371fa94df09bf39b8745f94...</td>\n",
       "      <td>event_product</td>\n",
       "      <td>detail</td>\n",
       "      <td>409308a78b45af2d988eef583eb35a80cb5c89f294f771...</td>\n",
       "      <td>2019-04-25 17:34:06.282</td>\n",
       "      <td>61b436fd7cccddb68485f7d0825d1c9d0dec0a1b49f7c6...</td>\n",
       "      <td>0</td>\n",
       "      <td>2019-04-25</td>\n",
       "      <td>10586</td>\n",
       "      <td>92995</td>\n",
       "      <td>...</td>\n",
       "      <td>26085</td>\n",
       "      <td>26085</td>\n",
       "      <td>243408</td>\n",
       "      <td>243408</td>\n",
       "      <td>243408</td>\n",
       "      <td>243408</td>\n",
       "      <td>243408</td>\n",
       "      <td>26085</td>\n",
       "      <td>26085.0</td>\n",
       "      <td>0</td>\n",
       "    </tr>\n",
       "  </tbody>\n",
       "</table>\n",
       "<p>5 rows × 23 columns</p>\n",
       "</div>"
      ],
      "text/plain": [
       "                                     session_id_hash     event_type  \\\n",
       "0  000001cc2b6d024f5c1d93536c2f22e7adb3f390ff0212...  event_product   \n",
       "1  000064267054198e2f5744100c27111c0d0d585dd73e7e...  event_product   \n",
       "2  0000976bb88afb92b355acdad71a8951472b1c611d31c4...       pageview   \n",
       "3  00009b888f49f538ee3efe2a897e96ce98003b8a9f9f70...  event_product   \n",
       "4  0000b30a047691fe5754ff7371fa94df09bf39b8745f94...  event_product   \n",
       "\n",
       "  product_action                                   product_sku_hash  \\\n",
       "0         detail  bcec4bf55cb2f4db39c5879275c5ed222beb4b2594d4ad...   \n",
       "1         detail  9ce84651a32cf3e8bf5dd782f3664693b92403e7abc8d2...   \n",
       "2           None                                                  _   \n",
       "3         detail  fa2f22b63f20f974310deec8da2c76b6fb0057683a0cea...   \n",
       "4         detail  409308a78b45af2d988eef583eb35a80cb5c89f294f771...   \n",
       "\n",
       "  server_timestamp_epoch_ms  \\\n",
       "0   2019-05-07 16:47:35.055   \n",
       "1   2019-04-26 03:47:46.867   \n",
       "2   2019-05-04 18:36:52.459   \n",
       "3   2019-05-07 15:20:54.646   \n",
       "4   2019-04-25 17:34:06.282   \n",
       "\n",
       "                                          hashed_url  train  server_day  \\\n",
       "0  8b1bbbcf517f7a82d881a9bc3683043946b6b289f5afd7...      0  2019-05-07   \n",
       "1  a8edd7e105e2bc9be3ac8d5aa5737b1ad19d4de4459679...      0  2019-04-26   \n",
       "2  22c1ce2d23943c5180f95685abe9b0ce6d2046a6586c18...      0  2019-05-04   \n",
       "3  56cd97d94a4bd9f558d2a816e8ae23ceffe36b0b99ed44...      0  2019-05-07   \n",
       "4  61b436fd7cccddb68485f7d0825d1c9d0dec0a1b49f7c6...      0  2019-04-25   \n",
       "\n",
       "   product_sku_hash_id  hashed_url_id  ...  product_sku_hash_id_lag4  \\\n",
       "0                30687         132246  ...                     26085   \n",
       "1                25574         160737  ...                     26085   \n",
       "2                26085          32992  ...                     26085   \n",
       "3                40511          82535  ...                     26085   \n",
       "4                10586          92995  ...                     26085   \n",
       "\n",
       "   product_sku_hash_id_lag5  hashed_url_id_lag1  hashed_url_id_lag2  \\\n",
       "0                     26085              243408              243408   \n",
       "1                     26085               66297              243408   \n",
       "2                     26085              243407               32992   \n",
       "3                     26085              221005              221005   \n",
       "4                     26085              243408              243408   \n",
       "\n",
       "   hashed_url_id_lag3  hashed_url_id_lag4  hashed_url_id_lag5  next_sku  \\\n",
       "0              243408              243408              243408     26085   \n",
       "1              243408              243408              243408     26085   \n",
       "2               16335               32992                5166     26085   \n",
       "3               64034               24339              243408     26085   \n",
       "4              243408              243408              243408     26085   \n",
       "\n",
       "   next_interacted_sku  rand_id  \n",
       "0              26085.0        0  \n",
       "1              26085.0        0  \n",
       "2              26085.0        8  \n",
       "3              26085.0        4  \n",
       "4              26085.0        0  \n",
       "\n",
       "[5 rows x 23 columns]"
      ]
     },
     "execution_count": 31,
     "metadata": {},
     "output_type": "execute_result"
    }
   ],
   "source": [
    "df_submission.head()"
   ]
  },
  {
   "cell_type": "code",
   "execution_count": 32,
   "metadata": {},
   "outputs": [
    {
     "name": "stdout",
     "output_type": "stream",
     "text": [
      "tf.Tensor(100, shape=(), dtype=int32) 19.632309675216675\n"
     ]
    },
    {
     "data": {
      "text/plain": [
       "0"
      ]
     },
     "execution_count": 32,
     "metadata": {},
     "output_type": "execute_result"
    }
   ],
   "source": [
    "# get topK predicted sku list in test set\n",
    "batch_size = 2000\n",
    "tf_submission = tf.data.Dataset.from_tensor_slices({'sku':df_submission[fea_prod].values, 'url':df_submission[fea_url].values}).batch(batch_size)\n",
    "dist_submission = strategy.experimental_distribute_dataset(tf_submission)\n",
    "\n",
    "# take around 200s\n",
    "s = time.time()\n",
    "\n",
    "neg_sku_list = []\n",
    "score_list = []\n",
    "i = tf.constant(0)\n",
    "topk=tf.constant(20)\n",
    "\n",
    "for x in dist_submission:\n",
    "    _sku_ids, _scores = strategy.run(get_topk_pred, args=(model_mlp, x, topk))\n",
    "    score_list.append(_scores)\n",
    "    neg_sku_list.append(_sku_ids)\n",
    "    i += 1\n",
    "    if i % 100 == 0:\n",
    "        print(i, time.time()-s)\n",
    "        \n",
    "neg_sku_list = list(map(lambda x: list(map(list, x.numpy())), neg_sku_list))\n",
    "neg_sku_list = [item for sublist in neg_sku_list for item in sublist]\n",
    "\n",
    "score_list = list(map(lambda x: list(map(list, x.numpy())), score_list))\n",
    "score_list = [item for sublist in score_list for item in sublist]\n",
    "\n",
    "df_submission['neg_sku_list'] = neg_sku_list\n",
    "df_submission['neg_sku_score'] = score_list\n",
    "del neg_sku_list, score_list\n",
    "gc.collect()"
   ]
  },
  {
   "cell_type": "code",
   "execution_count": 33,
   "metadata": {},
   "outputs": [],
   "source": [
    "df_submission = df_submission.apply(explode).reset_index(drop=True)\n",
    "df_submission = df_submission.rename(columns = {'neg_sku_list': 'target_sku'})"
   ]
  },
  {
   "cell_type": "code",
   "execution_count": 34,
   "metadata": {},
   "outputs": [
    {
     "name": "stdout",
     "output_type": "stream",
     "text": [
      "created product_sku_hash_id_sim\n",
      "created product_sku_hash_id_lag1_sim\n",
      "created product_sku_hash_id_lag2_sim\n",
      "created product_sku_hash_id_lag3_sim\n",
      "created product_sku_hash_id_lag4_sim\n",
      "created product_sku_hash_id_lag5_sim\n",
      "created product_sku_hash_id_descsim\n",
      "created product_sku_hash_id_lag1_descsim\n",
      "created product_sku_hash_id_lag2_descsim\n",
      "created product_sku_hash_id_lag3_descsim\n",
      "created product_sku_hash_id_lag4_descsim\n",
      "created product_sku_hash_id_lag5_descsim\n",
      "created product_sku_hash_id_imgsim\n",
      "created product_sku_hash_id_lag1_imgsim\n",
      "created product_sku_hash_id_lag2_imgsim\n",
      "created product_sku_hash_id_lag3_imgsim\n",
      "created product_sku_hash_id_lag4_imgsim\n",
      "created product_sku_hash_id_lag5_imgsim\n",
      "created product_sku_hash_id_catesame\n",
      "created product_sku_hash_id_lag1_catesame\n",
      "created product_sku_hash_id_lag2_catesame\n",
      "created product_sku_hash_id_lag3_catesame\n",
      "created product_sku_hash_id_lag4_catesame\n",
      "created product_sku_hash_id_lag5_catesame\n",
      "created product_sku_hash_id_pricesame\n",
      "created product_sku_hash_id_lag1_pricesame\n",
      "created product_sku_hash_id_lag2_pricesame\n",
      "created product_sku_hash_id_lag3_pricesame\n",
      "created product_sku_hash_id_lag4_pricesame\n",
      "created product_sku_hash_id_lag5_pricesame\n"
     ]
    }
   ],
   "source": [
    "# add features\n",
    "for matrix, suffix in zip(*[('sku_sim','desc_sim','img_sim','cate_same','price_same'),('_sim','_descsim','_imgsim','_catesame','_pricesame')]):\n",
    "    matrix = np.load(matrix + '_phase2.npy')\n",
    "    add_fea_using_matrix(df_submission, matrix, suffix, 'product_sku_hash_id', 'target_sku')\n",
    "    del matrix\n",
    "    gc.collect()"
   ]
  },
  {
   "cell_type": "code",
   "execution_count": 35,
   "metadata": {},
   "outputs": [],
   "source": [
    "# predict for df_submission\n",
    "y_pred_sub = model_lgb.predict(df_submission[fea_lambdarank].values)\n",
    "df_submission['label_pred'] = y_pred_sub\n",
    "del y_pred_sub\n",
    "gc.collect()\n",
    "\n",
    "# sort df_test by query_id, and label_pred descending\n",
    "df_submission.sort_values(['session_id_hash','label_pred'], ascending=False, inplace=True)\n",
    "df_submission = pd.DataFrame(df_submission.groupby(['session_id_hash',]).agg({'label_pred':list, 'target_sku': list})).reset_index()\n"
   ]
  },
  {
   "cell_type": "code",
   "execution_count": 36,
   "metadata": {
    "scrolled": true
   },
   "outputs": [],
   "source": [
    "test_file='./data/rec_test_phase_2.json'\n",
    "with open(test_file) as json_file:\n",
    "    # read the test cases from the provided file\n",
    "    test_queries = json.load(json_file)"
   ]
  },
  {
   "cell_type": "code",
   "execution_count": 37,
   "metadata": {},
   "outputs": [],
   "source": [
    "def set_submission(q):\n",
    "    sess_id = q['query'][0]['session_id_hash']\n",
    "    try:\n",
    "        next_sku_id = df_submission.loc[df_submission.session_id_hash == sess_id, 'target_sku'].values[0][0:20]\n",
    "        next_sku = skucate.categories[next_sku_id].tolist()\n",
    "    except (ValueError, IndexError):\n",
    "        # query with only search events not exists in df_test\n",
    "        next_sku = np.random.choice(skucate.categories, 20, False).tolist()\n",
    "    \n",
    "    # copy the test case\n",
    "    _pred = dict(q)\n",
    "\n",
    "    # append the label - which needs to be a list\n",
    "    _pred[\"label\"] = next_sku\n",
    "    return _pred\n"
   ]
  },
  {
   "cell_type": "code",
   "execution_count": 38,
   "metadata": {
    "scrolled": true
   },
   "outputs": [
    {
     "data": {
      "application/vnd.jupyter.widget-view+json": {
       "model_id": "826f3f20a0e54ad9b692c4ef4345f777",
       "version_major": 2,
       "version_minor": 0
      },
      "text/plain": [
       "  0%|          | 0/332247 [00:00<?, ?it/s]"
      ]
     },
     "metadata": {},
     "output_type": "display_data"
    }
   ],
   "source": [
    "my_predictions = Parallel(n_jobs=multiprocessing.cpu_count(), backend='multiprocessing')(delayed(set_submission)(q) for q in tqdm(test_queries))\n",
    "# check for consistency\n",
    "assert len(my_predictions) == len(test_queries)\n",
    "# print out some \"coverage\"\n",
    "# print(\"Predictions made in {} out of {} total test cases\".format(cnt_preds, len(test_queries)))"
   ]
  },
  {
   "cell_type": "code",
   "execution_count": 39,
   "metadata": {},
   "outputs": [],
   "source": [
    "EMAIL = ''\n",
    "local_prediction_file = '{}_{}.json'.format(EMAIL.replace('@', '_'), round(time.time() * 1000))\n",
    "# dump to file\n",
    "with open(local_prediction_file, 'w') as outfile:\n",
    "    json.dump(my_predictions, outfile, indent=2)"
   ]
  },
  {
   "cell_type": "code",
   "execution_count": 40,
   "metadata": {},
   "outputs": [
    {
     "name": "stdout",
     "output_type": "stream",
     "text": [
      "louiskitlung_connect.hku.hk_1623862966134.json\n"
     ]
    }
   ],
   "source": [
    "print(local_prediction_file)"
   ]
  },
  {
   "cell_type": "code",
   "execution_count": 41,
   "metadata": {},
   "outputs": [],
   "source": [
    "from dotenv import load_dotenv\n",
    "from datetime import datetime\n",
    "import boto3\n",
    "load_dotenv(verbose=True, dotenv_path='./submission/upload.env')\n",
    "\n",
    "BUCKET_NAME = os.getenv('BUCKET_NAME') # you received it in your e-mail\n",
    "EMAIL = os.getenv('EMAIL') # the e-mail you used to sign up\n",
    "PARTICIPANT_ID = os.getenv('PARTICIPANT_ID') # you received it in your e-mail\n",
    "AWS_ACCESS_KEY = os.getenv('AWS_ACCESS_KEY') # you received it in your e-mail\n",
    "AWS_SECRET_KEY = os.getenv('AWS_SECRET_KEY') # you received it in your e-mail\n",
    "\n",
    "def upload_submission(\n",
    "        local_file: str,\n",
    "        task: str\n",
    "):\n",
    "    \"\"\"\n",
    "    Thanks to Alex Egg for catching the bug!\n",
    "\n",
    "    :param local_file: local path, may be only the file name or a full path\n",
    "    :param task: rec or cart\n",
    "    :return:\n",
    "    \"\"\"\n",
    "\n",
    "    print(\"Starting submission at {}...\\n\".format(datetime.utcnow()))\n",
    "    # instantiate boto3 client\n",
    "    s3_client = boto3.client(\n",
    "        's3',\n",
    "        aws_access_key_id=AWS_ACCESS_KEY ,\n",
    "        aws_secret_access_key=AWS_SECRET_KEY,\n",
    "        region_name='us-west-2'\n",
    "    )\n",
    "    s3_file_name = os.path.basename(local_file)\n",
    "    # prepare s3 path according to the spec\n",
    "    s3_file_path = '{}/{}/{}'.format(task, PARTICIPANT_ID, s3_file_name)  # it needs to be like e.g. \"rec/id/*.json\"\n",
    "    # upload file\n",
    "    s3_client.upload_file(local_file, BUCKET_NAME, s3_file_path)\n",
    "    # say bye\n",
    "    print(\"\\nAll done at {}: see you, space cowboy!\".format(datetime.utcnow()))\n",
    "\n",
    "    return\n"
   ]
  },
  {
   "cell_type": "code",
   "execution_count": 42,
   "metadata": {},
   "outputs": [
    {
     "name": "stdout",
     "output_type": "stream",
     "text": [
      "Starting submission at 2021-06-16 17:03:10.898764...\n",
      "\n",
      "\n",
      "All done at 2021-06-16 17:03:26.666983: see you, space cowboy!\n"
     ]
    }
   ],
   "source": [
    "upload_submission(local_file=local_prediction_file, task='rec')"
   ]
  },
  {
   "cell_type": "code",
   "execution_count": 43,
   "metadata": {},
   "outputs": [
    {
     "name": "stdout",
     "output_type": "stream",
     "text": [
      "Wed Jun 16 17:03:26 UTC 2021\r\n"
     ]
    }
   ],
   "source": [
    "!date"
   ]
  },
  {
   "cell_type": "code",
   "execution_count": null,
   "metadata": {},
   "outputs": [],
   "source": []
  }
 ],
 "metadata": {
  "kernelspec": {
   "display_name": "Python [conda env:tensorflow2_latest_p37] *",
   "language": "python",
   "name": "conda-env-tensorflow2_latest_p37-py"
  },
  "language_info": {
   "codemirror_mode": {
    "name": "ipython",
    "version": 3
   },
   "file_extension": ".py",
   "mimetype": "text/x-python",
   "name": "python",
   "nbconvert_exporter": "python",
   "pygments_lexer": "ipython3",
   "version": "3.7.10"
  }
 },
 "nbformat": 4,
 "nbformat_minor": 2
}
